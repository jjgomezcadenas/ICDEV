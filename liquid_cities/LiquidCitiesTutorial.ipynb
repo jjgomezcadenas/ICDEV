{
 "cells": [
  {
   "cell_type": "markdown",
   "metadata": {},
   "source": [
    "# Liquid cities tutorial"
   ]
  },
  {
   "cell_type": "code",
   "execution_count": 1,
   "metadata": {},
   "outputs": [
    {
     "name": "stdout",
     "output_type": "stream",
     "text": [
      "2018-02-14 18:28:01\n"
     ]
    }
   ],
   "source": [
    "import os\n",
    "import datetime\n",
    "print(datetime.datetime.now().strftime('%Y-%m-%d %H:%M:%S'))\n",
    "\n",
    "import time\n",
    "import glob\n",
    "import tables as tb\n",
    "import numpy as np\n",
    "import numpy.testing as npt\n",
    "import pandas as pd\n",
    "import matplotlib.pyplot as plt\n",
    "from functools import reduce\n",
    "%matplotlib inline\n",
    "%load_ext autoreload\n",
    "%autoreload 2\n",
    "\n",
    "plt.rcParams[\"figure.figsize\"] = 10, 8\n",
    "plt.rcParams[\"font.size\"     ] = 14"
   ]
  },
  {
   "cell_type": "code",
   "execution_count": 2,
   "metadata": {
    "collapsed": true
   },
   "outputs": [],
   "source": [
    "import invisible_cities.dataflow.dataflow as fl\n",
    "from invisible_cities.sierpe  import fee as FE\n",
    "import invisible_cities.core.system_of_units as units"
   ]
  },
  {
   "cell_type": "code",
   "execution_count": 3,
   "metadata": {
    "collapsed": true
   },
   "outputs": [],
   "source": [
    "from functools   import wraps\n",
    "from functools   import reduce\n",
    "from contextlib  import contextmanager\n",
    "from collections import namedtuple\n",
    "from typing import  NamedTuple"
   ]
  },
  {
   "cell_type": "markdown",
   "metadata": {},
   "source": [
    "## Tutorial"
   ]
  },
  {
   "cell_type": "markdown",
   "metadata": {},
   "source": [
    "### Analysis flow"
   ]
  },
  {
   "cell_type": "markdown",
   "metadata": {},
   "source": [
    "- Generation of toy waveforms representing the impulse response of a PMT\n",
    "- Convolution with the FEE\n",
    "- Deconvolution\n",
    "- Comparison of the area of the original function with the area of the deconvoluted function"
   ]
  },
  {
   "cell_type": "markdown",
   "metadata": {},
   "source": [
    "#### Waveform representation"
   ]
  },
  {
   "cell_type": "code",
   "execution_count": 8,
   "metadata": {
    "collapsed": true
   },
   "outputs": [],
   "source": [
    "class Waveform(NamedTuple):\n",
    "    t   : np.ndarray\n",
    "    q   : np.ndarray"
   ]
  },
  {
   "cell_type": "markdown",
   "metadata": {},
   "source": [
    "#### A toy waveform function"
   ]
  },
  {
   "cell_type": "markdown",
   "metadata": {},
   "source": [
    "- Simulate signal as a simple saw-function\n",
    "- The effect of the electronics is (to first order) a HPF that introduces a derivative in the waveform"
   ]
  },
  {
   "cell_type": "markdown",
   "metadata": {},
   "source": [
    "#### FEE instance (no noise)"
   ]
  },
  {
   "cell_type": "code",
   "execution_count": 53,
   "metadata": {
    "collapsed": true
   },
   "outputs": [],
   "source": [
    "fee_nn = FE.FEE(noise_FEEPMB_rms=0*units.mA, noise_DAQ_rms=0)"
   ]
  },
  {
   "cell_type": "markdown",
   "metadata": {},
   "source": [
    "#### FEE instance including noise"
   ]
  },
  {
   "cell_type": "code",
   "execution_count": 54,
   "metadata": {
    "collapsed": true
   },
   "outputs": [],
   "source": [
    "fee = FE.FEE(noise_FEEPMB_rms=1*FE.NOISE_I,noise_DAQ_rms=FE.NOISE_DAQ)"
   ]
  },
  {
   "cell_type": "code",
   "execution_count": 71,
   "metadata": {
    "collapsed": true
   },
   "outputs": [],
   "source": [
    "def input_and_fee_waveforms(fee):\n",
    "    \"\"\"\n",
    "    generates a \"theoretical\" current signal (signal_i)\n",
    "    \"\"\"\n",
    "    signal_i = np.concatenate((np.zeros(1000),np.linspace(0,0.5,2000),np.linspace(0.5,0,1000),\n",
    "                            np.linspace(0,1,1000),np.linspace(1,0,2000),\n",
    "                            np.linspace(0,1,2000),np.linspace(1,0,2000),\n",
    "                            np.zeros(20000)),axis=0)*units.mA\n",
    "    \n",
    "    t = np.arange(0,np.size(signal_i),1) * units.ns\n",
    "    signal_out = FE.signal_v_fee(fee, signal_i, -1) * FE.v_to_adc()\n",
    "    signal_out2 = FE.noise_adc(fee, signal_out)\n",
    "    \n",
    "    return Waveform(t, signal_i*FE.i_to_adc()), Waveform(t, signal_out2) "
   ]
  },
  {
   "cell_type": "code",
   "execution_count": 72,
   "metadata": {
    "collapsed": true
   },
   "outputs": [],
   "source": [
    "wf_i, wf_o = input_and_fee_waveforms(fee)"
   ]
  },
  {
   "cell_type": "code",
   "execution_count": 73,
   "metadata": {},
   "outputs": [
    {
     "data": {
      "text/plain": [
       "<matplotlib.text.Text at 0x1211b5e10>"
      ]
     },
     "execution_count": 73,
     "metadata": {},
     "output_type": "execute_result"
    },
    {
     "data": {
      "image/png": "[encoded data removed]",
      "text/plain": [
       "<matplotlib.figure.Figure at 0x1219665c0>"
      ]
     },
     "metadata": {},
     "output_type": "display_data"
    }
   ],
   "source": [
    "plt.plot(wf_i.t,wf_i.q,'b')\n",
    "plt.plot(wf_o.t,wf_o.q,'r')\n",
    "plt.grid(True)\n",
    "plt.xlabel(r't (ns)')\n",
    "plt.ylabel(r'i (adc)')"
   ]
  },
  {
   "cell_type": "markdown",
   "metadata": {},
   "source": [
    "- blue: original waveform\n",
    "- red : waveform after FEE electronics"
   ]
  },
  {
   "cell_type": "code",
   "execution_count": 74,
   "metadata": {},
   "outputs": [
    {
     "name": "stdout",
     "output_type": "stream",
     "text": [
      "TOTAL out noise (LSB_rms) = 0.8699813176718617\n"
     ]
    }
   ],
   "source": [
    "print(\"TOTAL out noise (LSB_rms) = {}\".format(np.std(wf_o.q[25000:26000],ddof=1)))\n"
   ]
  },
  {
   "cell_type": "markdown",
   "metadata": {},
   "source": [
    "### Deconvolution"
   ]
  },
  {
   "cell_type": "markdown",
   "metadata": {},
   "source": [
    "- In the absence of noise, a simple deconvolution (deconv_simple) is sufficient."
   ]
  },
  {
   "cell_type": "code",
   "execution_count": 67,
   "metadata": {},
   "outputs": [
    {
     "name": "stdout",
     "output_type": "stream",
     "text": [
      "deconvolution coefficient = 0.0019240095125518364\n"
     ]
    }
   ],
   "source": [
    "print('deconvolution coefficient = {}'.format(fee.freq_LHPFd*np.pi))"
   ]
  },
  {
   "cell_type": "code",
   "execution_count": 46,
   "metadata": {
    "collapsed": true
   },
   "outputs": [],
   "source": [
    "def deconv_simple(signal,coef):\n",
    "    \"\"\"\n",
    "    Deconvolution of the fine-grained fee signal (no DAQ)\n",
    "    no noise\n",
    "    using true start and end of signals\n",
    "    \"\"\"\n",
    "\n",
    "    acum = np.zeros(len(signal))\n",
    "\n",
    "    acum[0]=coef*signal[0]\n",
    "    for n in np.arange(1,len(signal)):\n",
    "        acum[n] = acum[n-1] + signal[n]\n",
    "\n",
    "    signal_r = signal + coef*acum\n",
    "\n",
    "    return signal_r, acum"
   ]
  },
  {
   "cell_type": "code",
   "execution_count": 47,
   "metadata": {
    "collapsed": true
   },
   "outputs": [],
   "source": [
    "def blr(fee, wf):\n",
    "    coef = fee.freq_LHPFd*np.pi\n",
    "    signal_out_cf = FE.signal_clean(fee, wf.q, -1)\n",
    "    signal_r, _ = deconv_simple(signal_out_cf,coef)\n",
    "    return Waveform(wf.t, signal_r)\n",
    "    "
   ]
  },
  {
   "cell_type": "code",
   "execution_count": 75,
   "metadata": {},
   "outputs": [],
   "source": [
    "wf_r = blr(fee, wf_o)"
   ]
  },
  {
   "cell_type": "code",
   "execution_count": 76,
   "metadata": {},
   "outputs": [
    {
     "data": {
      "text/plain": [
       "<matplotlib.text.Text at 0x121d6d908>"
      ]
     },
     "execution_count": 76,
     "metadata": {},
     "output_type": "execute_result"
    },
    {
     "data": {
      "image/png": "[encoded data removed]",
      "text/plain": [
       "<matplotlib.figure.Figure at 0x121c5a860>"
      ]
     },
     "metadata": {},
     "output_type": "display_data"
    }
   ],
   "source": [
    "plt.plot(wf_i.t,wf_i.q,'b')\n",
    "plt.plot(wf_o.t,wf_o.q,'r')\n",
    "plt.plot(wf_r.t,wf_r.q,'k--')\n",
    "plt.grid(True)\n",
    "plt.xlabel(r't (ns)')\n",
    "plt.ylabel(r'i (adc)')"
   ]
  },
  {
   "cell_type": "markdown",
   "metadata": {},
   "source": [
    "- blue : original\n",
    "- red  : convoluted with FEE\n",
    "- black: deconvoluted "
   ]
  },
  {
   "cell_type": "markdown",
   "metadata": {},
   "source": [
    "#### Compare area of deconvoluted and original: show that difference is very small"
   ]
  },
  {
   "cell_type": "code",
   "execution_count": 50,
   "metadata": {},
   "outputs": [],
   "source": [
    "def energy_comparison(wf_i, wf_r):\n",
    "    energy_r = np.sum(wf_r.q[1000:11000])\n",
    "    energy_i = np.sum(wf_i.q)\n",
    "    return 100 * abs(energy_i - energy_r)/energy_i"
   ]
  },
  {
   "cell_type": "code",
   "execution_count": 96,
   "metadata": {
    "collapsed": true
   },
   "outputs": [],
   "source": [
    "def noise_calculation(wf_fee):\n",
    "    return np.std(wf_fee.q[25000:26000],ddof=1)\n",
    "    "
   ]
  },
  {
   "cell_type": "code",
   "execution_count": 77,
   "metadata": {},
   "outputs": [
    {
     "name": "stdout",
     "output_type": "stream",
     "text": [
      "Error in Energy Computation (%) = 0.04224976503519282\n"
     ]
    }
   ],
   "source": [
    "energy_diff = energy_comparison(wf_i, wf_r)\n",
    "print('Error in Energy Computation (%) = {}'.format(energy_diff))"
   ]
  },
  {
   "cell_type": "markdown",
   "metadata": {},
   "source": [
    "## Loop based analysis"
   ]
  },
  {
   "cell_type": "code",
   "execution_count": 97,
   "metadata": {},
   "outputs": [],
   "source": [
    "events_to_run = 100\n",
    "ediff = []\n",
    "noise = []\n",
    "\n",
    "for event_number in range(events_to_run):\n",
    "    wf_i, wf_fee =input_and_fee_waveforms(fee)\n",
    "    wf_r         = blr(fee, wf_fee)\n",
    "    \n",
    "    ediff.append(energy_comparison(wf_i, wf_r))\n",
    "    noise.append(noise_calculation(wf_fee))\n",
    "\n",
    "h_noise, _ = np.histogram(noise, bins=10)\n",
    "h_ediff, _ = np.histogram(ediff, bins=10)\n",
    "\n",
    "\n",
    "    "
   ]
  },
  {
   "cell_type": "code",
   "execution_count": 98,
   "metadata": {},
   "outputs": [
    {
     "data": {
      "text/plain": [
       "<matplotlib.text.Text at 0x122e18c18>"
      ]
     },
     "execution_count": 98,
     "metadata": {},
     "output_type": "execute_result"
    },
    {
     "data": {
      "image/png": "[encoded data removed]",
      "text/plain": [
       "<matplotlib.figure.Figure at 0x122db3240>"
      ]
     },
     "metadata": {},
     "output_type": "display_data"
    }
   ],
   "source": [
    "h2_noise, _, _ = plt.hist(noise, 10)\n",
    "plt.title(\"FEE noise\")\n",
    "plt.xlabel(\"Value\")\n",
    "plt.ylabel(\"Frequency\")"
   ]
  },
  {
   "cell_type": "code",
   "execution_count": 99,
   "metadata": {},
   "outputs": [
    {
     "data": {
      "text/plain": [
       "<matplotlib.text.Text at 0x123001978>"
      ]
     },
     "execution_count": 99,
     "metadata": {},
     "output_type": "execute_result"
    },
    {
     "data": {
      "image/png": "[encoded data removed]",
      "text/plain": [
       "<matplotlib.figure.Figure at 0x122db30f0>"
      ]
     },
     "metadata": {},
     "output_type": "display_data"
    }
   ],
   "source": [
    "h2_ediff, _, _ = plt.hist(ediff, 10)\n",
    "plt.title(\"Energy difference\")\n",
    "plt.xlabel(\"Value\")\n",
    "plt.ylabel(\"Frequency\")"
   ]
  },
  {
   "cell_type": "code",
   "execution_count": 100,
   "metadata": {
    "collapsed": true
   },
   "outputs": [],
   "source": [
    "np.testing.assert_equal(h_noise, h2_noise)\n",
    "np.testing.assert_equal(h_ediff, h2_ediff)"
   ]
  },
  {
   "cell_type": "markdown",
   "metadata": {},
   "source": [
    "## Flow based analysis"
   ]
  },
  {
   "cell_type": "markdown",
   "metadata": {},
   "source": [
    "## Analysis flow"
   ]
  },
  {
   "cell_type": "markdown",
   "metadata": {},
   "source": [
    "- A flow needs: \n",
    "\n",
    "- A source, to generate the waveforms.\n",
    "- A pipe where the data will be transformed\n",
    "- A sink to collect the results of the analysis"
   ]
  },
  {
   "cell_type": "markdown",
   "metadata": {},
   "source": [
    "### City components"
   ]
  },
  {
   "cell_type": "code",
   "execution_count": 168,
   "metadata": {
    "collapsed": true
   },
   "outputs": [],
   "source": [
    "def waveform_generator(fee, events):\n",
    "    for event_number in range(events):\n",
    "        wf_i, wf_fee =input_and_fee_waveforms(fee)\n",
    "        yield dict(wf_i=wf_i,wf_fee=wf_fee,event_number=event_number )"
   ]
  },
  {
   "cell_type": "code",
   "execution_count": 169,
   "metadata": {
    "collapsed": true
   },
   "outputs": [],
   "source": [
    "def blr(fee):\n",
    "    coef = fee.freq_LHPFd*np.pi\n",
    "    \n",
    "    def blr(wf):\n",
    "        signal_out_cf = FE.signal_clean(fee, wf.q, -1)\n",
    "        signal_r, _ = deconv_simple(signal_out_cf,coef)\n",
    "        return Waveform(wf.t, signal_r)\n",
    "    return blr"
   ]
  },
  {
   "cell_type": "code",
   "execution_count": 170,
   "metadata": {
    "collapsed": true
   },
   "outputs": [],
   "source": [
    "def energy_comparison(tmin=1000, tmax=11000):\n",
    "    def energy_comparison(wf_i, wf_r):\n",
    "        energy_r = np.sum(wf_r.q[tmin:tmax])\n",
    "        energy_i = np.sum(wf_i.q)\n",
    "        return 100 * abs(energy_i - energy_r)/energy_i\n",
    "    return energy_comparison"
   ]
  },
  {
   "cell_type": "code",
   "execution_count": 171,
   "metadata": {
    "collapsed": true
   },
   "outputs": [],
   "source": [
    "def noise_calculation(tmin=1000, tmax=11000):\n",
    "    def noise_calculation(wf_fee):\n",
    "        return np.std(wf_fee.q[tmin:tmax],ddof=1)\n",
    "    return noise_calculation"
   ]
  },
  {
   "cell_type": "code",
   "execution_count": 172,
   "metadata": {},
   "outputs": [],
   "source": [
    "class histo_container(list):\n",
    "    def __init__(self):\n",
    "        empty_list = []\n",
    "        list.__init__(self,empty_list)\n",
    "    def histo(self, bins=10):\n",
    "        return np.histogram(self[:], bins=bins)\n",
    "        "
   ]
  },
  {
   "cell_type": "code",
   "execution_count": 152,
   "metadata": {
    "collapsed": true
   },
   "outputs": [],
   "source": [
    "x = histo_container()"
   ]
  },
  {
   "cell_type": "code",
   "execution_count": 153,
   "metadata": {
    "collapsed": true
   },
   "outputs": [],
   "source": [
    "length = 100\n",
    "ys = np.random.randn(length)\n",
    "for y in ys:\n",
    "    x.append(y)"
   ]
  },
  {
   "cell_type": "code",
   "execution_count": 155,
   "metadata": {},
   "outputs": [
    {
     "data": {
      "text/plain": [
       "(array([ 3,  1,  8, 12, 19, 27, 14,  8,  6,  2]),\n",
       " array([-3.18040739, -2.59143291, -2.00245842, -1.41348394, -0.82450945,\n",
       "        -0.23553497,  0.35343952,  0.942414  ,  1.53138849,  2.12036297,\n",
       "         2.70933745]))"
      ]
     },
     "execution_count": 155,
     "metadata": {},
     "output_type": "execute_result"
    }
   ],
   "source": [
    "x.histo()"
   ]
  },
  {
   "cell_type": "code",
   "execution_count": 128,
   "metadata": {
    "collapsed": true
   },
   "outputs": [],
   "source": [
    "def print_every(N):\n",
    "    counter = fl.count()\n",
    "    return fl.branch(fl.map  (lambda _: next(counter), args=\"event_number\", out=\"index\"),\n",
    "                     fl.slice(None, None, N),\n",
    "                     fl.sink (lambda data: print(f\"events processed: {data['index']}, event number: {data['event_number']}\")))\n"
   ]
  },
  {
   "cell_type": "markdown",
   "metadata": {},
   "source": [
    "### City of Esmeralda"
   ]
  },
  {
   "cell_type": "code",
   "execution_count": 162,
   "metadata": {},
   "outputs": [],
   "source": [
    "def esmeralda(event_range=(0,100), print_mod=1, noise_f=1, noise_daq=1):\n",
    "    \"\"\"This city:\n",
    "    - accepts waveforms (\"true\" and \"convoluted\") from the source\n",
    "    - deconvolutes the waveforms\n",
    "    - compares the deconvoluted (\"blr\") waveform with the \"true\" waveform, \n",
    "      producing an histogram of energy difference\n",
    "    - produces an histogram of FEE noise\n",
    "    \"\"\"\n",
    "    \n",
    "    # instance of FEE\n",
    "    fee = FE.FEE(noise_FEEPMB_rms=noise_f * FE.NOISE_I, noise_DAQ_rms=noise_daq * FE.NOISE_DAQ)\n",
    "    \n",
    "    # maps the function blr that transforms wf_fee waveforms into wf_r to the data flow. \n",
    "    # the input data  (\"wf_fee\") has been stored by the source in the flow dictionary\n",
    "    # the output data (\"wf_r\") is stored by the mapping operation in the flow dictionary\n",
    "    wf_fee_to_wf_r  = fl.map(blr(fee), args=\"wf_fee\"                 , out=\"wf_r\")\n",
    "    \n",
    "    # maps the function energy_comparison to the data flow: \n",
    "    # the function takes as input wf_i (initial waveform, stored by the source in the flow) and wf_r\n",
    "    # obtained by the previous step. It produces as a result the energy difference between w_i and w_r\n",
    "    # the result is stored in the flow dictionary as \"ediff_wi_wr\"\n",
    "    ediff_wi_wr     = fl.map(energy_comparison(tmin=1000, tmax=11000), args=(\"wf_i\", \"wf_r\"), out=\"ediff_wi_wr\")\n",
    "    \n",
    "    # maps the function noise_calculation to the data flow: \n",
    "    # the function takes as input wf_fee (fee waveform, stored by the source in the flow). \n",
    "    # It produces as a result the noise of the FEE.\n",
    "    # the result is stored in the flow dictionary as \"noise_fee\"\n",
    "    noise_fee       = fl.map(noise_calculation(25000,26000), args=\"wf_fee\"        , out=\"noise_fee\")\n",
    "    \n",
    "    # The output of the calculation are two histograms, one for the energy differences between \n",
    "    # w_i and w_r, the other for the noise of the FEE. \n",
    "    \n",
    "    h_ediff = histo_container()    # prepare a container for ediff\n",
    "    h_noise = histo_container()    # prepare a container for noise\n",
    "    \n",
    "    ediff = fl.sink(h_ediff.append, args=\"ediff_wi_wr\")   #the flow ends in a sink that fills the container\n",
    "    noise = fl.sink(h_noise.append, args=\"noise_fee\")     #the flow ends in a sink that fills the container\n",
    "\n",
    "    event_count = fl.count()  \n",
    "    \n",
    "    out = fl.push(\n",
    "                  source =  waveform_generator(fee, event_range[1]),\n",
    "                  pipe   = fl.pipe(fl.slice(*event_range),\n",
    "                                   #print_every(print_mod),\n",
    "                                   wf_fee_to_wf_r,\n",
    "                                   fl.fork((ediff_wi_wr, ediff),\n",
    "                                           (noise_fee,   noise),\n",
    "                                           (             event_count.sink))),\n",
    "                  result = (event_count.future))\n",
    "    return out, h_ediff, h_noise\n",
    "    \n",
    "                                           "
   ]
  },
  {
   "cell_type": "code",
   "execution_count": 163,
   "metadata": {},
   "outputs": [],
   "source": [
    "cnt,  h_ediff, h_noise = esmeralda(event_range=(0,100), print_mod=1, noise_f=1, noise_daq=1)"
   ]
  },
  {
   "cell_type": "code",
   "execution_count": 166,
   "metadata": {},
   "outputs": [
    {
     "data": {
      "text/plain": [
       "100"
      ]
     },
     "execution_count": 166,
     "metadata": {},
     "output_type": "execute_result"
    }
   ],
   "source": [
    "cnt"
   ]
  },
  {
   "cell_type": "code",
   "execution_count": 164,
   "metadata": {},
   "outputs": [
    {
     "data": {
      "text/plain": [
       "(array([26, 20, 11, 16,  8,  8,  6,  2,  1,  2]),\n",
       " array([ 0.0002161 ,  0.00473416,  0.00925222,  0.01377029,  0.01828835,\n",
       "         0.02280641,  0.02732447,  0.03184254,  0.0363606 ,  0.04087866,\n",
       "         0.04539672]))"
      ]
     },
     "execution_count": 164,
     "metadata": {},
     "output_type": "execute_result"
    }
   ],
   "source": [
    "h_ediff.histo()"
   ]
  },
  {
   "cell_type": "code",
   "execution_count": 167,
   "metadata": {},
   "outputs": [
    {
     "data": {
      "text/plain": [
       "(array([ 2,  2,  9, 12, 17, 23, 17,  8,  5,  5]),\n",
       " array([ 0.8249644 ,  0.83395683,  0.84294926,  0.85194168,  0.86093411,\n",
       "         0.86992653,  0.87891896,  0.88791139,  0.89690381,  0.90589624,\n",
       "         0.91488867]))"
      ]
     },
     "execution_count": 167,
     "metadata": {},
     "output_type": "execute_result"
    }
   ],
   "source": [
    "h_noise.histo()"
   ]
  },
  {
   "cell_type": "code",
   "execution_count": 173,
   "metadata": {},
   "outputs": [
    {
     "data": {
      "text/plain": [
       "(array([ 26.,  20.,  11.,  16.,   8.,   8.,   6.,   2.,   1.,   2.]),\n",
       " array([ 0.0002161 ,  0.00473416,  0.00925222,  0.01377029,  0.01828835,\n",
       "         0.02280641,  0.02732447,  0.03184254,  0.0363606 ,  0.04087866,\n",
       "         0.04539672]),\n",
       " <a list of 10 Patch objects>)"
      ]
     },
     "execution_count": 173,
     "metadata": {},
     "output_type": "execute_result"
    },
    {
     "data": {
      "image/png": "[encoded data removed]",
      "text/plain": [
       "<matplotlib.figure.Figure at 0x1234587f0>"
      ]
     },
     "metadata": {},
     "output_type": "display_data"
    }
   ],
   "source": [
    "plt.hist(h_ediff)"
   ]
  },
  {
   "cell_type": "code",
   "execution_count": 174,
   "metadata": {},
   "outputs": [
    {
     "data": {
      "text/plain": [
       "(array([  2.,   2.,   9.,  12.,  17.,  23.,  17.,   8.,   5.,   5.]),\n",
       " array([ 0.8249644 ,  0.83395683,  0.84294926,  0.85194168,  0.86093411,\n",
       "         0.86992653,  0.87891896,  0.88791139,  0.89690381,  0.90589624,\n",
       "         0.91488867]),\n",
       " <a list of 10 Patch objects>)"
      ]
     },
     "execution_count": 174,
     "metadata": {},
     "output_type": "execute_result"
    },
    {
     "data": {
      "image/png": "[encoded data removed]",
      "text/plain": [
       "<matplotlib.figure.Figure at 0x11dfc4320>"
      ]
     },
     "metadata": {},
     "output_type": "display_data"
    }
   ],
   "source": [
    "plt.hist(h_noise)"
   ]
  },
  {
   "cell_type": "code",
   "execution_count": null,
   "metadata": {
    "collapsed": true
   },
   "outputs": [],
   "source": []
  }
 ],
 "metadata": {
  "kernelspec": {
   "display_name": "Python 3",
   "language": "python",
   "name": "python3"
  },
  "language_info": {
   "codemirror_mode": {
    "name": "ipython",
    "version": 3
   },
   "file_extension": ".py",
   "mimetype": "text/x-python",
   "name": "python",
   "nbconvert_exporter": "python",
   "pygments_lexer": "ipython3",
   "version": "3.6.3"
  }
 },
 "nbformat": 4,
 "nbformat_minor": 2
}
