{
 "cells": [
  {
   "cell_type": "markdown",
   "metadata": {},
   "source": [
    "# Data Flow Framework"
   ]
  },
  {
   "cell_type": "code",
   "execution_count": 1,
   "metadata": {},
   "outputs": [
    {
     "name": "stdout",
     "output_type": "stream",
     "text": [
      "2018-02-10 19:27:57\n"
     ]
    }
   ],
   "source": [
    "import os\n",
    "import datetime\n",
    "print(datetime.datetime.now().strftime('%Y-%m-%d %H:%M:%S'))\n",
    "\n",
    "import time\n",
    "import glob\n",
    "import tables as tb\n",
    "import numpy as np\n",
    "import numpy.testing as npt\n",
    "import pandas as pd\n",
    "import matplotlib.pyplot as plt\n",
    "from functools import reduce\n",
    "%matplotlib inline\n",
    "%load_ext autoreload\n",
    "%autoreload 2\n",
    "\n",
    "plt.rcParams[\"figure.figsize\"] = 10, 8\n",
    "plt.rcParams[\"font.size\"     ] = 14"
   ]
  },
  {
   "cell_type": "code",
   "execution_count": 641,
   "metadata": {
    "collapsed": true
   },
   "outputs": [],
   "source": [
    "import invisible_cities.dataflow.dataflow as fl\n",
    "from invisible_cities.sierpe  import fee as FE"
   ]
  },
  {
   "cell_type": "code",
   "execution_count": 270,
   "metadata": {
    "collapsed": true
   },
   "outputs": [],
   "source": [
    "from functools   import wraps\n",
    "from functools   import reduce\n",
    "from contextlib  import contextmanager"
   ]
  },
  {
   "cell_type": "code",
   "execution_count": 505,
   "metadata": {
    "collapsed": true
   },
   "outputs": [],
   "source": [
    "from collections import namedtuple\n",
    "from typing import  NamedTuple"
   ]
  },
  {
   "cell_type": "code",
   "execution_count": 689,
   "metadata": {
    "collapsed": true
   },
   "outputs": [],
   "source": [
    "import invisible_cities.core.system_of_units as units"
   ]
  },
  {
   "cell_type": "markdown",
   "metadata": {},
   "source": [
    "## Generator functions in python"
   ]
  },
  {
   "cell_type": "markdown",
   "metadata": {},
   "source": [
    "In Python a generator function contains at least one yield statement (it may contain other yield or return statements). Notice that, while a return statement terminates a function entirely, yield statement pauses the function saving all its states and later continues from there on successive calls.\n"
   ]
  },
  {
   "cell_type": "markdown",
   "metadata": {},
   "source": [
    "## Differences between Generator function and a Normal function"
   ]
  },
  {
   "cell_type": "markdown",
   "metadata": {},
   "source": [
    "Here is how a generator function differs from a normal function.\n",
    "\n",
    "- Generator function contains one or more yield statement.\n",
    "\n",
    "- When called, it returns an object (iterator) but does not start execution immediately.\n",
    "\n",
    "- Methods like __iter__() and __next__() are implemented automatically. So we can iterate through the items using next().\n",
    "\n",
    "- Once the function yields, the function is paused and the control is transferred to the caller.\n",
    "\n",
    "- Local variables and their states are remembered between successive calls.\n",
    "\n",
    "- Finally, when the function terminates, StopIteration is raised automatically on further calls."
   ]
  },
  {
   "cell_type": "code",
   "execution_count": 12,
   "metadata": {
    "collapsed": true
   },
   "outputs": [],
   "source": [
    "# A simple generator function\n",
    "def my_gen():\n",
    "    n = 1\n",
    "    print('This is printed first')\n",
    "    # Generator function contains yield statements\n",
    "    yield n\n",
    "\n",
    "    n += 1\n",
    "    print('This is printed second')\n",
    "    yield n\n",
    "\n",
    "    n += 1\n",
    "    print('This is printed at last')\n",
    "    yield n"
   ]
  },
  {
   "cell_type": "code",
   "execution_count": 22,
   "metadata": {
    "collapsed": true
   },
   "outputs": [],
   "source": [
    "g = my_gen()"
   ]
  },
  {
   "cell_type": "code",
   "execution_count": 23,
   "metadata": {},
   "outputs": [
    {
     "data": {
      "text/plain": [
       "<generator object my_gen at 0x1178fb7d8>"
      ]
     },
     "execution_count": 23,
     "metadata": {},
     "output_type": "execute_result"
    }
   ],
   "source": [
    "g"
   ]
  },
  {
   "cell_type": "code",
   "execution_count": 24,
   "metadata": {},
   "outputs": [
    {
     "name": "stdout",
     "output_type": "stream",
     "text": [
      "This is printed first\n",
      "This is printed second\n",
      "This is printed at last\n",
      "generator is over\n"
     ]
    }
   ],
   "source": [
    "try:\n",
    "    while True:\n",
    "        next(g)\n",
    "except StopIteration:\n",
    "    print('generator is over')"
   ]
  },
  {
   "cell_type": "code",
   "execution_count": 25,
   "metadata": {},
   "outputs": [
    {
     "name": "stdout",
     "output_type": "stream",
     "text": [
      "This is printed first\n",
      "1\n",
      "This is printed second\n",
      "2\n",
      "This is printed at last\n",
      "3\n"
     ]
    }
   ],
   "source": [
    "for item in my_gen():\n",
    "    print(item)\n"
   ]
  },
  {
   "cell_type": "markdown",
   "metadata": {},
   "source": [
    "### A generator that reverses a sequence"
   ]
  },
  {
   "cell_type": "code",
   "execution_count": 33,
   "metadata": {
    "collapsed": true
   },
   "outputs": [],
   "source": [
    "def rev_seq(seq):\n",
    "    length = len(seq)\n",
    "    for i in range(length - 1,-1,-1):\n",
    "        yield seq[i]"
   ]
  },
  {
   "cell_type": "code",
   "execution_count": 34,
   "metadata": {},
   "outputs": [
    {
     "name": "stdout",
     "output_type": "stream",
     "text": [
      "o\n",
      "l\n",
      "l\n",
      "e\n",
      "h\n"
     ]
    }
   ],
   "source": [
    "for char in rev_seq(\"hello\"):\n",
    "     print(char)"
   ]
  },
  {
   "cell_type": "code",
   "execution_count": 36,
   "metadata": {},
   "outputs": [
    {
     "name": "stdout",
     "output_type": "stream",
     "text": [
      "5\n",
      "4\n",
      "3\n",
      "2\n",
      "1\n"
     ]
    }
   ],
   "source": [
    "for char in rev_seq((1,2,3,4,5)):\n",
    "     print(char)"
   ]
  },
  {
   "cell_type": "markdown",
   "metadata": {},
   "source": [
    "### A number generator"
   ]
  },
  {
   "cell_type": "code",
   "execution_count": 40,
   "metadata": {
    "collapsed": true
   },
   "outputs": [],
   "source": [
    "def generate_nums():\n",
    "    num = 0\n",
    "    while True:\n",
    "        yield num\n",
    "        num = num + 1\n",
    " "
   ]
  },
  {
   "cell_type": "code",
   "execution_count": 200,
   "metadata": {},
   "outputs": [
    {
     "name": "stdout",
     "output_type": "stream",
     "text": [
      "0\n",
      "1\n",
      "2\n",
      "3\n",
      "4\n",
      "5\n"
     ]
    }
   ],
   "source": [
    "for x in generate_nums():\n",
    "    print(x)\n",
    "    if x > 4:\n",
    "        break"
   ]
  },
  {
   "cell_type": "code",
   "execution_count": null,
   "metadata": {
    "collapsed": true
   },
   "outputs": [],
   "source": []
  },
  {
   "cell_type": "markdown",
   "metadata": {},
   "source": [
    "### Python generator expressions"
   ]
  },
  {
   "cell_type": "code",
   "execution_count": 37,
   "metadata": {
    "collapsed": true
   },
   "outputs": [],
   "source": [
    "g = (x**2 for x in range(5))"
   ]
  },
  {
   "cell_type": "code",
   "execution_count": 38,
   "metadata": {},
   "outputs": [
    {
     "data": {
      "text/plain": [
       "<generator object <genexpr> at 0x117946e60>"
      ]
     },
     "execution_count": 38,
     "metadata": {},
     "output_type": "execute_result"
    }
   ],
   "source": [
    "g"
   ]
  },
  {
   "cell_type": "code",
   "execution_count": 39,
   "metadata": {},
   "outputs": [
    {
     "name": "stdout",
     "output_type": "stream",
     "text": [
      "0\n",
      "1\n",
      "4\n",
      "9\n",
      "16\n"
     ]
    }
   ],
   "source": [
    "for item in (x**2 for x in range(5)):\n",
    "    print(item)"
   ]
  },
  {
   "cell_type": "markdown",
   "metadata": {},
   "source": [
    "## Coroutines"
   ]
  },
  {
   "cell_type": "markdown",
   "metadata": {},
   "source": [
    "Using generators we can pull data from a function context (and pause execution). What if we wanted to push some data too? That’s where coroutines comes into play. The yield keyword we use to pull values can also be used as an expression (on the right side of “=”) inside the function. We can use the send() method on a generator object to pass values back into the function. This is called “generator based coroutines”."
   ]
  },
  {
   "cell_type": "code",
   "execution_count": 169,
   "metadata": {},
   "outputs": [
    {
     "name": "stdout",
     "output_type": "stream",
     "text": [
      "Hello\n",
      "World\n"
     ]
    }
   ],
   "source": [
    "def coro():\n",
    "    msg = yield \"Hello\"\n",
    "    yield msg\n",
    " \n",
    "c = coro()\n",
    "print(next(c))\n",
    "print(c.send(\"World\"))"
   ]
  },
  {
   "cell_type": "code",
   "execution_count": 48,
   "metadata": {
    "collapsed": true
   },
   "outputs": [],
   "source": [
    "def generate_nums_in_range(first, last, step):\n",
    "    for num in range(first, last, step):\n",
    "        yield num\n",
    "    num = 0"
   ]
  },
  {
   "cell_type": "code",
   "execution_count": 50,
   "metadata": {},
   "outputs": [
    {
     "name": "stdout",
     "output_type": "stream",
     "text": [
      "1\n",
      "4\n",
      "7\n"
     ]
    }
   ],
   "source": [
    "for n in generate_nums_in_range(1, 10, 3):\n",
    "    print(n)"
   ]
  },
  {
   "cell_type": "markdown",
   "metadata": {},
   "source": [
    "## Python's function decorators"
   ]
  },
  {
   "cell_type": "markdown",
   "metadata": {},
   "source": [
    "### Python functions are first class objects"
   ]
  },
  {
   "cell_type": "markdown",
   "metadata": {},
   "source": [
    "In Python, functions are first class citizens. Therefore we can:\n",
    "\n",
    "- Assign functions to variables"
   ]
  },
  {
   "cell_type": "code",
   "execution_count": 170,
   "metadata": {},
   "outputs": [
    {
     "name": "stdout",
     "output_type": "stream",
     "text": [
      "hello John\n"
     ]
    }
   ],
   "source": [
    "def greet(name):\n",
    "    return \"hello \" + name\n",
    "\n",
    "greet_someone = greet\n",
    "print(greet_someone(\"John\"))"
   ]
  },
  {
   "cell_type": "markdown",
   "metadata": {},
   "source": [
    "- Define functions inside other functions"
   ]
  },
  {
   "cell_type": "code",
   "execution_count": 171,
   "metadata": {},
   "outputs": [
    {
     "name": "stdout",
     "output_type": "stream",
     "text": [
      "hello John\n"
     ]
    }
   ],
   "source": [
    "def greet(name):\n",
    "    def get_message():\n",
    "        return \"Hello \"\n",
    "\n",
    "    result = get_message() + name\n",
    "    return result\n",
    "print(greet_someone(\"John\"))"
   ]
  },
  {
   "cell_type": "markdown",
   "metadata": {},
   "source": [
    "- Functions can be passed as parameters to other functions"
   ]
  },
  {
   "cell_type": "code",
   "execution_count": 172,
   "metadata": {},
   "outputs": [
    {
     "name": "stdout",
     "output_type": "stream",
     "text": [
      "Hello John\n"
     ]
    }
   ],
   "source": [
    "def greet(name):\n",
    "    return \"Hello \" + name \n",
    "\n",
    "def call_func(func):\n",
    "    other_name = \"John\"\n",
    "    return func(other_name)  \n",
    "\n",
    "print(call_func(greet))"
   ]
  },
  {
   "cell_type": "markdown",
   "metadata": {},
   "source": [
    "- Functions can return other functions"
   ]
  },
  {
   "cell_type": "code",
   "execution_count": 173,
   "metadata": {},
   "outputs": [
    {
     "name": "stdout",
     "output_type": "stream",
     "text": [
      "Hello there!\n"
     ]
    }
   ],
   "source": [
    "def compose_greet_func():\n",
    "    def get_message():\n",
    "        return \"Hello there!\"\n",
    "\n",
    "    return get_message\n",
    "\n",
    "greet = compose_greet_func()\n",
    "print(greet())"
   ]
  },
  {
   "cell_type": "markdown",
   "metadata": {},
   "source": [
    "- Inner functions have access to the enclosing scope\n",
    "\n",
    "- More commonly known as a *closure*. A very powerful pattern that we will come across while building decorators. Another thing to note, Python only allows read access to the outer scope and not assignment. Notice how we modified the example above to read a \"name\" argument from the enclosing scope of the inner function and return the new function."
   ]
  },
  {
   "cell_type": "code",
   "execution_count": 174,
   "metadata": {},
   "outputs": [
    {
     "name": "stdout",
     "output_type": "stream",
     "text": [
      "Hello there John!\n"
     ]
    }
   ],
   "source": [
    "def compose_greet_func(name):\n",
    "    def get_message():\n",
    "        return \"Hello there \" + name + \"!\"\n",
    "\n",
    "    return get_message\n",
    "\n",
    "greet = compose_greet_func(\"John\")\n",
    "print(greet())"
   ]
  },
  {
   "cell_type": "markdown",
   "metadata": {},
   "source": [
    "### Composition of decorators"
   ]
  },
  {
   "cell_type": "markdown",
   "metadata": {},
   "source": [
    "- Function decorators are simply wrappers to existing functions. Putting the ideas mentioned above together, we can build a decorator. In this example let's consider a function that wraps the string output of another function by p tags."
   ]
  },
  {
   "cell_type": "code",
   "execution_count": 179,
   "metadata": {},
   "outputs": [
    {
     "name": "stdout",
     "output_type": "stream",
     "text": [
      "lorem ipsum, John dolor sit amet\n",
      "<p>lorem ipsum, John dolor sit amet</p>\n"
     ]
    }
   ],
   "source": [
    "def get_text(name):\n",
    "    return \"lorem ipsum, {0} dolor sit amet\".format(name)\n",
    "\n",
    "def p_decorate(func):\n",
    "    def func_wrapper(name):\n",
    "        return \"<p>{0}</p>\".format(func(name))\n",
    "    return func_wrapper\n",
    "\n",
    "my_get_text = p_decorate(get_text)\n",
    "\n",
    "print(get_text(\"John\"))\n",
    "print(my_get_text(\"John\"))"
   ]
  },
  {
   "cell_type": "code",
   "execution_count": 180,
   "metadata": {},
   "outputs": [
    {
     "name": "stdout",
     "output_type": "stream",
     "text": [
      "<p>lorem ipsum, John dolor sit amet</p>\n"
     ]
    }
   ],
   "source": [
    "get_text = p_decorate(get_text)\n",
    "print(get_text(\"John\"))"
   ]
  },
  {
   "cell_type": "code",
   "execution_count": 181,
   "metadata": {},
   "outputs": [
    {
     "name": "stdout",
     "output_type": "stream",
     "text": [
      "<p>lorem ipsum, John dolor sit amet</p>\n"
     ]
    }
   ],
   "source": [
    "@p_decorate\n",
    "def get_text(name):\n",
    "    return \"lorem ipsum, {0} dolor sit amet\".format(name)\n",
    "\n",
    "print(get_text(\"John\"))"
   ]
  },
  {
   "cell_type": "markdown",
   "metadata": {},
   "source": [
    "## The dataflow framework"
   ]
  },
  {
   "cell_type": "markdown",
   "metadata": {},
   "source": [
    "### Bricks"
   ]
  },
  {
   "cell_type": "markdown",
   "metadata": {},
   "source": [
    "- source: our data source\n",
    "- sink  : every pipe needs to end into a sink\n",
    "- pipeline: defines flow of data\n"
   ]
  },
  {
   "cell_type": "code",
   "execution_count": 228,
   "metadata": {
    "collapsed": true
   },
   "outputs": [],
   "source": [
    "# We avoid using a lazy source so that we can compare the result\n",
    "# with the input\n",
    "the_source = list(range(10))"
   ]
  },
  {
   "cell_type": "code",
   "execution_count": 229,
   "metadata": {
    "collapsed": true
   },
   "outputs": [],
   "source": [
    "def simplest_pipeline(the_source):\n",
    "\n",
    "    # The simplest possible pipeline has one source directly connected\n",
    "    # to one sink.\n",
    "\n",
    "    # In this example the sink will simply collect the data it\n",
    "    # receives, into a list.\n",
    "    result = []\n",
    "    the_sink = fl.sink(result.append)\n",
    "\n",
    "    # Use 'push' to feed the source into the pipe.\n",
    "    fl.push(source=the_source, pipe=the_sink)\n",
    "\n",
    "    return result"
   ]
  },
  {
   "cell_type": "code",
   "execution_count": 230,
   "metadata": {},
   "outputs": [
    {
     "data": {
      "text/plain": [
       "[0, 1, 2, 3, 4, 5, 6, 7, 8, 9]"
      ]
     },
     "execution_count": 230,
     "metadata": {},
     "output_type": "execute_result"
    }
   ],
   "source": [
    "result = simplest_pipeline(the_source)\n",
    "result"
   ]
  },
  {
   "cell_type": "code",
   "execution_count": 231,
   "metadata": {
    "collapsed": true
   },
   "outputs": [],
   "source": [
    "def simple_fork(the_source):\n",
    "\n",
    "    # Dataflows can be split with 'fork'\n",
    "\n",
    "    left  = [];  left_sink = fl.sink( left.append)\n",
    "    right = []; right_sink = fl.sink(right.append)\n",
    "\n",
    "    fl.push(source = the_source,\n",
    "            pipe   = fl.fork( left_sink,\n",
    "                             right_sink))\n",
    "\n",
    "    return left, right"
   ]
  },
  {
   "cell_type": "code",
   "execution_count": 232,
   "metadata": {},
   "outputs": [
    {
     "name": "stdout",
     "output_type": "stream",
     "text": [
      "[0, 1, 2, 3, 4, 5, 6, 7, 8, 9]\n",
      "[0, 1, 2, 3, 4, 5, 6, 7, 8, 9]\n"
     ]
    }
   ],
   "source": [
    "left, right = simple_fork(the_source)\n",
    "print(left)\n",
    "print(right)"
   ]
  },
  {
   "cell_type": "code",
   "execution_count": 233,
   "metadata": {
    "collapsed": true
   },
   "outputs": [],
   "source": [
    "def square(n): \n",
    "    return n*n"
   ]
  },
  {
   "cell_type": "code",
   "execution_count": 234,
   "metadata": {
    "collapsed": true
   },
   "outputs": [],
   "source": [
    "def simple_map(the_source, the_operation):\n",
    "\n",
    "    # The pipelines start to become interesting when the data are\n",
    "    # transformed in some way. 'map' transforms every item passing\n",
    "    # through the pipe by applying the supplied operation.\n",
    "\n",
    "\n",
    "    square = fl.map(the_operation)\n",
    "    result = []\n",
    "    the_sink = fl.sink(result.append)\n",
    "\n",
    "    fl.push(source = the_source,\n",
    "            pipe   = square(the_sink))\n",
    "\n",
    "    return result"
   ]
  },
  {
   "cell_type": "code",
   "execution_count": 235,
   "metadata": {},
   "outputs": [
    {
     "data": {
      "text/plain": [
       "[0, 1, 4, 9, 16, 25, 36, 49, 64, 81]"
      ]
     },
     "execution_count": 235,
     "metadata": {},
     "output_type": "execute_result"
    }
   ],
   "source": [
    "result = simple_map(the_source, square)\n",
    "result"
   ]
  },
  {
   "cell_type": "code",
   "execution_count": 240,
   "metadata": {
    "collapsed": true
   },
   "outputs": [],
   "source": [
    "def simple_pipe(the_source, the_operation):\n",
    "\n",
    "    # The basic syntax requires any element of a pipeline to be passed\n",
    "    # as argument to the one that precedes it. This looks strange to\n",
    "    # the human reader, especially when using parametrized\n",
    "    # components. 'pipe' allows construction of pipes from a sequence\n",
    "    # of components.\n",
    "\n",
    "    # Using 'pipe', 'test_map' could have been written like this:\n",
    "\n",
    "\n",
    "    result = []\n",
    "    the_sink = fl.sink(result.append)\n",
    "    square = fl.map(the_operation)\n",
    "    fl.push(source = the_source,\n",
    "            pipe   = fl.pipe(square, the_sink))\n",
    "\n",
    "    return result"
   ]
  },
  {
   "cell_type": "code",
   "execution_count": 241,
   "metadata": {},
   "outputs": [
    {
     "data": {
      "text/plain": [
       "[0, 1, 4, 9, 16, 25, 36, 49, 64, 81]"
      ]
     },
     "execution_count": 241,
     "metadata": {},
     "output_type": "execute_result"
    }
   ],
   "source": [
    "result = simple_pipe(the_source, square)\n",
    "result"
   ]
  },
  {
   "cell_type": "code",
   "execution_count": 244,
   "metadata": {
    "collapsed": true
   },
   "outputs": [],
   "source": [
    "def longer_pipeline(the_source):\n",
    "\n",
    "    # Pipelines can have arbitrary lengths\n",
    "\n",
    "    result = []\n",
    "    the_sink = fl.sink(result.append)\n",
    "\n",
    "    fl.push(source = the_source,\n",
    "            pipe   = fl.pipe(fl.map(lambda n:n+1),\n",
    "                             fl.map(lambda n:n*2),\n",
    "                             fl.map(lambda n:n-3),\n",
    "                             fl.map(lambda n:n/4),\n",
    "                             the_sink))\n",
    "\n",
    "    return result"
   ]
  },
  {
   "cell_type": "code",
   "execution_count": 245,
   "metadata": {},
   "outputs": [
    {
     "data": {
      "text/plain": [
       "[-0.25, 0.25, 0.75, 1.25, 1.75, 2.25, 2.75, 3.25, 3.75, 4.25]"
      ]
     },
     "execution_count": 245,
     "metadata": {},
     "output_type": "execute_result"
    }
   ],
   "source": [
    "result = longer_pipeline(the_source)\n",
    "result"
   ]
  },
  {
   "cell_type": "code",
   "execution_count": 255,
   "metadata": {
    "collapsed": true
   },
   "outputs": [],
   "source": [
    "def odd(n): \n",
    "    return n % 2"
   ]
  },
  {
   "cell_type": "code",
   "execution_count": 256,
   "metadata": {
    "collapsed": true
   },
   "outputs": [],
   "source": [
    "def even(n): \n",
    "    return not odd(n)"
   ]
  },
  {
   "cell_type": "code",
   "execution_count": 257,
   "metadata": {},
   "outputs": [
    {
     "data": {
      "text/plain": [
       "True"
      ]
     },
     "execution_count": 257,
     "metadata": {},
     "output_type": "execute_result"
    }
   ],
   "source": [
    "even(2)"
   ]
  },
  {
   "cell_type": "code",
   "execution_count": 258,
   "metadata": {},
   "outputs": [
    {
     "data": {
      "text/plain": [
       "0"
      ]
     },
     "execution_count": 258,
     "metadata": {},
     "output_type": "execute_result"
    }
   ],
   "source": [
    "odd(2)"
   ]
  },
  {
   "cell_type": "code",
   "execution_count": null,
   "metadata": {
    "collapsed": true
   },
   "outputs": [],
   "source": []
  },
  {
   "cell_type": "code",
   "execution_count": 251,
   "metadata": {
    "collapsed": true
   },
   "outputs": [],
   "source": [
    "def simple_filter(the_source, the_predicate):\n",
    "\n",
    "    # 'filter' can be used to eliminate data\n",
    "\n",
    "    \n",
    "    odd = fl.filter(the_predicate)\n",
    "    result = []\n",
    "    the_sink = fl.sink(result.append)\n",
    "\n",
    "    fl.push(source = the_source,\n",
    "            pipe   = fl.pipe(odd, the_sink))\n",
    "\n",
    "    return result\n"
   ]
  },
  {
   "cell_type": "code",
   "execution_count": 252,
   "metadata": {},
   "outputs": [
    {
     "data": {
      "text/plain": [
       "[1, 3, 5, 7, 9]"
      ]
     },
     "execution_count": 252,
     "metadata": {},
     "output_type": "execute_result"
    }
   ],
   "source": [
    "result = simple_filter(the_source, odd)\n",
    "result"
   ]
  },
  {
   "cell_type": "code",
   "execution_count": 253,
   "metadata": {
    "collapsed": true
   },
   "outputs": [],
   "source": [
    "def simple_count(the_source):\n",
    "\n",
    "    # 'count' is an example of a sink which only produces a result\n",
    "    # once the stream of data flowing into the pipeline has been\n",
    "    # closed. Such results are retrieved from futures which are\n",
    "    # created at the time a 'count' instance is created: a namedtuple\n",
    "    # containing the sink and its corresponding future is returned.\n",
    "\n",
    "    count = fl.count()\n",
    "\n",
    "    fl.push(source = the_source,\n",
    "            pipe   = count.sink)\n",
    "\n",
    "    return count.future.result() "
   ]
  },
  {
   "cell_type": "code",
   "execution_count": 254,
   "metadata": {},
   "outputs": [
    {
     "data": {
      "text/plain": [
       "10"
      ]
     },
     "execution_count": 254,
     "metadata": {},
     "output_type": "execute_result"
    }
   ],
   "source": [
    "result = simple_count(the_source)\n",
    "result"
   ]
  },
  {
   "cell_type": "code",
   "execution_count": 259,
   "metadata": {
    "collapsed": true
   },
   "outputs": [],
   "source": [
    "def count_futures(the_source):\n",
    "\n",
    "    # 'push' provides a higher-level interface to using such futures:\n",
    "    # it optionally accepts a tuple of futures, and returns a tuple of\n",
    "    # their results\n",
    "\n",
    "    count_all  = fl.count()\n",
    "    count_even = fl.count()\n",
    "    count_odd  = fl.count()\n",
    "\n",
    "    result = fl.push(source = the_source,\n",
    "                     pipe   = fl.fork(                          count_all.sink,\n",
    "                                      fl.pipe(fl.filter(odd),   count_odd.sink),\n",
    "                                      fl.pipe(fl.filter(even), count_even.sink)),\n",
    "                     result = (count_odd.future, count_even.future, count_all.future))\n",
    "\n",
    "    return result"
   ]
  },
  {
   "cell_type": "code",
   "execution_count": 260,
   "metadata": {},
   "outputs": [
    {
     "data": {
      "text/plain": [
       "(5, 5, 10)"
      ]
     },
     "execution_count": 260,
     "metadata": {},
     "output_type": "execute_result"
    }
   ],
   "source": [
    "result = count_futures(the_source)\n",
    "result"
   ]
  },
  {
   "cell_type": "code",
   "execution_count": 266,
   "metadata": {
    "collapsed": true
   },
   "outputs": [],
   "source": [
    "def simple_reduce(the_source):\n",
    "\n",
    "    # 'reduce' provides a high-level way of creating future-sinks such\n",
    "    # as 'count'\n",
    "\n",
    "    # Make a component just like df.sum\n",
    "    from operator import add\n",
    "    total = fl.reduce(add, initial=0)\n",
    "\n",
    "    # Create two instances of it, which will be applied to different\n",
    "    # (forked) sub-streams in the network\n",
    "    total_all = total()\n",
    "    total_odd = total()\n",
    "    total_even = total()\n",
    "\n",
    "\n",
    "    result = fl.push(source = the_source,\n",
    "                     pipe   = fl.fork(                        total_all.sink,\n",
    "                                      fl.pipe(fl.filter(odd), total_odd.sink),\n",
    "                                      fl.pipe(fl.filter(odd), total_even.sink)),\n",
    "                     result = (total_all.future, total_odd.future, total_even.future))\n",
    "\n",
    "    return result"
   ]
  },
  {
   "cell_type": "code",
   "execution_count": 267,
   "metadata": {},
   "outputs": [
    {
     "data": {
      "text/plain": [
       "(45, 25, 25)"
      ]
     },
     "execution_count": 267,
     "metadata": {},
     "output_type": "execute_result"
    }
   ],
   "source": [
    "result = simple_reduce(the_source)\n",
    "result"
   ]
  },
  {
   "cell_type": "code",
   "execution_count": 271,
   "metadata": {},
   "outputs": [
    {
     "data": {
      "text/plain": [
       "45"
      ]
     },
     "execution_count": 271,
     "metadata": {},
     "output_type": "execute_result"
    }
   ],
   "source": [
    "from operator import add\n",
    "reduce(add, the_source)"
   ]
  },
  {
   "cell_type": "code",
   "execution_count": 272,
   "metadata": {},
   "outputs": [
    {
     "data": {
      "text/plain": [
       "25"
      ]
     },
     "execution_count": 272,
     "metadata": {},
     "output_type": "execute_result"
    }
   ],
   "source": [
    "reduce(add, filter(odd,the_source))"
   ]
  },
  {
   "cell_type": "code",
   "execution_count": 273,
   "metadata": {},
   "outputs": [
    {
     "data": {
      "text/plain": [
       "20"
      ]
     },
     "execution_count": 273,
     "metadata": {},
     "output_type": "execute_result"
    }
   ],
   "source": [
    "reduce(add, filter(even,the_source))"
   ]
  },
  {
   "cell_type": "code",
   "execution_count": 276,
   "metadata": {
    "collapsed": true
   },
   "outputs": [],
   "source": [
    "def simple_spy( the_source):\n",
    "\n",
    "    # 'spy' performs an operation on the data streaming through the\n",
    "    # pipeline, without changing what is seen downstream. An obvious\n",
    "    # use of this would be to insert a 'spy(print)' at some point in\n",
    "    # the pipeline to observe the data flow through that point.\n",
    "\n",
    "\n",
    "    result = []; the_sink = fl.sink(result.append)\n",
    "    the_spy  = fl.spy ( lambda n: print(n))\n",
    "\n",
    "    fl.push(source = the_source,\n",
    "            pipe   = fl.pipe(the_spy, the_sink))\n",
    "\n",
    "    return result"
   ]
  },
  {
   "cell_type": "code",
   "execution_count": 277,
   "metadata": {},
   "outputs": [
    {
     "name": "stdout",
     "output_type": "stream",
     "text": [
      "0\n",
      "1\n",
      "2\n",
      "3\n",
      "4\n",
      "5\n",
      "6\n",
      "7\n",
      "8\n",
      "9\n"
     ]
    },
    {
     "data": {
      "text/plain": [
       "[0, 1, 2, 3, 4, 5, 6, 7, 8, 9]"
      ]
     },
     "execution_count": 277,
     "metadata": {},
     "output_type": "execute_result"
    }
   ],
   "source": [
    "result = simple_spy(the_source)\n",
    "result"
   ]
  },
  {
   "cell_type": "code",
   "execution_count": 280,
   "metadata": {
    "collapsed": true
   },
   "outputs": [],
   "source": [
    "def simple_branch(the_source):\n",
    "\n",
    "    # 'branch', like 'spy', allows you to insert operations on a copy\n",
    "    # of the stream at any point in a network. In contrast to 'spy'\n",
    "    # (which accepts a single plain operation), 'branch' accepts an\n",
    "    # arbitrary number of pipeline components, which it combines into\n",
    "    # a pipeline. It provides a more convenient way of constructing\n",
    "    # some graphs that would otherwise be constructed with 'fork'.\n",
    "\n",
    "    # Some pipeline components\n",
    "    c1 = []; C1 = fl.sink(c1.append)\n",
    "    c2 = []; C2 = fl.sink(c2.append)\n",
    "    e1 = []; E1 = fl.sink(e1.append)\n",
    "    e2 = []; E2 = fl.sink(e2.append)\n",
    "\n",
    "    A = fl.map(lambda n:n+1)\n",
    "    B = fl.map(lambda n:n*2)\n",
    "    D = fl.map(lambda n:n*3)\n",
    "\n",
    "    # Two eqivalent networks, one constructed with 'fork' the other\n",
    "    # with 'branch'.\n",
    "    graph1 = fl.pipe(A, fl.fork(fl.pipe(B,C1),\n",
    "                                fl.pipe(D,E1)))\n",
    "\n",
    "    graph2 = fl.pipe(A, fl.branch(B,C2), D,E2)\n",
    "\n",
    "    # Feed the same data into the two networks.\n",
    "   \n",
    "    fl.push(source=the_source, pipe=graph1)\n",
    "    fl.push(source=the_source, pipe=graph2)\n",
    "\n",
    "    # Confirm that both networks produce the same results.\n",
    "    return c1, c2, e1,e2\n"
   ]
  },
  {
   "cell_type": "code",
   "execution_count": 281,
   "metadata": {
    "collapsed": true
   },
   "outputs": [],
   "source": [
    "c1, c2, e1,e2 = simple_branch(the_source)"
   ]
  },
  {
   "cell_type": "code",
   "execution_count": 282,
   "metadata": {},
   "outputs": [
    {
     "name": "stdout",
     "output_type": "stream",
     "text": [
      "[2, 4, 6, 8, 10, 12, 14, 16, 18, 20] [3, 6, 9, 12, 15, 18, 21, 24, 27, 30]\n",
      "[2, 4, 6, 8, 10, 12, 14, 16, 18, 20] [3, 6, 9, 12, 15, 18, 21, 24, 27, 30]\n"
     ]
    }
   ],
   "source": [
    "print(c1,e1)\n",
    "print(c2,e2)"
   ]
  },
  {
   "cell_type": "code",
   "execution_count": 283,
   "metadata": {
    "collapsed": true
   },
   "outputs": [],
   "source": [
    "def chain_pipes(the_source):\n",
    "\n",
    "    # Pipelines must end in sinks. If the last component of a pipe is\n",
    "    # not a sink, the pipe may be used as a component in a bigger\n",
    "    # pipeline, but it will be impossible to feed any data into it\n",
    "    # until it is connected to some other component which ends in a\n",
    "    # sink.\n",
    "\n",
    "    # Some basic pipeline components\n",
    "    s1 = []; sink1 = fl.sink(s1.append)\n",
    "   \n",
    "    A = fl.map(lambda n:n+1)\n",
    "    B = fl.map(lambda n:n*2)\n",
    "    C = fl.map(lambda n:n-3)\n",
    "\n",
    "    graph1 = fl.pipe(A, B, C, sink1)\n",
    "   \n",
    "    fl.push(source=the_source, pipe=graph1)\n",
    "\n",
    "    return s1"
   ]
  },
  {
   "cell_type": "code",
   "execution_count": 284,
   "metadata": {},
   "outputs": [
    {
     "data": {
      "text/plain": [
       "[-1, 1, 3, 5, 7, 9, 11, 13, 15, 17]"
      ]
     },
     "execution_count": 284,
     "metadata": {},
     "output_type": "execute_result"
    }
   ],
   "source": [
    "s1 = chain_pipes(the_source)\n",
    "s1"
   ]
  },
  {
   "cell_type": "markdown",
   "metadata": {},
   "source": [
    "## More involved examples"
   ]
  },
  {
   "cell_type": "code",
   "execution_count": 506,
   "metadata": {
    "collapsed": true
   },
   "outputs": [],
   "source": [
    "class Point(NamedTuple):\n",
    "    x     : float\n",
    "    y     : float"
   ]
  },
  {
   "cell_type": "code",
   "execution_count": 458,
   "metadata": {
    "collapsed": true
   },
   "outputs": [],
   "source": [
    "class WfmPar(NamedTuple):\n",
    "    t_tot     : int\n",
    "    t_pre     : int\n",
    "    t_rise_s2 : int \n",
    "    t_flat_s2 : int\n",
    "    noise     : int\n",
    "    q_s2      : int"
   ]
  },
  {
   "cell_type": "code",
   "execution_count": 549,
   "metadata": {
    "collapsed": true
   },
   "outputs": [],
   "source": [
    "class Waveform(NamedTuple):\n",
    "    t   : np.ndarray\n",
    "    q   : np.ndarray"
   ]
  },
  {
   "cell_type": "code",
   "execution_count": 550,
   "metadata": {
    "collapsed": true
   },
   "outputs": [],
   "source": [
    "w = Waveform(np.zeros(10), np.ones(10))"
   ]
  },
  {
   "cell_type": "code",
   "execution_count": 551,
   "metadata": {},
   "outputs": [
    {
     "data": {
      "text/plain": [
       "Waveform(t=array([ 0.,  0.,  0.,  0.,  0.,  0.,  0.,  0.,  0.,  0.]), q=array([ 1.,  1.,  1.,  1.,  1.,  1.,  1.,  1.,  1.,  1.]))"
      ]
     },
     "execution_count": 551,
     "metadata": {},
     "output_type": "execute_result"
    }
   ],
   "source": [
    "w"
   ]
  },
  {
   "cell_type": "code",
   "execution_count": null,
   "metadata": {
    "collapsed": true
   },
   "outputs": [],
   "source": []
  },
  {
   "cell_type": "code",
   "execution_count": 507,
   "metadata": {
    "collapsed": true
   },
   "outputs": [],
   "source": [
    "def line(x : float, p1 : Point, p2 : Point) ->float:\n",
    "    def coef(p1, p2) ->float:\n",
    "        b = (p2.y - p1.y) / (p2.x - p1.x)\n",
    "        a = (p1.y * p2.x - p2.y * p1.x) / (p2.x - p1.x)\n",
    "        return a, b\n",
    "    a, b = coef(p1, p2)\n",
    "    return a + b * x"
   ]
  },
  {
   "cell_type": "code",
   "execution_count": 508,
   "metadata": {
    "collapsed": true
   },
   "outputs": [],
   "source": [
    "p1 = Point(1,1)\n",
    "p2 = Point(2,2)"
   ]
  },
  {
   "cell_type": "code",
   "execution_count": 512,
   "metadata": {},
   "outputs": [
    {
     "data": {
      "text/plain": [
       "[True, True, True, True, True, True, True, True, True, True]"
      ]
     },
     "execution_count": 512,
     "metadata": {},
     "output_type": "execute_result"
    }
   ],
   "source": [
    "[line(x, p1, p2) == x for x in range(10)]"
   ]
  },
  {
   "cell_type": "code",
   "execution_count": 513,
   "metadata": {
    "collapsed": true
   },
   "outputs": [],
   "source": [
    "np.testing.assert_array_equal([line(x, p1, p2) == x for x in range(10)], np.ones(10))"
   ]
  },
  {
   "cell_type": "code",
   "execution_count": 600,
   "metadata": {
    "collapsed": true
   },
   "outputs": [],
   "source": [
    "def waveform(wp : WfmPar):\n",
    "    t_s2 = 2 * wp.t_rise_s2 + wp.t_flat_s2\n",
    "    t_pos = wp.t_tot - wp.t_pre - t_s2\n",
    "    assert t_s2 + wp.t_pre < wp.t_tot\n",
    "    \n",
    "    def wf_noise(length):\n",
    "        return wp.noise * np.random.randn(length)\n",
    "        \n",
    "    t          = np.arange(wp.t_tot)\n",
    "    sgn_pre    = np.zeros(wp.t_tot)\n",
    "    sgn_s2     = np.zeros(wp.t_tot)\n",
    "    sgn_post   = np.zeros(wp.t_tot)\n",
    "    \n",
    "    # waveform pre (before signal raises)\n",
    "    f = 0\n",
    "    l = wp.t_pre\n",
    "    sgn_pre[f:l] = wf_noise(wp.t_pre)\n",
    "    \n",
    "    # signal raise\n",
    "    f = l\n",
    "    l = f + wp.t_rise_s2 \n",
    "    p1 = Point(t[f], 0)\n",
    "    p2 = Point(t[l], wp.q_s2)\n",
    "    sgn_s2[f:l+1] = line(t[f:l+1], p1, p2) + wf_noise(l+1-f)\n",
    "   \n",
    "    # signal flattens\n",
    "    f = l \n",
    "    l = f + wp.t_flat_s2\n",
    "    sgn_s2[f:l] = wp.q_s2  + wf_noise(l-f)\n",
    "\n",
    "\n",
    "    # signal decreases\n",
    "    f = l\n",
    "    l = f + wp.t_rise_s2\n",
    "    p1 = Point(t[f], wp.q_s2)\n",
    "    p2 = Point(t[l], 0)\n",
    "    sgn_s2[f:l+1] = line(t[f:l+1], p1, p2)  + wf_noise(l+1-f)\n",
    "    \n",
    "    # signal post (after signal has decreases)\n",
    "    f = l \n",
    "    l = wp.t_tot \n",
    "    sgn_post[f:l] = wp.noise * np.random.randn(t_pos) \n",
    "    \n",
    "    return Waveform(t, sgn_pre + sgn_s2 + sgn_post)\n",
    "        \n",
    "    "
   ]
  },
  {
   "cell_type": "code",
   "execution_count": 625,
   "metadata": {
    "collapsed": true
   },
   "outputs": [],
   "source": [
    "x = np.arange(10)"
   ]
  },
  {
   "cell_type": "code",
   "execution_count": 626,
   "metadata": {},
   "outputs": [
    {
     "data": {
      "text/plain": [
       "array([1, 2, 3, 4, 5, 6, 7, 8, 9])"
      ]
     },
     "execution_count": 626,
     "metadata": {},
     "output_type": "execute_result"
    }
   ],
   "source": [
    "x[1:]"
   ]
  },
  {
   "cell_type": "code",
   "execution_count": 627,
   "metadata": {},
   "outputs": [
    {
     "data": {
      "text/plain": [
       "array([0, 1, 2, 3, 4, 5, 6, 7, 8, 9])"
      ]
     },
     "execution_count": 627,
     "metadata": {},
     "output_type": "execute_result"
    }
   ],
   "source": [
    "x"
   ]
  },
  {
   "cell_type": "code",
   "execution_count": null,
   "metadata": {
    "collapsed": true
   },
   "outputs": [],
   "source": []
  },
  {
   "cell_type": "code",
   "execution_count": 629,
   "metadata": {
    "collapsed": true
   },
   "outputs": [],
   "source": [
    "def add_waveforms(wfm_list):\n",
    "    wf0 = wfm_list[0]\n",
    "    t = wf0.t\n",
    "    q = wf0.q\n",
    "    \n",
    "    for wf in wfm_list[1:]:\n",
    "        q += wf.q\n",
    "    \n",
    "    return Waveform(t, q)\n"
   ]
  },
  {
   "cell_type": "code",
   "execution_count": null,
   "metadata": {
    "collapsed": true
   },
   "outputs": [],
   "source": []
  },
  {
   "cell_type": "code",
   "execution_count": 632,
   "metadata": {},
   "outputs": [
    {
     "data": {
      "text/plain": [
       "WfmPar(t_tot=300, t_pre=100, t_rise_s2=20, t_flat_s2=5, noise=1, q_s2=500)"
      ]
     },
     "execution_count": 632,
     "metadata": {},
     "output_type": "execute_result"
    }
   ],
   "source": [
    "s2p = WfmPar(t_tot=300,t_pre=100,t_rise_s2=20,t_flat_s2=5,noise=1,q_s2=500)\n",
    "s2p"
   ]
  },
  {
   "cell_type": "code",
   "execution_count": 633,
   "metadata": {
    "collapsed": true
   },
   "outputs": [],
   "source": [
    "s2 = waveform(s2p)"
   ]
  },
  {
   "cell_type": "code",
   "execution_count": 634,
   "metadata": {},
   "outputs": [
    {
     "data": {
      "text/plain": [
       "<matplotlib.text.Text at 0x11cda7048>"
      ]
     },
     "execution_count": 634,
     "metadata": {},
     "output_type": "execute_result"
    },
    {
     "data": {
      "image/png": "[encoded data removed]",
      "text/plain": [
       "<matplotlib.figure.Figure at 0x11cd5e6a0>"
      ]
     },
     "metadata": {},
     "output_type": "display_data"
    }
   ],
   "source": [
    "plt.plot(s2.t,s2.q,'b')\n",
    "plt.grid(True)\n",
    "plt.xlabel(r't (time units)')\n",
    "plt.ylabel(r'q (charge/energy units)')\n",
    "#plt.text(12, 250, r'$E ={0:5.1f} \\,\\, kV/cm$'.format(E15))"
   ]
  },
  {
   "cell_type": "code",
   "execution_count": 635,
   "metadata": {},
   "outputs": [
    {
     "data": {
      "text/plain": [
       "WfmPar(t_tot=300, t_pre=50, t_rise_s2=5, t_flat_s2=1, noise=1, q_s2=20)"
      ]
     },
     "execution_count": 635,
     "metadata": {},
     "output_type": "execute_result"
    }
   ],
   "source": [
    "s1p = WfmPar(t_tot=300,t_pre=50,t_rise_s2=5,t_flat_s2=1,noise=1,q_s2=20)\n",
    "s1p"
   ]
  },
  {
   "cell_type": "code",
   "execution_count": 636,
   "metadata": {
    "collapsed": true
   },
   "outputs": [],
   "source": [
    "s1 = waveform(s1p)"
   ]
  },
  {
   "cell_type": "code",
   "execution_count": 637,
   "metadata": {},
   "outputs": [
    {
     "data": {
      "text/plain": [
       "<matplotlib.text.Text at 0x11c9f3b38>"
      ]
     },
     "execution_count": 637,
     "metadata": {},
     "output_type": "execute_result"
    },
    {
     "data": {
      "image/png": "[encoded data removed]",
      "text/plain": [
       "<matplotlib.figure.Figure at 0x11cf30d30>"
      ]
     },
     "metadata": {},
     "output_type": "display_data"
    }
   ],
   "source": [
    "plt.plot(s1.t,s1.q,'r')\n",
    "plt.grid(True)\n",
    "plt.xlabel(r't (time units)')\n",
    "plt.ylabel(r'q (charge/energy units)')\n",
    "#plt.text(12, 250, r'$E ={0:5.1f} \\,\\, kV/cm$'.format(E15))"
   ]
  },
  {
   "cell_type": "code",
   "execution_count": 638,
   "metadata": {
    "collapsed": true
   },
   "outputs": [],
   "source": [
    "wf = add_waveforms((s1, s2))"
   ]
  },
  {
   "cell_type": "code",
   "execution_count": 639,
   "metadata": {},
   "outputs": [
    {
     "data": {
      "text/plain": [
       "<matplotlib.text.Text at 0x11d129438>"
      ]
     },
     "execution_count": 639,
     "metadata": {},
     "output_type": "execute_result"
    },
    {
     "data": {
      "image/png": "[encoded data removed]",
      "text/plain": [
       "<matplotlib.figure.Figure at 0x11d111828>"
      ]
     },
     "metadata": {},
     "output_type": "display_data"
    }
   ],
   "source": [
    "plt.plot(wf.t,wf.q,'b')\n",
    "plt.grid(True)\n",
    "plt.xlabel(r't (time units)')\n",
    "plt.ylabel(r'q (charge/energy units)')\n",
    "#plt.text(12, 250, r'$E ={0:5.1f} \\,\\, kV/cm$'.format(E15))"
   ]
  },
  {
   "cell_type": "code",
   "execution_count": 670,
   "metadata": {
    "collapsed": true
   },
   "outputs": [],
   "source": [
    "def simulate_pmt_response(wf):\n",
    "    # Single Photoelectron class\n",
    "    spe = FE.SPE()\n",
    "    # FEE, with noise PMT\n",
    "    fee  = FE.FEE(0, noise_FEEPMB_rms=FE.NOISE_I, noise_DAQ_rms=FE.NOISE_DAQ)\n",
    "    # signal_i in current units\n",
    "    signal_i = FE.spe_pulse_from_vector(spe, wf.q) \n",
    "    signal_fee = FE.signal_v_fee(fee, signal_i, -1) * 1e+6\n",
    "    \n",
    "    return Waveform(wf.t, signal_i * 1e-7), Waveform(wf.t, signal_fee) "
   ]
  },
  {
   "cell_type": "code",
   "execution_count": 671,
   "metadata": {
    "collapsed": true
   },
   "outputs": [],
   "source": [
    "wf_i, wf_fee = simulate_pmt_response(wf)"
   ]
  },
  {
   "cell_type": "code",
   "execution_count": 672,
   "metadata": {
    "collapsed": true
   },
   "outputs": [],
   "source": [
    "signal_i, signal_fee = wf_i.q, wf_fee.q"
   ]
  },
  {
   "cell_type": "code",
   "execution_count": 673,
   "metadata": {},
   "outputs": [
    {
     "data": {
      "text/plain": [
       "<matplotlib.text.Text at 0x1206e92b0>"
      ]
     },
     "execution_count": 673,
     "metadata": {},
     "output_type": "execute_result"
    },
    {
     "data": {
      "image/png": "[encoded data removed]",
      "text/plain": [
       "<matplotlib.figure.Figure at 0x1202fbf28>"
      ]
     },
     "metadata": {},
     "output_type": "display_data"
    }
   ],
   "source": [
    "plt.plot(signal_i,'b')\n",
    "plt.plot(signal_fee,'r')\n",
    "plt.grid(True)\n",
    "plt.xlabel(r't (time units)')\n",
    "plt.ylabel(r'q (charge/energy units)')"
   ]
  },
  {
   "cell_type": "code",
   "execution_count": 686,
   "metadata": {
    "collapsed": true
   },
   "outputs": [],
   "source": [
    "s2p = WfmPar(t_tot=5000,t_pre=500,t_rise_s2=20,t_flat_s2=1000,noise=1,q_s2=100)\n",
    "s1p = WfmPar(t_tot=5000,t_pre=250,t_rise_s2=5,t_flat_s2=1,noise=1,q_s2=20)\n",
    "s2 = waveform(s2p)\n",
    "s1 = waveform(s1p)\n",
    "wf = add_waveforms((s1, s2))\n",
    "wf_i, wf_fee = simulate_pmt_response(wf)"
   ]
  },
  {
   "cell_type": "code",
   "execution_count": 687,
   "metadata": {
    "collapsed": true
   },
   "outputs": [],
   "source": [
    "signal_i, signal_fee = wf_i.q, wf_fee.q"
   ]
  },
  {
   "cell_type": "code",
   "execution_count": 688,
   "metadata": {},
   "outputs": [
    {
     "data": {
      "text/plain": [
       "<matplotlib.text.Text at 0x120ffbda0>"
      ]
     },
     "execution_count": 688,
     "metadata": {},
     "output_type": "execute_result"
    },
    {
     "data": {
      "image/png": "[encoded data removed]",
      "text/plain": [
       "<matplotlib.figure.Figure at 0x120fea080>"
      ]
     },
     "metadata": {},
     "output_type": "display_data"
    }
   ],
   "source": [
    "plt.plot(signal_i,'b')\n",
    "plt.plot(signal_fee,'r')\n",
    "plt.grid(True)\n",
    "plt.xlabel(r't (time units)')\n",
    "plt.ylabel(r'q (charge/energy units)')"
   ]
  },
  {
   "cell_type": "code",
   "execution_count": 690,
   "metadata": {
    "collapsed": true
   },
   "outputs": [],
   "source": [
    "b = np.array([[1,2,3], [4,5,6], [7,8,9]])"
   ]
  },
  {
   "cell_type": "code",
   "execution_count": 691,
   "metadata": {},
   "outputs": [
    {
     "data": {
      "text/plain": [
       "(3, 3)"
      ]
     },
     "execution_count": 691,
     "metadata": {},
     "output_type": "execute_result"
    }
   ],
   "source": [
    "b.shape"
   ]
  },
  {
   "cell_type": "code",
   "execution_count": 693,
   "metadata": {},
   "outputs": [
    {
     "data": {
      "text/plain": [
       "array([[1, 2, 3],\n",
       "       [4, 5, 6],\n",
       "       [7, 8, 9]])"
      ]
     },
     "execution_count": 693,
     "metadata": {},
     "output_type": "execute_result"
    }
   ],
   "source": [
    "b"
   ]
  },
  {
   "cell_type": "code",
   "execution_count": 694,
   "metadata": {
    "collapsed": true
   },
   "outputs": [],
   "source": [
    "def average(a):\n",
    "    return (a[0] + a[-1]) * 0.5"
   ]
  },
  {
   "cell_type": "code",
   "execution_count": 695,
   "metadata": {},
   "outputs": [
    {
     "data": {
      "text/plain": [
       "array([ 4.,  5.,  6.])"
      ]
     },
     "execution_count": 695,
     "metadata": {},
     "output_type": "execute_result"
    }
   ],
   "source": [
    "np.apply_along_axis(average, 0, b)"
   ]
  },
  {
   "cell_type": "code",
   "execution_count": 696,
   "metadata": {},
   "outputs": [
    {
     "data": {
      "text/plain": [
       "array([ 2.,  5.,  8.])"
      ]
     },
     "execution_count": 696,
     "metadata": {},
     "output_type": "execute_result"
    }
   ],
   "source": [
    "np.apply_along_axis(average, 1, b)"
   ]
  },
  {
   "cell_type": "code",
   "execution_count": null,
   "metadata": {
    "collapsed": true
   },
   "outputs": [],
   "source": []
  },
  {
   "cell_type": "code",
   "execution_count": null,
   "metadata": {
    "collapsed": true
   },
   "outputs": [],
   "source": []
  }
 ],
 "metadata": {
  "kernelspec": {
   "display_name": "Python 3",
   "language": "python",
   "name": "python3"
  },
  "language_info": {
   "codemirror_mode": {
    "name": "ipython",
    "version": 3
   },
   "file_extension": ".py",
   "mimetype": "text/x-python",
   "name": "python",
   "nbconvert_exporter": "python",
   "pygments_lexer": "ipython3",
   "version": "3.6.3"
  }
 },
 "nbformat": 4,
 "nbformat_minor": 2
}
