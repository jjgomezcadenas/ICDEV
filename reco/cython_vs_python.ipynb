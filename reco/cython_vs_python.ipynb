{
 "cells": [
  {
   "cell_type": "markdown",
   "metadata": {},
   "source": [
    "# Cython vs Python vs Numba: a simple study case"
   ]
  },
  {
   "cell_type": "markdown",
   "metadata": {},
   "source": [
    "In this notebook I present a simple study case of cython versus python versus Numba performance. Three problems are considered:\n",
    "\n",
    "1. A simple operation involving 1d arrays (e.g, compute the mean of a 1d array)\n",
    "2. A more complex problem involving a 2d array: This is the classical computation of a pedestal, using the mean of the waveform, and then returning the pedestal-subtracted waveform normalized to some calibration constants. The data is a 2d array, with one axis running over sensors and the other representing each sensor waveform.\n",
    "3. An even more complex problem where a MAU is used to compute the pedestal and then subtract it or return values above pedetal + MAU\n"
   ]
  },
  {
   "cell_type": "code",
   "execution_count": 8,
   "metadata": {},
   "outputs": [
    {
     "name": "stdout",
     "output_type": "stream",
     "text": [
      "2017-12-04 16:29:27\n",
      "The autoreload extension is already loaded. To reload it, use:\n",
      "  %reload_ext autoreload\n"
     ]
    }
   ],
   "source": [
    "import os\n",
    "import datetime\n",
    "print(datetime.datetime.now().strftime('%Y-%m-%d %H:%M:%S'))\n",
    "\n",
    "import time\n",
    "import glob\n",
    "import tables as tb\n",
    "import numpy as np\n",
    "import numpy.testing as npt\n",
    "import pandas as pd\n",
    "import matplotlib.pyplot as plt\n",
    "from functools import reduce\n",
    "%matplotlib inline\n",
    "%load_ext autoreload\n",
    "%autoreload 2\n",
    "\n",
    "plt.rcParams[\"figure.figsize\"] = 10, 8\n",
    "plt.rcParams[\"font.size\"     ] = 14"
   ]
  },
  {
   "cell_type": "code",
   "execution_count": 2,
   "metadata": {
    "collapsed": true
   },
   "outputs": [],
   "source": [
    "from numba import jit"
   ]
  },
  {
   "cell_type": "code",
   "execution_count": 3,
   "metadata": {
    "collapsed": true
   },
   "outputs": [],
   "source": [
    "from scipy import signal"
   ]
  },
  {
   "cell_type": "code",
   "execution_count": 4,
   "metadata": {},
   "outputs": [],
   "source": [
    "%load_ext Cython"
   ]
  },
  {
   "cell_type": "markdown",
   "metadata": {},
   "source": [
    "## 1.  Simple operation (mean of a vector): python, cython and python + numpy"
   ]
  },
  {
   "cell_type": "code",
   "execution_count": 5,
   "metadata": {
    "collapsed": true
   },
   "outputs": [],
   "source": [
    "mu, sigma = 0, 0.1\n",
    "s = np.random.normal(mu, sigma, 10000)"
   ]
  },
  {
   "cell_type": "code",
   "execution_count": 6,
   "metadata": {},
   "outputs": [
    {
     "data": {
      "image/png": "[encoded data removed]",
      "text/plain": [
       "<matplotlib.figure.Figure at 0x116ba8d68>"
      ]
     },
     "metadata": {},
     "output_type": "display_data"
    }
   ],
   "source": [
    "count, bins, ignored = plt.hist(s, 30, normed=True)"
   ]
  },
  {
   "cell_type": "markdown",
   "metadata": {},
   "source": [
    "### Python"
   ]
  },
  {
   "cell_type": "code",
   "execution_count": 7,
   "metadata": {
    "collapsed": true
   },
   "outputs": [],
   "source": [
    "def python_mean(v):\n",
    "    \"\"\"Compute the mean of vector v using loop\"\"\"\n",
    "    pmean = 0\n",
    "    lv = len(v)\n",
    "    for k in range(lv):\n",
    "        pmean += v[k]\n",
    "    pmean /= lv\n",
    "    return pmean"
   ]
  },
  {
   "cell_type": "markdown",
   "metadata": {},
   "source": [
    "#### Check that mean is close to zero "
   ]
  },
  {
   "cell_type": "code",
   "execution_count": 11,
   "metadata": {},
   "outputs": [],
   "source": [
    "npt.assert_allclose(python_mean(s), 0, rtol=1e-01, atol=1e-01)"
   ]
  },
  {
   "cell_type": "markdown",
   "metadata": {},
   "source": [
    "#### Time performance"
   ]
  },
  {
   "cell_type": "code",
   "execution_count": 17,
   "metadata": {},
   "outputs": [
    {
     "name": "stdout",
     "output_type": "stream",
     "text": [
      "1.39 ms ± 39.8 µs per loop (mean ± std. dev. of 7 runs, 1000 loops each)\n"
     ]
    }
   ],
   "source": [
    "t_python_mean = %timeit -o python_mean(s)"
   ]
  },
  {
   "cell_type": "code",
   "execution_count": 29,
   "metadata": {},
   "outputs": [
    {
     "data": {
      "text/plain": [
       "0.001342250508023426"
      ]
     },
     "execution_count": 29,
     "metadata": {},
     "output_type": "execute_result"
    }
   ],
   "source": [
    "t_python_mean.best"
   ]
  },
  {
   "cell_type": "markdown",
   "metadata": {},
   "source": [
    "### Using python + numpy"
   ]
  },
  {
   "cell_type": "code",
   "execution_count": 19,
   "metadata": {},
   "outputs": [
    {
     "name": "stdout",
     "output_type": "stream",
     "text": [
      "8.47 µs ± 223 ns per loop (mean ± std. dev. of 7 runs, 100000 loops each)\n"
     ]
    }
   ],
   "source": [
    "t_python_np_mean = %timeit -o np.mean(s)"
   ]
  },
  {
   "cell_type": "code",
   "execution_count": 238,
   "metadata": {},
   "outputs": [
    {
     "data": {
      "text/plain": [
       "164.80898206977096"
      ]
     },
     "execution_count": 238,
     "metadata": {},
     "output_type": "execute_result"
    }
   ],
   "source": [
    "t_python_mean.best/ t_python_np_mean.best "
   ]
  },
  {
   "cell_type": "markdown",
   "metadata": {},
   "source": [
    "### Using cython"
   ]
  },
  {
   "cell_type": "code",
   "execution_count": 25,
   "metadata": {
    "collapsed": true
   },
   "outputs": [],
   "source": [
    "%%cython \n",
    "cpdef float cython_mean(double [:] v):\n",
    "    \"\"\"Compute the mean of vector v using loop\"\"\"\n",
    "    cdef float pmean = 0\n",
    "    cdef int lv = len(v)\n",
    "    cdef int k\n",
    "    for k in range(lv):\n",
    "        pmean += v[k]\n",
    "    pmean /= lv\n",
    "    return pmean\n"
   ]
  },
  {
   "cell_type": "markdown",
   "metadata": {},
   "source": [
    "#### Check that result is identical to python function"
   ]
  },
  {
   "cell_type": "code",
   "execution_count": 26,
   "metadata": {},
   "outputs": [],
   "source": [
    "npt.assert_allclose(python_mean(s), cython_mean(s), rtol=1e-05, atol=1e-05)"
   ]
  },
  {
   "cell_type": "code",
   "execution_count": 31,
   "metadata": {},
   "outputs": [
    {
     "name": "stdout",
     "output_type": "stream",
     "text": [
      "44.6 µs ± 4.94 µs per loop (mean ± std. dev. of 7 runs, 10000 loops each)\n"
     ]
    }
   ],
   "source": [
    "t_cython_mean = %timeit -o cython_mean(s)"
   ]
  },
  {
   "cell_type": "code",
   "execution_count": 239,
   "metadata": {},
   "outputs": [
    {
     "data": {
      "text/plain": [
       "37.19806875829442"
      ]
     },
     "execution_count": 239,
     "metadata": {},
     "output_type": "execute_result"
    }
   ],
   "source": [
    "t_python_mean.best / t_cython_mean.best"
   ]
  },
  {
   "cell_type": "code",
   "execution_count": 240,
   "metadata": {},
   "outputs": [
    {
     "data": {
      "text/plain": [
       "0.22570413512139054"
      ]
     },
     "execution_count": 240,
     "metadata": {},
     "output_type": "execute_result"
    }
   ],
   "source": [
    "t_python_np_mean.best / t_cython_mean.best"
   ]
  },
  {
   "cell_type": "markdown",
   "metadata": {},
   "source": [
    "#### Cython speed is 20 % of python + np!"
   ]
  },
  {
   "cell_type": "markdown",
   "metadata": {},
   "source": [
    "### Using numba"
   ]
  },
  {
   "cell_type": "code",
   "execution_count": 35,
   "metadata": {
    "collapsed": true
   },
   "outputs": [],
   "source": [
    "numba_mean = jit(python_mean)"
   ]
  },
  {
   "cell_type": "code",
   "execution_count": 36,
   "metadata": {},
   "outputs": [],
   "source": [
    "npt.assert_allclose(python_mean(s), numba_mean(s), rtol=1e-05, atol=1e-05)"
   ]
  },
  {
   "cell_type": "code",
   "execution_count": 37,
   "metadata": {},
   "outputs": [
    {
     "name": "stdout",
     "output_type": "stream",
     "text": [
      "10.5 µs ± 150 ns per loop (mean ± std. dev. of 7 runs, 100000 loops each)\n"
     ]
    }
   ],
   "source": [
    "t_numba_mean = %timeit -o numba_mean(s)"
   ]
  },
  {
   "cell_type": "code",
   "execution_count": 241,
   "metadata": {},
   "outputs": [
    {
     "data": {
      "text/plain": [
       "0.7895204763178433"
      ]
     },
     "execution_count": 241,
     "metadata": {},
     "output_type": "execute_result"
    }
   ],
   "source": [
    "t_python_np_mean.best / t_numba_mean.best"
   ]
  },
  {
   "cell_type": "markdown",
   "metadata": {},
   "source": [
    "#### Numba is essentially as fast (but not faster) than np for this simple problem "
   ]
  },
  {
   "cell_type": "markdown",
   "metadata": {},
   "source": [
    "### Summary of performance for a simple problem"
   ]
  },
  {
   "cell_type": "code",
   "execution_count": 44,
   "metadata": {},
   "outputs": [
    {
     "name": "stdout",
     "output_type": "stream",
     "text": [
      "\n",
      "python \t \t 1.0\n",
      "pthon + np \t 164.80898206977096\n",
      "cython \t\t 37.19806875829442\n",
      "numba \t\t 130.12006602518446\n"
     ]
    }
   ],
   "source": [
    "print(\"\"\"\n",
    "python \\t \\t {}\n",
    "pthon + np \\t {}\n",
    "cython \\t\\t {}\n",
    "numba \\t\\t {}\"\"\".format(t_python_mean.best / t_python_mean.best, \n",
    "                     t_python_mean.best / t_python_np_mean.best, \n",
    "                     t_python_mean.best / t_cython_mean.best,\n",
    "                     t_python_mean.best / t_numba_mean.best ))"
   ]
  },
  {
   "cell_type": "markdown",
   "metadata": {},
   "source": [
    "## 2. A more realistic case. Subtract baseline and normalise to calibration constants"
   ]
  },
  {
   "cell_type": "markdown",
   "metadata": {},
   "source": [
    "### Data definition: consider an array sipm of 40 sipm, with a waveform of 100 samples"
   ]
  },
  {
   "cell_type": "code",
   "execution_count": 129,
   "metadata": {},
   "outputs": [
    {
     "name": "stdout",
     "output_type": "stream",
     "text": [
      "sipm array = [[100  98  99 ..., 100 100 100]\n",
      " [109 109 111 ..., 109 109 109]\n",
      " [120 119 120 ..., 119 119 121]\n",
      " ..., \n",
      " [470 468 471 ..., 469 469 471]\n",
      " [480 479 480 ..., 481 479 479]\n",
      " [491 490 488 ..., 488 490 489]]\n",
      "NSiPM = 40, NSiWF = 1000\n",
      "baselines = [  99.494  109.525  119.531  129.552  139.508  149.472  159.55   169.49\n",
      "  179.55   189.462  199.568  209.464  219.522  229.486  239.548  249.57\n",
      "  259.473  269.493  279.511  289.402  299.499  309.588  319.469  329.523\n",
      "  339.522  349.545  359.456  369.508  379.538  389.45   399.525  409.472\n",
      "  419.493  429.504  439.488  449.456  459.508  469.504  479.499  489.507]\n"
     ]
    }
   ],
   "source": [
    "nsipm = 40\n",
    "wfl = 1000\n",
    "sipm = np.zeros(nsipm * wfl, dtype=np.int16)\n",
    "sipm = np.reshape(sipm,(nsipm,wfl))\n",
    "for i in range(nsipm):\n",
    "    sipm[i,:] = np.random.normal(100+i*10, 1, wfl)\n",
    "\n",
    "print('sipm array = {}'.format(sipm))\n",
    "NSiPM = sipm.shape[0]\n",
    "NSiWF = sipm.shape[1]\n",
    "print('NSiPM = {}, NSiWF = {}'.format(NSiPM, NSiWF))\n",
    "print('baselines = {}'.format(np.mean(sipm,axis=1)))"
   ]
  },
  {
   "cell_type": "code",
   "execution_count": 130,
   "metadata": {},
   "outputs": [
    {
     "data": {
      "text/plain": [
       "array([  99.494,  109.525,  119.531,  129.552,  139.508,  149.472,\n",
       "        159.55 ,  169.49 ,  179.55 ,  189.462,  199.568,  209.464,\n",
       "        219.522,  229.486,  239.548,  249.57 ,  259.473,  269.493,\n",
       "        279.511,  289.402,  299.499,  309.588,  319.469,  329.523,\n",
       "        339.522,  349.545,  359.456,  369.508,  379.538,  389.45 ,\n",
       "        399.525,  409.472,  419.493,  429.504,  439.488,  449.456,\n",
       "        459.508,  469.504,  479.499,  489.507])"
      ]
     },
     "execution_count": 130,
     "metadata": {},
     "output_type": "execute_result"
    }
   ],
   "source": [
    "np.mean(sipm, axis=1)"
   ]
  },
  {
   "cell_type": "markdown",
   "metadata": {},
   "source": [
    "### And calibration constants for each SiPM"
   ]
  },
  {
   "cell_type": "code",
   "execution_count": 131,
   "metadata": {},
   "outputs": [
    {
     "name": "stdout",
     "output_type": "stream",
     "text": [
      "adc_to_pes = [ 1.00188173  1.00011053  0.9940998   1.0035543   1.00868826  0.98695399\n",
      "  1.00040184  0.99958598  0.97614018  1.01267556  0.99830305  0.9951432\n",
      "  0.99822443  0.99608194  1.00281689  0.99461701  1.00983247  0.99373154\n",
      "  0.99825226  0.99993601  1.01105532  0.99962493  1.00466351  0.99673651\n",
      "  0.99607507  0.99378755  0.99920661  1.00223458  0.98755582  0.99089838\n",
      "  1.02236777  1.00375817  0.99661337  0.99549016  0.98818035  1.01495367\n",
      "  1.01647804  0.98295486  1.00184541  0.99302345]\n"
     ]
    }
   ],
   "source": [
    "adc_to_pes = np.abs(np.random.normal(1, 0.01, nsipm))\n",
    "print('adc_to_pes = {}'.format(adc_to_pes))"
   ]
  },
  {
   "cell_type": "markdown",
   "metadata": {},
   "source": [
    "## Subtract baseline and normalize to adc"
   ]
  },
  {
   "cell_type": "markdown",
   "metadata": {},
   "source": [
    "### Python"
   ]
  },
  {
   "cell_type": "code",
   "execution_count": 132,
   "metadata": {
    "collapsed": true
   },
   "outputs": [],
   "source": [
    "def python_subtract_baseline_and_normalize(sipm, adc_to_pes):\n",
    "    \n",
    "    NSiPM = sipm.shape[0]\n",
    "    NSiWF = sipm.shape[1]\n",
    "    siwf = np.zeros((NSiPM, NSiWF), dtype=np.double)\n",
    "   \n",
    "    for j in range(NSiPM):\n",
    "        pmean = 0\n",
    "        for k in range(NSiWF):\n",
    "            pmean += sipm[j,k]\n",
    "        pmean /= NSiWF\n",
    "        \n",
    "        for k in range(NSiWF):\n",
    "                siwf[j,k] = (sipm[j,k] - pmean) / adc_to_pes[j]\n",
    "        \n",
    "    \n",
    "    return siwf "
   ]
  },
  {
   "cell_type": "code",
   "execution_count": 133,
   "metadata": {},
   "outputs": [],
   "source": [
    "npt.assert_allclose(np.mean(python_subtract_baseline_and_normalize(sipm, adc_to_pes)), 0, \n",
    "                            rtol=1e-05, atol=1e-05)"
   ]
  },
  {
   "cell_type": "code",
   "execution_count": 134,
   "metadata": {},
   "outputs": [
    {
     "name": "stdout",
     "output_type": "stream",
     "text": [
      "109 ms ± 6.8 ms per loop (mean ± std. dev. of 7 runs, 10 loops each)\n"
     ]
    }
   ],
   "source": [
    "t_python_subtract_baseline_and_normalize = %timeit -o python_subtract_baseline_and_normalize(sipm, adc_to_pes)"
   ]
  },
  {
   "cell_type": "markdown",
   "metadata": {},
   "source": [
    "### Python: using numpy"
   ]
  },
  {
   "cell_type": "code",
   "execution_count": 135,
   "metadata": {
    "collapsed": true
   },
   "outputs": [],
   "source": [
    "def np_subtract_baseline_and_normalize(sipm, adc_to_pes):\n",
    "    NSiPM = sipm.shape[0]\n",
    "    NSiWF = sipm.shape[1]\n",
    "    siwf = np.zeros((NSiPM, NSiWF), dtype=np.double)\n",
    "    bl = np.mean(sipm, axis=1)\n",
    "    for i in range(NSiPM):\n",
    "        siwf[i] = (sipm[i] - bl[i]) / adc_to_pes[i]\n",
    "    \n",
    "    return siwf"
   ]
  },
  {
   "cell_type": "code",
   "execution_count": 136,
   "metadata": {},
   "outputs": [],
   "source": [
    "npt.assert_allclose(np.mean(np_subtract_baseline_and_normalize(sipm, adc_to_pes)), 0, \n",
    "                            rtol=1e-05, atol=1e-05)"
   ]
  },
  {
   "cell_type": "code",
   "execution_count": 137,
   "metadata": {},
   "outputs": [
    {
     "data": {
      "text/plain": [
       "array([[ 0.50504963, -1.49119397, -0.49307217, ...,  0.50504963,\n",
       "         0.50504963,  0.50504963],\n",
       "       [-0.52494198, -0.52494198,  1.47483698, ..., -0.52494198,\n",
       "        -0.52494198, -0.52494198],\n",
       "       [ 0.47178362, -0.5341516 ,  0.47178362, ..., -0.5341516 ,\n",
       "        -0.5341516 ,  1.47771884],\n",
       "       ..., \n",
       "       [ 0.504601  , -1.53008044,  1.52194172, ..., -0.51273972,\n",
       "        -0.51273972,  1.52194172],\n",
       "       [ 0.50007715, -0.49808084,  0.50007715, ...,  1.49823514,\n",
       "        -0.49808084, -0.49808084],\n",
       "       [ 1.50348917,  0.4964636 , -1.51758753, ..., -1.51758753,\n",
       "         0.4964636 , -0.51056196]])"
      ]
     },
     "execution_count": 137,
     "metadata": {},
     "output_type": "execute_result"
    }
   ],
   "source": [
    "np_subtract_baseline_and_normalize(sipm, adc_to_pes)"
   ]
  },
  {
   "cell_type": "code",
   "execution_count": 138,
   "metadata": {},
   "outputs": [
    {
     "name": "stdout",
     "output_type": "stream",
     "text": [
      "338 µs ± 7.88 µs per loop (mean ± std. dev. of 7 runs, 1000 loops each)\n"
     ]
    }
   ],
   "source": [
    "t_np_subtract_baseline_and_normalize = %timeit -o np_subtract_baseline_and_normalize(sipm, adc_to_pes)"
   ]
  },
  {
   "cell_type": "markdown",
   "metadata": {},
   "source": [
    "#### Getting rid of loop"
   ]
  },
  {
   "cell_type": "code",
   "execution_count": 139,
   "metadata": {
    "collapsed": true
   },
   "outputs": [],
   "source": [
    "def np2_subtract_baseline_and_normalize(sipm, adc_to_pes):\n",
    "    NSiPM = sipm.shape[0]\n",
    "    NSiWF = sipm.shape[1]\n",
    "    siwf = np.zeros((NSiPM, NSiWF), dtype=np.double)\n",
    "    bl = np.mean(sipm, axis=1)\n",
    "    return (sipm - bl[:, np.newaxis]) / adc_to_pes[:, np.newaxis]\n",
    "    "
   ]
  },
  {
   "cell_type": "code",
   "execution_count": 140,
   "metadata": {},
   "outputs": [],
   "source": [
    "npt.assert_allclose(np.mean(np2_subtract_baseline_and_normalize(sipm, adc_to_pes)), 0, \n",
    "                            rtol=1e-05, atol=1e-05)"
   ]
  },
  {
   "cell_type": "code",
   "execution_count": 141,
   "metadata": {},
   "outputs": [
    {
     "data": {
      "text/plain": [
       "array([[ 0.50504963, -1.49119397, -0.49307217, ...,  0.50504963,\n",
       "         0.50504963,  0.50504963],\n",
       "       [-0.52494198, -0.52494198,  1.47483698, ..., -0.52494198,\n",
       "        -0.52494198, -0.52494198],\n",
       "       [ 0.47178362, -0.5341516 ,  0.47178362, ..., -0.5341516 ,\n",
       "        -0.5341516 ,  1.47771884],\n",
       "       ..., \n",
       "       [ 0.504601  , -1.53008044,  1.52194172, ..., -0.51273972,\n",
       "        -0.51273972,  1.52194172],\n",
       "       [ 0.50007715, -0.49808084,  0.50007715, ...,  1.49823514,\n",
       "        -0.49808084, -0.49808084],\n",
       "       [ 1.50348917,  0.4964636 , -1.51758753, ..., -1.51758753,\n",
       "         0.4964636 , -0.51056196]])"
      ]
     },
     "execution_count": 141,
     "metadata": {},
     "output_type": "execute_result"
    }
   ],
   "source": [
    "np2_subtract_baseline_and_normalize(sipm, adc_to_pes)"
   ]
  },
  {
   "cell_type": "code",
   "execution_count": 142,
   "metadata": {},
   "outputs": [
    {
     "name": "stdout",
     "output_type": "stream",
     "text": [
      "169 µs ± 2.32 µs per loop (mean ± std. dev. of 7 runs, 10000 loops each)\n"
     ]
    }
   ],
   "source": [
    "t_np2_subtract_baseline_and_normalize = %timeit -o np2_subtract_baseline_and_normalize(sipm, adc_to_pes)"
   ]
  },
  {
   "cell_type": "code",
   "execution_count": 242,
   "metadata": {},
   "outputs": [
    {
     "data": {
      "text/plain": [
       "320.88063170005813"
      ]
     },
     "execution_count": 242,
     "metadata": {},
     "output_type": "execute_result"
    }
   ],
   "source": [
    "t_python_subtract_baseline_and_normalize.best  / t_np_subtract_baseline_and_normalize.best"
   ]
  },
  {
   "cell_type": "code",
   "execution_count": 243,
   "metadata": {},
   "outputs": [
    {
     "data": {
      "text/plain": [
       "623.8917313453583"
      ]
     },
     "execution_count": 243,
     "metadata": {},
     "output_type": "execute_result"
    }
   ],
   "source": [
    "t_python_subtract_baseline_and_normalize.best  / t_np2_subtract_baseline_and_normalize.best"
   ]
  },
  {
   "cell_type": "markdown",
   "metadata": {},
   "source": [
    "#### NB! np_subtract_baseline_and_normalize does a partial vectorization of code, while np2_subtract_baseline_and_normalize does a full vectorization, gaining a factor of two in performance"
   ]
  },
  {
   "cell_type": "markdown",
   "metadata": {},
   "source": [
    "### Cython"
   ]
  },
  {
   "cell_type": "code",
   "execution_count": 145,
   "metadata": {
    "collapsed": true
   },
   "outputs": [],
   "source": [
    "%%cython \n",
    "cimport numpy as np\n",
    "import  numpy as np\n",
    "\n",
    "cdef double cmean(double [:] v):\n",
    "    cdef int  k\n",
    "    cdef int N = len(v)\n",
    "    cdef double pmean = 0\n",
    "    \n",
    "    for k in range(N):\n",
    "        pmean += v[k]\n",
    "    pmean /= N\n",
    "    return pmean\n",
    "\n",
    "cpdef cython_subtract_baseline_and_normalize(np.ndarray[np.int16_t, ndim=2]sipm, \n",
    "                                                            np.ndarray[np.float64_t, ndim=1] adc_to_pes):\n",
    "    cdef int NSiPM = sipm.shape[0]\n",
    "    cdef int NSiWF = sipm.shape[1]\n",
    "    cdef double [:, :] SiWF = sipm.astype(np.double)\n",
    "    cdef double [:, :] siwf = np.zeros((NSiPM, NSiWF), dtype=np.double)\n",
    "    cdef double [:]    bl = np.zeros(NSiPM)\n",
    "   \n",
    "    cdef int j, k\n",
    "    cdef double pmean\n",
    "    for j in range(NSiPM):\n",
    "        pmean = cmean(SiWF[j])\n",
    "        \n",
    "        for k in range(NSiWF):\n",
    "                siwf[j,k] = (SiWF[j,k] - pmean) / adc_to_pes[j]\n",
    "        \n",
    "    return np.asarray(siwf) \n",
    "\n",
    "\n"
   ]
  },
  {
   "cell_type": "code",
   "execution_count": 146,
   "metadata": {
    "collapsed": true
   },
   "outputs": [],
   "source": [
    "npt.assert_allclose(np.mean(cython_subtract_baseline_and_normalize(sipm, adc_to_pes)), 0, \n",
    "                            rtol=1e-05, atol=1e-05)"
   ]
  },
  {
   "cell_type": "code",
   "execution_count": 147,
   "metadata": {},
   "outputs": [
    {
     "data": {
      "text/plain": [
       "array([[ 0.50504963, -1.49119397, -0.49307217, ...,  0.50504963,\n",
       "         0.50504963,  0.50504963],\n",
       "       [-0.52494198, -0.52494198,  1.47483698, ..., -0.52494198,\n",
       "        -0.52494198, -0.52494198],\n",
       "       [ 0.47178362, -0.5341516 ,  0.47178362, ..., -0.5341516 ,\n",
       "        -0.5341516 ,  1.47771884],\n",
       "       ..., \n",
       "       [ 0.504601  , -1.53008044,  1.52194172, ..., -0.51273972,\n",
       "        -0.51273972,  1.52194172],\n",
       "       [ 0.50007715, -0.49808084,  0.50007715, ...,  1.49823514,\n",
       "        -0.49808084, -0.49808084],\n",
       "       [ 1.50348917,  0.4964636 , -1.51758753, ..., -1.51758753,\n",
       "         0.4964636 , -0.51056196]])"
      ]
     },
     "execution_count": 147,
     "metadata": {},
     "output_type": "execute_result"
    }
   ],
   "source": [
    "cython_subtract_baseline_and_normalize(sipm, adc_to_pes)"
   ]
  },
  {
   "cell_type": "code",
   "execution_count": 148,
   "metadata": {},
   "outputs": [
    {
     "name": "stdout",
     "output_type": "stream",
     "text": [
      "167 µs ± 1.05 µs per loop (mean ± std. dev. of 7 runs, 10000 loops each)\n"
     ]
    }
   ],
   "source": [
    "t_cython_subtract_baseline_and_normalize = %timeit -o cython_subtract_baseline_and_normalize(sipm, adc_to_pes)"
   ]
  },
  {
   "cell_type": "code",
   "execution_count": 244,
   "metadata": {},
   "outputs": [
    {
     "data": {
      "text/plain": [
       "620.5278778529091"
      ]
     },
     "execution_count": 244,
     "metadata": {},
     "output_type": "execute_result"
    }
   ],
   "source": [
    "t_python_subtract_baseline_and_normalize.best  / t_cython_subtract_baseline_and_normalize.best"
   ]
  },
  {
   "cell_type": "markdown",
   "metadata": {},
   "source": [
    "### Cython + np"
   ]
  },
  {
   "cell_type": "code",
   "execution_count": 150,
   "metadata": {},
   "outputs": [],
   "source": [
    "%%cython \n",
    "cimport numpy as np\n",
    "import  numpy as np\n",
    "\n",
    "cpdef cython_np_subtract_baseline_and_normalize(np.ndarray[np.int16_t, ndim=2]sipm, \n",
    "                                                            np.ndarray[np.float64_t, ndim=1] adc_to_pes):\n",
    "    cdef int NSiPM = sipm.shape[0]\n",
    "    bl = np.zeros(NSiPM)\n",
    "   \n",
    "   \n",
    "    bl = np.mean(sipm, axis=1)\n",
    "    return (sipm - bl[:, np.newaxis]) / adc_to_pes[:, np.newaxis]\n"
   ]
  },
  {
   "cell_type": "code",
   "execution_count": 151,
   "metadata": {},
   "outputs": [],
   "source": [
    "npt.assert_allclose(np.mean(cython_np_subtract_baseline_and_normalize(sipm, adc_to_pes)), 0, \n",
    "                            rtol=1e-05, atol=1e-05)"
   ]
  },
  {
   "cell_type": "code",
   "execution_count": 152,
   "metadata": {},
   "outputs": [
    {
     "data": {
      "text/plain": [
       "array([[ 0.50504963, -1.49119397, -0.49307217, ...,  0.50504963,\n",
       "         0.50504963,  0.50504963],\n",
       "       [-0.52494198, -0.52494198,  1.47483698, ..., -0.52494198,\n",
       "        -0.52494198, -0.52494198],\n",
       "       [ 0.47178362, -0.5341516 ,  0.47178362, ..., -0.5341516 ,\n",
       "        -0.5341516 ,  1.47771884],\n",
       "       ..., \n",
       "       [ 0.504601  , -1.53008044,  1.52194172, ..., -0.51273972,\n",
       "        -0.51273972,  1.52194172],\n",
       "       [ 0.50007715, -0.49808084,  0.50007715, ...,  1.49823514,\n",
       "        -0.49808084, -0.49808084],\n",
       "       [ 1.50348917,  0.4964636 , -1.51758753, ..., -1.51758753,\n",
       "         0.4964636 , -0.51056196]])"
      ]
     },
     "execution_count": 152,
     "metadata": {},
     "output_type": "execute_result"
    }
   ],
   "source": [
    "cython_np_subtract_baseline_and_normalize(sipm, adc_to_pes)"
   ]
  },
  {
   "cell_type": "code",
   "execution_count": 153,
   "metadata": {},
   "outputs": [
    {
     "name": "stdout",
     "output_type": "stream",
     "text": [
      "148 µs ± 10.4 µs per loop (mean ± std. dev. of 7 runs, 10000 loops each)\n"
     ]
    }
   ],
   "source": [
    "t_cython_np_subtract_baseline_and_normalize = %timeit -o cython_np_subtract_baseline_and_normalize(sipm, adc_to_pes)"
   ]
  },
  {
   "cell_type": "markdown",
   "metadata": {},
   "source": [
    "### Numba"
   ]
  },
  {
   "cell_type": "code",
   "execution_count": 154,
   "metadata": {
    "collapsed": true
   },
   "outputs": [],
   "source": [
    "numba_subtract_baseline_and_normalize = jit(python_subtract_baseline_and_normalize)"
   ]
  },
  {
   "cell_type": "code",
   "execution_count": 155,
   "metadata": {},
   "outputs": [
    {
     "name": "stdout",
     "output_type": "stream",
     "text": [
      "132 µs ± 1.03 µs per loop (mean ± std. dev. of 7 runs, 10000 loops each)\n"
     ]
    }
   ],
   "source": [
    "t_numba_subtract_baseline_and_normalize = %timeit -o numba_subtract_baseline_and_normalize(sipm, adc_to_pes)"
   ]
  },
  {
   "cell_type": "code",
   "execution_count": 156,
   "metadata": {},
   "outputs": [],
   "source": [
    "numba_np_subtract_baseline_and_normalize = jit(np_subtract_baseline_and_normalize)"
   ]
  },
  {
   "cell_type": "code",
   "execution_count": 157,
   "metadata": {},
   "outputs": [
    {
     "name": "stdout",
     "output_type": "stream",
     "text": [
      "121 µs ± 27.4 µs per loop (mean ± std. dev. of 7 runs, 1 loop each)\n"
     ]
    }
   ],
   "source": [
    "t_numba_np_subtract_baseline_and_normalize = %timeit -o numba_np_subtract_baseline_and_normalize(sipm, adc_to_pes)"
   ]
  },
  {
   "cell_type": "markdown",
   "metadata": {},
   "source": [
    "### Summary of performance for a problem involving array operations (subtract baseline and normalize)"
   ]
  },
  {
   "cell_type": "code",
   "execution_count": 245,
   "metadata": {},
   "outputs": [
    {
     "name": "stdout",
     "output_type": "stream",
     "text": [
      "\n",
      "python \t \t 1.0\n",
      "pthon + np \t 623.8917313453583\n",
      "cython \t\t 620.5278778529091\n",
      "numba \t\t 789.8176703043019\n",
      "numba (np) \t 963.2324938847604\n"
     ]
    }
   ],
   "source": [
    "print(\"\"\"\n",
    "python \\t \\t {}\n",
    "pthon + np \\t {}\n",
    "cython \\t\\t {}\n",
    "numba \\t\\t {}\n",
    "numba (np) \\t {}\"\"\".format(t_python_subtract_baseline_and_normalize.best / t_python_subtract_baseline_and_normalize.best, \n",
    "                     t_python_subtract_baseline_and_normalize.best / t_np2_subtract_baseline_and_normalize.best, \n",
    "                     t_python_subtract_baseline_and_normalize.best / t_cython_subtract_baseline_and_normalize.best,\n",
    "                     t_python_subtract_baseline_and_normalize.best / t_numba_subtract_baseline_and_normalize.best,\n",
    "                     t_python_subtract_baseline_and_normalize.best / t_numba_np_subtract_baseline_and_normalize.best))"
   ]
  },
  {
   "cell_type": "markdown",
   "metadata": {},
   "source": [
    "#### Similar results for python + np and cython, with numba improving both "
   ]
  },
  {
   "cell_type": "markdown",
   "metadata": {},
   "source": [
    "## 3. USING MAUs"
   ]
  },
  {
   "cell_type": "markdown",
   "metadata": {},
   "source": [
    "### Python version"
   ]
  },
  {
   "cell_type": "code",
   "execution_count": 228,
   "metadata": {
    "collapsed": true
   },
   "outputs": [],
   "source": [
    "def python_signal_above_thr_mau(sipm, adc_to_pes, thr, n_MAU=100):\n",
    "    \n",
    "\n",
    "    NSiPM = sipm.shape[0]\n",
    "    NSiWF = sipm.shape[1]\n",
    "    SiWF = sipm.astype(np.double)\n",
    "    siwf = np.zeros((NSiPM, NSiWF), dtype=np.double)\n",
    "    MAU = np.array(np.ones(n_MAU), dtype = np.double) * (1 / n_MAU)\n",
    "    MAU_ = np.zeros(NSiWF, dtype=np.double)\n",
    "    thrs = np.full(NSiPM, thr)\n",
    "    \n",
    "    for j in range(NSiPM):\n",
    "        if adc_to_pes[j] == 0:\n",
    "            continue\n",
    "\n",
    "        # compute and subtract the baseline\n",
    "        pmean = python_mean(SiWF[j])\n",
    "\n",
    "        for k in range(NSiWF):\n",
    "            SiWF[j,k] = SiWF[j,k] - pmean\n",
    "        MAU_ = signal.lfilter(MAU, 1, SiWF[j,:])\n",
    "        \n",
    "        \n",
    "        # threshold using the MAU\n",
    "        for k in range(NSiWF):\n",
    "            if SiWF[j,k]  > MAU_[k] + thrs[j] * adc_to_pes[j]:\n",
    "                siwf[j,k] = SiWF[j,k] / adc_to_pes[j]\n",
    "\n",
    "    return siwf"
   ]
  },
  {
   "cell_type": "code",
   "execution_count": 229,
   "metadata": {},
   "outputs": [
    {
     "data": {
      "text/plain": [
       "array([[ 0.50504963,  0.        ,  0.        , ...,  0.50504963,\n",
       "         0.50504963,  0.50504963],\n",
       "       [ 0.        ,  0.        ,  1.47483698, ...,  0.        ,\n",
       "         0.        ,  0.        ],\n",
       "       [ 0.47178362,  0.        ,  0.47178362, ...,  0.        ,\n",
       "         0.        ,  1.47771884],\n",
       "       ..., \n",
       "       [ 0.504601  ,  0.        ,  1.52194172, ...,  0.        ,\n",
       "         0.        ,  1.52194172],\n",
       "       [ 0.50007715,  0.        ,  0.50007715, ...,  1.49823514,\n",
       "         0.        ,  0.        ],\n",
       "       [ 1.50348917,  0.4964636 ,  0.        , ...,  0.        ,\n",
       "         0.4964636 ,  0.        ]])"
      ]
     },
     "execution_count": 229,
     "metadata": {},
     "output_type": "execute_result"
    }
   ],
   "source": [
    "python_signal_above_thr_mau(sipm, adc_to_pes, thr=0.1, n_MAU=100)"
   ]
  },
  {
   "cell_type": "code",
   "execution_count": 169,
   "metadata": {},
   "outputs": [
    {
     "name": "stdout",
     "output_type": "stream",
     "text": [
      "49.6 ms ± 2.98 ms per loop (mean ± std. dev. of 7 runs, 10 loops each)\n"
     ]
    }
   ],
   "source": [
    "t_python_signal_above_thr_mau = %timeit -o python_signal_above_thr_mau(sipm, adc_to_pes, thr=0.1, n_MAU=100)"
   ]
  },
  {
   "cell_type": "markdown",
   "metadata": {},
   "source": [
    "### Vectorized python"
   ]
  },
  {
   "cell_type": "code",
   "execution_count": 221,
   "metadata": {
    "collapsed": true
   },
   "outputs": [],
   "source": [
    "def np_signal_above_thr_mau(sipm, adc_to_pes, thr, n_MAU=100):\n",
    "    \n",
    "\n",
    "    NSiPM = sipm.shape[0]\n",
    "    NSiWF = sipm.shape[1]\n",
    "    SiWF = sipm.astype(np.double)\n",
    "    MAU = np.array(np.ones(n_MAU), dtype = np.double) * (1 / n_MAU)\n",
    "    MAU_ = np.zeros(NSiWF, dtype=np.double)\n",
    "    thrs = np.full(NSiPM, thr)\n",
    "    \n",
    "    SiWF = SiWF[adc_to_pes > 0]\n",
    "    \n",
    "    pmean = np.mean(sipm, axis=1)\n",
    "    SiWF  = SiWF  - pmean[:, np.newaxis]\n",
    "    MAU_ = signal.lfilter(MAU, 1, SiWF)\n",
    "    \n",
    "    return np.where(SiWF  > MAU_+ thrs[:, np.newaxis] * adc_to_pes[:, np.newaxis], \n",
    "             SiWF / adc_to_pes[:, np.newaxis], 0)\n",
    "    \n",
    "    return siwf\n",
    "    "
   ]
  },
  {
   "cell_type": "code",
   "execution_count": 222,
   "metadata": {},
   "outputs": [
    {
     "data": {
      "text/plain": [
       "array([[ 0.50504963,  0.        ,  0.        , ...,  0.50504963,\n",
       "         0.50504963,  0.50504963],\n",
       "       [ 0.        ,  0.        ,  1.47483698, ...,  0.        ,\n",
       "         0.        ,  0.        ],\n",
       "       [ 0.47178362,  0.        ,  0.47178362, ...,  0.        ,\n",
       "         0.        ,  1.47771884],\n",
       "       ..., \n",
       "       [ 0.504601  ,  0.        ,  1.52194172, ...,  0.        ,\n",
       "         0.        ,  1.52194172],\n",
       "       [ 0.50007715,  0.        ,  0.50007715, ...,  1.49823514,\n",
       "         0.        ,  0.        ],\n",
       "       [ 1.50348917,  0.4964636 ,  0.        , ...,  0.        ,\n",
       "         0.4964636 ,  0.        ]])"
      ]
     },
     "execution_count": 222,
     "metadata": {},
     "output_type": "execute_result"
    }
   ],
   "source": [
    "np_signal_above_thr_mau(sipm, adc_to_pes, thr=0.1, n_MAU=100)"
   ]
  },
  {
   "cell_type": "code",
   "execution_count": 223,
   "metadata": {},
   "outputs": [
    {
     "name": "stdout",
     "output_type": "stream",
     "text": [
      "1.92 ms ± 89.3 µs per loop (mean ± std. dev. of 7 runs, 100 loops each)\n"
     ]
    }
   ],
   "source": [
    "t_np_signal_above_thr_mau = %timeit -o np_signal_above_thr_mau(sipm, adc_to_pes, thr=0.1, n_MAU=100)"
   ]
  },
  {
   "cell_type": "markdown",
   "metadata": {},
   "source": [
    "### Cython"
   ]
  },
  {
   "cell_type": "code",
   "execution_count": 173,
   "metadata": {},
   "outputs": [],
   "source": [
    "%%cython \n",
    "cimport numpy as np\n",
    "import  numpy as np\n",
    "from scipy import signal\n",
    "\n",
    "cdef double cmean(double [:] v):\n",
    "    cdef int  k\n",
    "    cdef int N = len(v)\n",
    "    cdef double pmean = 0\n",
    "    \n",
    "    for k in range(N):\n",
    "        pmean += v[k]\n",
    "    pmean /= N\n",
    "    return pmean\n",
    "\n",
    "cpdef cython_signal_above_thr_mau(np.ndarray[np.int16_t, ndim=2] sipm,\n",
    "                                np.ndarray[np.float64_t, ndim=1] adc_to_pes,\n",
    "                                thr,\n",
    "                                int n_MAU=100):\n",
    "    \"\"\"\n",
    "    subtracts the baseline\n",
    "    Uses a MAU to set the signal threshold (thr, in PES)\n",
    "\n",
    "    \"\"\"\n",
    "\n",
    "    cdef int NSiPM = sipm.shape[0]\n",
    "    cdef int NSiWF = sipm.shape[1]\n",
    "    cdef double [:, :] SiWF = sipm.astype(np.double)\n",
    "    cdef double [:, :] siwf = np.zeros((NSiPM, NSiWF), dtype=np.double)\n",
    "    cdef double [:] MAU = np.array(np.ones(n_MAU), dtype = np.double) * (1 / n_MAU)\n",
    "    cdef double [:] MAU_ = np.zeros(NSiWF, dtype=np.double)\n",
    "    cdef int j, k\n",
    "    cdef double pmean\n",
    "    cdef double [:] thrs = np.full(NSiPM, thr)\n",
    "\n",
    "\n",
    "    # loop over all SiPMs. Skip any SiPM with adc_to_pes constant = 0\n",
    "    # since this means SiPM is dead\n",
    "    for j in range(NSiPM):\n",
    "        if adc_to_pes[j] == 0:\n",
    "            continue\n",
    "\n",
    "        # compute and subtract the baseline\n",
    "        pmean = cmean(SiWF[j])\n",
    "\n",
    "        for k in range(NSiWF):\n",
    "            SiWF[j,k] = SiWF[j,k] - pmean\n",
    "        MAU_ = signal.lfilter(MAU, 1, SiWF[j,:])\n",
    "\n",
    "        # threshold using the MAU\n",
    "        for k in range(NSiWF):\n",
    "            if SiWF[j,k]  > MAU_[k] + thrs[j] * adc_to_pes[j]:\n",
    "                siwf[j,k] = SiWF[j,k] / adc_to_pes[j]\n",
    "\n",
    "    return np.asarray(siwf)"
   ]
  },
  {
   "cell_type": "code",
   "execution_count": 174,
   "metadata": {},
   "outputs": [
    {
     "data": {
      "text/plain": [
       "array([[ 0.50504963,  0.        ,  0.        , ...,  0.50504963,\n",
       "         0.50504963,  0.50504963],\n",
       "       [ 0.        ,  0.        ,  1.47483698, ...,  0.        ,\n",
       "         0.        ,  0.        ],\n",
       "       [ 0.47178362,  0.        ,  0.47178362, ...,  0.        ,\n",
       "         0.        ,  1.47771884],\n",
       "       ..., \n",
       "       [ 0.504601  ,  0.        ,  1.52194172, ...,  0.        ,\n",
       "         0.        ,  1.52194172],\n",
       "       [ 0.50007715,  0.        ,  0.50007715, ...,  1.49823514,\n",
       "         0.        ,  0.        ],\n",
       "       [ 1.50348917,  0.4964636 ,  0.        , ...,  0.        ,\n",
       "         0.4964636 ,  0.        ]])"
      ]
     },
     "execution_count": 174,
     "metadata": {},
     "output_type": "execute_result"
    }
   ],
   "source": [
    "cython_signal_above_thr_mau(sipm, adc_to_pes, thr=0.1, n_MAU=20)"
   ]
  },
  {
   "cell_type": "code",
   "execution_count": 175,
   "metadata": {},
   "outputs": [
    {
     "name": "stdout",
     "output_type": "stream",
     "text": [
      "4.58 ms ± 186 µs per loop (mean ± std. dev. of 7 runs, 100 loops each)\n"
     ]
    }
   ],
   "source": [
    "t_cython_signal_above_thr_mau = %timeit -o cython_signal_above_thr_mau(sipm, adc_to_pes, thr=0.1, n_MAU=20)"
   ]
  },
  {
   "cell_type": "markdown",
   "metadata": {},
   "source": [
    "### Numba"
   ]
  },
  {
   "cell_type": "code",
   "execution_count": 176,
   "metadata": {
    "collapsed": true
   },
   "outputs": [],
   "source": [
    "numba_signal_above_thr_mau = jit(python_signal_above_thr_mau)"
   ]
  },
  {
   "cell_type": "code",
   "execution_count": 177,
   "metadata": {},
   "outputs": [
    {
     "data": {
      "text/plain": [
       "array([[ 0.50504963,  0.        ,  0.        , ...,  0.50504963,\n",
       "         0.50504963,  0.50504963],\n",
       "       [ 0.        ,  0.        ,  1.47483698, ...,  0.        ,\n",
       "         0.        ,  0.        ],\n",
       "       [ 0.47178362,  0.        ,  0.47178362, ...,  0.        ,\n",
       "         0.        ,  1.47771884],\n",
       "       ..., \n",
       "       [ 0.504601  ,  0.        ,  1.52194172, ...,  0.        ,\n",
       "         0.        ,  1.52194172],\n",
       "       [ 0.50007715,  0.        ,  0.50007715, ...,  1.49823514,\n",
       "         0.        ,  0.        ],\n",
       "       [ 1.50348917,  0.4964636 ,  0.        , ...,  0.        ,\n",
       "         0.4964636 ,  0.        ]])"
      ]
     },
     "execution_count": 177,
     "metadata": {},
     "output_type": "execute_result"
    }
   ],
   "source": [
    "numba_signal_above_thr_mau(sipm, adc_to_pes, thr=0.1, n_MAU=20)"
   ]
  },
  {
   "cell_type": "code",
   "execution_count": 178,
   "metadata": {},
   "outputs": [
    {
     "name": "stdout",
     "output_type": "stream",
     "text": [
      "48.6 ms ± 2.16 ms per loop (mean ± std. dev. of 7 runs, 10 loops each)\n"
     ]
    }
   ],
   "source": [
    "t_numba_signal_above_thr_mau = %timeit -o numba_signal_above_thr_mau(sipm, adc_to_pes, thr=0.1, n_MAU=20)"
   ]
  },
  {
   "cell_type": "code",
   "execution_count": 224,
   "metadata": {
    "collapsed": true
   },
   "outputs": [],
   "source": [
    "numba_np_signal_above_thr_mau = jit(np_signal_above_thr_mau)"
   ]
  },
  {
   "cell_type": "code",
   "execution_count": 225,
   "metadata": {},
   "outputs": [
    {
     "name": "stdout",
     "output_type": "stream",
     "text": [
      "1.65 ms ± 88.1 µs per loop (mean ± std. dev. of 7 runs, 1 loop each)\n"
     ]
    }
   ],
   "source": [
    "t_numba_np_signal_above_thr_mau = %timeit -o numba_np_signal_above_thr_mau(sipm, adc_to_pes, thr=0.1, n_MAU=20)"
   ]
  },
  {
   "cell_type": "markdown",
   "metadata": {},
   "source": [
    "### Summary of results for a problem involving complex calls to SciPy (MAU) "
   ]
  },
  {
   "cell_type": "code",
   "execution_count": 232,
   "metadata": {},
   "outputs": [
    {
     "name": "stdout",
     "output_type": "stream",
     "text": [
      "\n",
      "python \t \t 1.0\n",
      "pthon + np \t 24.965926939932817\n",
      "cython \t\t 10.812630925499867\n",
      "numba \t\t 0.9815990646915994\n",
      "numba (np) \t 28.225322304198276\n",
      "\n"
     ]
    }
   ],
   "source": [
    "print(\"\"\"\n",
    "python \\t \\t {}\n",
    "pthon + np \\t {}\n",
    "cython \\t\\t {}\n",
    "numba \\t\\t {}\n",
    "numba (np) \\t {}\n",
    "\"\"\".format(t_python_signal_above_thr_mau.best / t_python_signal_above_thr_mau.best, \n",
    "                     t_python_signal_above_thr_mau.best / t_np_signal_above_thr_mau.best, \n",
    "                     t_python_signal_above_thr_mau.best / t_cython_signal_above_thr_mau.best,\n",
    "                     t_python_signal_above_thr_mau.best / t_numba_signal_above_thr_mau.best,\n",
    "                     t_python_signal_above_thr_mau.best / t_numba_np_signal_above_thr_mau.best))"
   ]
  },
  {
   "cell_type": "markdown",
   "metadata": {},
   "source": [
    "#### Improvement is not so spectacular wrt simple problems. This is due to the fact that most of the time is spent in the MAU which is already optimized. However, using vector np gives any way better results than cython. Numba does not improve noticeaby python + np when used vectorized and gives the same performance than python when used as loops. This is again, due to the fact that all the time is spent in the MAU"
   ]
  },
  {
   "cell_type": "markdown",
   "metadata": {},
   "source": [
    "## Summary"
   ]
  },
  {
   "cell_type": "markdown",
   "metadata": {},
   "source": [
    "### Simple mean"
   ]
  },
  {
   "cell_type": "code",
   "execution_count": 233,
   "metadata": {},
   "outputs": [
    {
     "name": "stdout",
     "output_type": "stream",
     "text": [
      "\n",
      "python \t \t 1.0\n",
      "pthon + np \t 164.80898206977096\n",
      "cython \t\t 37.19806875829442\n",
      "numba \t\t 130.12006602518446\n"
     ]
    }
   ],
   "source": [
    "print(\"\"\"\n",
    "python \\t \\t {}\n",
    "pthon + np \\t {}\n",
    "cython \\t\\t {}\n",
    "numba \\t\\t {}\"\"\".format(t_python_mean.best / t_python_mean.best, \n",
    "                     t_python_mean.best / t_python_np_mean.best, \n",
    "                     t_python_mean.best / t_cython_mean.best,\n",
    "                     t_python_mean.best / t_numba_mean.best ))"
   ]
  },
  {
   "cell_type": "markdown",
   "metadata": {},
   "source": [
    "### Substract baseline and normalize"
   ]
  },
  {
   "cell_type": "code",
   "execution_count": 234,
   "metadata": {},
   "outputs": [
    {
     "name": "stdout",
     "output_type": "stream",
     "text": [
      "\n",
      "python \t \t 1.0\n",
      "pthon + np \t 623.8917313453583\n",
      "cython \t\t 620.5278778529091\n",
      "numba \t\t 789.8176703043019\n"
     ]
    }
   ],
   "source": [
    "print(\"\"\"\n",
    "python \\t \\t {}\n",
    "pthon + np \\t {}\n",
    "cython \\t\\t {}\n",
    "numba \\t\\t {}\"\"\".format(t_python_subtract_baseline_and_normalize.best / t_python_subtract_baseline_and_normalize.best, \n",
    "                     t_python_subtract_baseline_and_normalize.best / t_np2_subtract_baseline_and_normalize.best, \n",
    "                     t_python_subtract_baseline_and_normalize.best / t_cython_subtract_baseline_and_normalize.best,\n",
    "                     t_python_subtract_baseline_and_normalize.best / t_numba_subtract_baseline_and_normalize.best ))"
   ]
  },
  {
   "cell_type": "markdown",
   "metadata": {},
   "source": [
    "### Signal above threshold using MAUS"
   ]
  },
  {
   "cell_type": "code",
   "execution_count": 237,
   "metadata": {},
   "outputs": [
    {
     "name": "stdout",
     "output_type": "stream",
     "text": [
      "\n",
      "python \t \t 1.0\n",
      "pthon + np \t 24.965926939932817\n",
      "cython \t\t 10.812630925499867\n",
      "numba \t\t 0.9815990646915994\n",
      "numba (np) \t 28.225322304198276\n",
      "\n"
     ]
    }
   ],
   "source": [
    "print(\"\"\"\n",
    "python \\t \\t {}\n",
    "pthon + np \\t {}\n",
    "cython \\t\\t {}\n",
    "numba \\t\\t {}\n",
    "numba (np) \\t {}\n",
    "\"\"\".format(t_python_signal_above_thr_mau.best / t_python_signal_above_thr_mau.best, \n",
    "                     t_python_signal_above_thr_mau.best / t_np_signal_above_thr_mau.best, \n",
    "                     t_python_signal_above_thr_mau.best / t_cython_signal_above_thr_mau.best,\n",
    "                     t_python_signal_above_thr_mau.best / t_numba_signal_above_thr_mau.best,\n",
    "                     t_python_signal_above_thr_mau.best / t_numba_np_signal_above_thr_mau.best))"
   ]
  },
  {
   "cell_type": "markdown",
   "metadata": {},
   "source": [
    "### Findings"
   ]
  },
  {
   "cell_type": "markdown",
   "metadata": {},
   "source": [
    "1. Vectorized python is consistently fast. If the problem can be expressed in terms of numpy vectors or scipy vector operations, it appears that further optimisation is not worth. \n",
    "2. cython underperforms for simple calculations (e.g, a vector mean) compared both with python + np or numba. For more complex calculations (e.g, subtract baseline and normalize, signal above threshold) it performs better but never beats np, or numba (+np)\n",
    "3. numba performs very well for simple calculatitions (but cannot beat np for something like a mean) but for complex calculations it can be tricky. For instance for the calculation of signal above threshold using MAUS, numba essentially does nothing, the resulting performance is that of the python code. "
   ]
  },
  {
   "cell_type": "code",
   "execution_count": null,
   "metadata": {
    "collapsed": true
   },
   "outputs": [],
   "source": []
  }
 ],
 "metadata": {
  "kernelspec": {
   "display_name": "Python 3",
   "language": "python",
   "name": "python3"
  },
  "language_info": {
   "codemirror_mode": {
    "name": "ipython",
    "version": 3
   },
   "file_extension": ".py",
   "mimetype": "text/x-python",
   "name": "python",
   "nbconvert_exporter": "python",
   "pygments_lexer": "ipython3",
   "version": "3.6.2"
  }
 },
 "nbformat": 4,
 "nbformat_minor": 2
}
