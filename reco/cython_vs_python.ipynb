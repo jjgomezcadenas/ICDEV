{
 "cells": [
  {
   "cell_type": "markdown",
   "metadata": {},
   "source": [
    "# Cython vs Python: a simple study case"
   ]
  },
  {
   "cell_type": "markdown",
   "metadata": {},
   "source": [
    "In this notebook I present a simple study case of cython versus python performance. Three problems are considered:\n",
    "\n",
    "1. A simple operation involving 1d arrays (e.g, compute the mean of a 1d array)\n",
    "2. A more complex problem involving a 2d array: This is the classical computation of a pedestal, using the mean of the waveform, and then returning the pedestal-subtracted waveform normalized to some calibration constants. The data is a 2d array, with one axis running over sensors and the other representing each sensor waveform.\n",
    "3. An even more complex problem where a MAU is used to compute the pedestal and then subtract it or return values above pedetal + MAU\n"
   ]
  },
  {
   "cell_type": "code",
   "execution_count": 18,
   "metadata": {},
   "outputs": [
    {
     "name": "stdout",
     "output_type": "stream",
     "text": [
      "2017-12-01 08:46:57\n"
     ]
    }
   ],
   "source": [
    "import os\n",
    "import datetime\n",
    "print(datetime.datetime.now().strftime('%Y-%m-%d %H:%M:%S'))\n",
    "\n",
    "import time\n",
    "import glob\n",
    "import tables as tb\n",
    "import numpy as np\n",
    "import pandas as pd\n",
    "import matplotlib.pyplot as plt\n",
    "from functools import reduce\n",
    "%matplotlib inline\n",
    "%load_ext autoreload\n",
    "%autoreload 2\n",
    "\n",
    "plt.rcParams[\"figure.figsize\"] = 10, 8\n",
    "plt.rcParams[\"font.size\"     ] = 14"
   ]
  },
  {
   "cell_type": "code",
   "execution_count": 369,
   "metadata": {
    "collapsed": true
   },
   "outputs": [],
   "source": [
    "from scipy import signal"
   ]
  },
  {
   "cell_type": "code",
   "execution_count": 7,
   "metadata": {},
   "outputs": [
    {
     "name": "stdout",
     "output_type": "stream",
     "text": [
      "The Cython extension is already loaded. To reload it, use:\n",
      "  %reload_ext Cython\n"
     ]
    }
   ],
   "source": [
    "%load_ext Cython"
   ]
  },
  {
   "cell_type": "markdown",
   "metadata": {},
   "source": [
    "## 1.  Simple operation (mean of a vector): python, cython and python + numpy"
   ]
  },
  {
   "cell_type": "code",
   "execution_count": 432,
   "metadata": {},
   "outputs": [],
   "source": [
    "mu, sigma = 0, 0.1\n",
    "s = np.random.normal(mu, sigma, 10000)"
   ]
  },
  {
   "cell_type": "code",
   "execution_count": 433,
   "metadata": {},
   "outputs": [
    {
     "data": {
      "image/png": "[encoded data removed]",
      "text/plain": [
       "<matplotlib.figure.Figure at 0x11218ac18>"
      ]
     },
     "metadata": {},
     "output_type": "display_data"
    }
   ],
   "source": [
    "count, bins, ignored = plt.hist(s, 30, normed=True)"
   ]
  },
  {
   "cell_type": "markdown",
   "metadata": {},
   "source": [
    "### Python"
   ]
  },
  {
   "cell_type": "code",
   "execution_count": 434,
   "metadata": {
    "collapsed": true
   },
   "outputs": [],
   "source": [
    "def python_mean(v):\n",
    "    \"\"\"Compute the mean of vector v using loop\"\"\"\n",
    "    pmean = 0\n",
    "    lv = len(v)\n",
    "    for k in range(lv):\n",
    "        pmean += v[k]\n",
    "    pmean /= lv\n",
    "    return pmean"
   ]
  },
  {
   "cell_type": "code",
   "execution_count": 435,
   "metadata": {},
   "outputs": [
    {
     "name": "stdout",
     "output_type": "stream",
     "text": [
      "-0.00212340609707\n"
     ]
    }
   ],
   "source": [
    "print(python_mean(s))"
   ]
  },
  {
   "cell_type": "code",
   "execution_count": 436,
   "metadata": {},
   "outputs": [
    {
     "name": "stdout",
     "output_type": "stream",
     "text": [
      "1.47 ms ± 27.8 µs per loop (mean ± std. dev. of 7 runs, 1000 loops each)\n"
     ]
    }
   ],
   "source": [
    "%timeit python_mean(s)"
   ]
  },
  {
   "cell_type": "markdown",
   "metadata": {},
   "source": [
    "### Using numpy"
   ]
  },
  {
   "cell_type": "code",
   "execution_count": 437,
   "metadata": {
    "collapsed": true
   },
   "outputs": [],
   "source": [
    "def mean_np(v):\n",
    "    \"\"\"Compute the mean of vector v using np\"\"\"\n",
    "    return np.mean(v)"
   ]
  },
  {
   "cell_type": "code",
   "execution_count": 438,
   "metadata": {},
   "outputs": [
    {
     "name": "stdout",
     "output_type": "stream",
     "text": [
      "-0.00212340609707\n"
     ]
    }
   ],
   "source": [
    "print(mean_np(s))"
   ]
  },
  {
   "cell_type": "code",
   "execution_count": 439,
   "metadata": {},
   "outputs": [
    {
     "name": "stdout",
     "output_type": "stream",
     "text": [
      "8.93 µs ± 511 ns per loop (mean ± std. dev. of 7 runs, 100000 loops each)\n"
     ]
    }
   ],
   "source": [
    "%timeit mean_np(s)"
   ]
  },
  {
   "cell_type": "code",
   "execution_count": 440,
   "metadata": {},
   "outputs": [
    {
     "name": "stdout",
     "output_type": "stream",
     "text": [
      "8.81 µs ± 384 ns per loop (mean ± std. dev. of 7 runs, 100000 loops each)\n"
     ]
    }
   ],
   "source": [
    "%timeit np.mean(s)"
   ]
  },
  {
   "cell_type": "code",
   "execution_count": 441,
   "metadata": {},
   "outputs": [
    {
     "name": "stdout",
     "output_type": "stream",
     "text": [
      "python + np / python = 166.66666666666666\n"
     ]
    }
   ],
   "source": [
    "print('python + np / python = {}'.format(1.5e-3 /9e-6 ))"
   ]
  },
  {
   "cell_type": "markdown",
   "metadata": {},
   "source": [
    "#### Using np.mean() is ~166 times faster than naive mean in python. "
   ]
  },
  {
   "cell_type": "markdown",
   "metadata": {},
   "source": [
    "### Using cython"
   ]
  },
  {
   "cell_type": "code",
   "execution_count": 442,
   "metadata": {},
   "outputs": [],
   "source": [
    "%%cython \n",
    "cpdef float cython_mean(double [:] v):\n",
    "    \"\"\"Compute the mean of vector v using loop\"\"\"\n",
    "    cdef float pmean = 0\n",
    "    cdef int lv = len(v)\n",
    "    cdef int k\n",
    "    for k in range(lv):\n",
    "        pmean += v[k]\n",
    "    pmean /= lv\n",
    "    return pmean\n"
   ]
  },
  {
   "cell_type": "code",
   "execution_count": 443,
   "metadata": {},
   "outputs": [
    {
     "name": "stdout",
     "output_type": "stream",
     "text": [
      "-0.0021234049927443266\n"
     ]
    }
   ],
   "source": [
    "print(cython_mean(s))"
   ]
  },
  {
   "cell_type": "code",
   "execution_count": 444,
   "metadata": {},
   "outputs": [
    {
     "name": "stdout",
     "output_type": "stream",
     "text": [
      "39 µs ± 1.72 µs per loop (mean ± std. dev. of 7 runs, 10000 loops each)\n"
     ]
    }
   ],
   "source": [
    "%timeit cython_mean(s)"
   ]
  },
  {
   "cell_type": "code",
   "execution_count": 445,
   "metadata": {},
   "outputs": [
    {
     "name": "stdout",
     "output_type": "stream",
     "text": [
      "python + np / cython = 4.333333333333333\n"
     ]
    }
   ],
   "source": [
    "print('python + np / cython = {}'.format(39e-6 /9e-6 ))"
   ]
  },
  {
   "cell_type": "markdown",
   "metadata": {},
   "source": [
    "#### Using python + np is 4 times faster than using naive cython"
   ]
  },
  {
   "cell_type": "markdown",
   "metadata": {},
   "source": [
    "## 2. A more realistic case. Subtract baseline and normalise to calibration constants"
   ]
  },
  {
   "cell_type": "markdown",
   "metadata": {},
   "source": [
    "### Data definition: consider an array sipm of 40 sipm, with a waveform of 100 samples"
   ]
  },
  {
   "cell_type": "code",
   "execution_count": 446,
   "metadata": {},
   "outputs": [
    {
     "name": "stdout",
     "output_type": "stream",
     "text": [
      "sipm array = [[100  99 100 ...,  98  99 101]\n",
      " [110 111 110 ..., 110 111 111]\n",
      " [120 120 120 ..., 120 121 120]\n",
      " ..., \n",
      " [468 470 469 ..., 471 470 471]\n",
      " [479 478 480 ..., 479 480 479]\n",
      " [490 490 490 ..., 490 489 489]]\n",
      "NSiPM = 40, NSiWF = 100\n",
      "baselines = [  99.55  109.68  119.48  129.37  139.61  149.55  159.55  169.6   179.57\n",
      "  189.51  199.54  209.63  219.41  229.62  239.6   249.36  259.27  269.56\n",
      "  279.57  289.39  299.3   309.56  319.47  329.65  339.45  349.55  359.55\n",
      "  369.5   379.42  389.49  399.49  409.37  419.43  429.52  439.43  449.47\n",
      "  459.29  469.59  479.36  489.64]\n"
     ]
    }
   ],
   "source": [
    "nsipm = 40\n",
    "wfl = 100\n",
    "sipm = np.zeros(nsipm * wfl, dtype=np.int16)\n",
    "sipm = np.reshape(sipm,(nsipm,wfl))\n",
    "for i in range(nsipm):\n",
    "    sipm[i,:] = np.random.normal(100+i*10, 1, wfl)\n",
    "\n",
    "print('sipm array = {}'.format(sipm))\n",
    "NSiPM = sipm.shape[0]\n",
    "NSiWF = sipm.shape[1]\n",
    "print('NSiPM = {}, NSiWF = {}'.format(NSiPM, NSiWF))\n",
    "print('baselines = {}'.format(np.mean(sipm,axis=1)))"
   ]
  },
  {
   "cell_type": "code",
   "execution_count": 447,
   "metadata": {},
   "outputs": [
    {
     "data": {
      "text/plain": [
       "array([  99.55,  109.68,  119.48,  129.37,  139.61,  149.55,  159.55,\n",
       "        169.6 ,  179.57,  189.51,  199.54,  209.63,  219.41,  229.62,\n",
       "        239.6 ,  249.36,  259.27,  269.56,  279.57,  289.39,  299.3 ,\n",
       "        309.56,  319.47,  329.65,  339.45,  349.55,  359.55,  369.5 ,\n",
       "        379.42,  389.49,  399.49,  409.37,  419.43,  429.52,  439.43,\n",
       "        449.47,  459.29,  469.59,  479.36,  489.64])"
      ]
     },
     "execution_count": 447,
     "metadata": {},
     "output_type": "execute_result"
    }
   ],
   "source": [
    "np.mean(sipm, axis=1)"
   ]
  },
  {
   "cell_type": "markdown",
   "metadata": {},
   "source": [
    "### And calibration constants for each SiPM"
   ]
  },
  {
   "cell_type": "code",
   "execution_count": 448,
   "metadata": {},
   "outputs": [
    {
     "name": "stdout",
     "output_type": "stream",
     "text": [
      "adc_to_pes = [ 0.99837047  0.97951991  1.01232185  0.99994289  0.98687132  0.98458819\n",
      "  1.01628343  1.02097536  0.9909171   1.00864264  1.006866    0.9869911\n",
      "  1.00171909  0.99573359  0.98178904  1.0131474   0.99764482  0.98913378\n",
      "  0.9911122   0.99482352  0.98360195  0.98240489  0.99409501  0.99107535\n",
      "  1.00851573  0.99411551  1.00606028  0.9897853   1.00064013  1.01720575\n",
      "  1.00223264  0.99385143  1.01148439  1.00922862  0.99799809  0.99566014\n",
      "  1.00629834  1.00054769  1.0180636   1.00272275]\n"
     ]
    }
   ],
   "source": [
    "adc_to_pes = np.abs(np.random.normal(1, 0.01, nsipm))\n",
    "print('adc_to_pes = {}'.format(adc_to_pes))"
   ]
  },
  {
   "cell_type": "markdown",
   "metadata": {},
   "source": [
    "## Subtract baseline and normalize to adc"
   ]
  },
  {
   "cell_type": "markdown",
   "metadata": {},
   "source": [
    "### Python"
   ]
  },
  {
   "cell_type": "code",
   "execution_count": 449,
   "metadata": {
    "collapsed": true
   },
   "outputs": [],
   "source": [
    "def python_sipm_subtract_baseline_and_normalize_to_adc(sipm, adc_to_pes):\n",
    "    \n",
    "    NSiPM = sipm.shape[0]\n",
    "    NSiWF = sipm.shape[1]\n",
    "    siwf = np.zeros((NSiPM, NSiWF), dtype=np.double)\n",
    "    bl = np.zeros(NSiPM)\n",
    "   \n",
    "    for j in range(NSiPM):\n",
    "        pmean = 0\n",
    "        for k in range(NSiWF):\n",
    "            pmean += sipm[j,k]\n",
    "        pmean /= NSiWF\n",
    "        \n",
    "        bl[j] = pmean\n",
    "        \n",
    "        for k in range(NSiWF):\n",
    "                siwf[j,k] = (sipm[j,k] - pmean) / adc_to_pes[j]\n",
    "        \n",
    "    \n",
    "    return bl, siwf "
   ]
  },
  {
   "cell_type": "code",
   "execution_count": 450,
   "metadata": {},
   "outputs": [
    {
     "name": "stdout",
     "output_type": "stream",
     "text": [
      "baselines = [  99.55  109.68  119.48  129.37  139.61  149.55  159.55  169.6   179.57\n",
      "  189.51  199.54  209.63  219.41  229.62  239.6   249.36  259.27  269.56\n",
      "  279.57  289.39  299.3   309.56  319.47  329.65  339.45  349.55  359.55\n",
      "  369.5   379.42  389.49  399.49  409.37  419.43  429.52  439.43  449.47\n",
      "  459.29  469.59  479.36  489.64]\n",
      "SiPMs = [[ 0.45073448 -0.5508977   0.45073448 ..., -1.55252989 -0.5508977\n",
      "   1.45236667]\n",
      " [ 0.32669065  1.34759895  0.32669065 ...,  0.32669065  1.34759895\n",
      "   1.34759895]\n",
      " [ 0.51367063  0.51367063  0.51367063 ...,  0.51367063  1.50149876\n",
      "   0.51367063]\n",
      " ..., \n",
      " [-1.58912965  0.40977557 -0.58967704 ...,  1.40922818  0.40977557\n",
      "   1.40922818]\n",
      " [-0.35361249 -1.33586939  0.62864442 ..., -0.35361249  0.62864442\n",
      "  -0.35361249]\n",
      " [ 0.35902247  0.35902247  0.35902247 ...,  0.35902247 -0.63826217\n",
      "  -0.63826217]]\n"
     ]
    },
    {
     "data": {
      "text/plain": [
       "array([  2.81774604e-15,  -6.98108238e-15,  -3.92685884e-15,\n",
       "        -4.57300864e-15,  -1.38467016e-14,  -1.15452092e-14,\n",
       "        -1.11755050e-14,   5.62216940e-15,   6.88338275e-15,\n",
       "         9.00612918e-15,   7.92255150e-15,   4.61852778e-15,\n",
       "         3.45057316e-15,  -4.62074823e-15,   5.71986902e-15,\n",
       "        -1.34658951e-14,   1.82009963e-14,  -2.36921593e-15,\n",
       "         6.94500013e-15,   1.37145850e-14,  -1.15929488e-14,\n",
       "        -2.34257058e-15,  -2.74624767e-14,   2.29793962e-14,\n",
       "         1.13220544e-14,  -1.14241949e-14,  -1.12887477e-14,\n",
       "        -8.88178420e-18,  -1.58562052e-14,  -8.95949981e-15,\n",
       "        -9.06219544e-15,  -4.57966998e-15,  -6.75237644e-15,\n",
       "         1.80366833e-14,  -6.87894186e-15,  -2.74136269e-14,\n",
       "        -2.03081996e-14,   2.49911203e-14,  -1.33892897e-14,\n",
       "         1.35957912e-14])"
      ]
     },
     "execution_count": 450,
     "metadata": {},
     "output_type": "execute_result"
    }
   ],
   "source": [
    "bl, wf = python_sipm_subtract_baseline_and_normalize_to_adc(sipm, adc_to_pes)\n",
    "print('baselines = {}'.format(bl))\n",
    "print('SiPMs = {}'.format(wf))\n",
    "np.mean(wf,axis=1)"
   ]
  },
  {
   "cell_type": "code",
   "execution_count": 451,
   "metadata": {},
   "outputs": [
    {
     "name": "stdout",
     "output_type": "stream",
     "text": [
      "11.6 ms ± 213 µs per loop (mean ± std. dev. of 7 runs, 100 loops each)\n"
     ]
    }
   ],
   "source": [
    "%timeit python_sipm_subtract_baseline_and_normalize_to_adc_2l(sipm, adc_to_pes)"
   ]
  },
  {
   "cell_type": "markdown",
   "metadata": {},
   "source": [
    "### Python: using numpy"
   ]
  },
  {
   "cell_type": "code",
   "execution_count": 452,
   "metadata": {
    "collapsed": true
   },
   "outputs": [],
   "source": [
    "def python_sipm_subtract_baseline_and_normalize_to_adc_np(sipm, adc_to_pes):\n",
    "    NSiPM = sipm.shape[0]\n",
    "    NSiWF = sipm.shape[1]\n",
    "    siwf = np.zeros((NSiPM, NSiWF), dtype=np.double)\n",
    "    bl = np.mean(sipm, axis=1)\n",
    "    for i in range(NSiPM):\n",
    "        siwf[i] = (sipm[i] - bl[i]) / adc_to_pes[i]\n",
    "    \n",
    "    return bl, siwf"
   ]
  },
  {
   "cell_type": "code",
   "execution_count": 453,
   "metadata": {},
   "outputs": [
    {
     "name": "stdout",
     "output_type": "stream",
     "text": [
      "baselines = [  99.55  109.68  119.48  129.37  139.61  149.55  159.55  169.6   179.57\n",
      "  189.51  199.54  209.63  219.41  229.62  239.6   249.36  259.27  269.56\n",
      "  279.57  289.39  299.3   309.56  319.47  329.65  339.45  349.55  359.55\n",
      "  369.5   379.42  389.49  399.49  409.37  419.43  429.52  439.43  449.47\n",
      "  459.29  469.59  479.36  489.64]\n",
      "SiPMs = [[ 0.45073448 -0.5508977   0.45073448 ..., -1.55252989 -0.5508977\n",
      "   1.45236667]\n",
      " [ 0.32669065  1.34759895  0.32669065 ...,  0.32669065  1.34759895\n",
      "   1.34759895]\n",
      " [ 0.51367063  0.51367063  0.51367063 ...,  0.51367063  1.50149876\n",
      "   0.51367063]\n",
      " ..., \n",
      " [-1.58912965  0.40977557 -0.58967704 ...,  1.40922818  0.40977557\n",
      "   1.40922818]\n",
      " [-0.35361249 -1.33586939  0.62864442 ..., -0.35361249  0.62864442\n",
      "  -0.35361249]\n",
      " [ 0.35902247  0.35902247  0.35902247 ...,  0.35902247 -0.63826217\n",
      "  -0.63826217]]\n"
     ]
    },
    {
     "data": {
      "text/plain": [
       "array([  2.81774604e-15,  -6.98108238e-15,  -3.92685884e-15,\n",
       "        -4.57300864e-15,  -1.38467016e-14,  -1.15452092e-14,\n",
       "        -1.11755050e-14,   5.62216940e-15,   6.88338275e-15,\n",
       "         9.00612918e-15,   7.92255150e-15,   4.61852778e-15,\n",
       "         3.45057316e-15,  -4.62074823e-15,   5.71986902e-15,\n",
       "        -1.34658951e-14,   1.82009963e-14,  -2.36921593e-15,\n",
       "         6.94500013e-15,   1.37145850e-14,  -1.15929488e-14,\n",
       "        -2.34257058e-15,  -2.74624767e-14,   2.29793962e-14,\n",
       "         1.13220544e-14,  -1.14241949e-14,  -1.12887477e-14,\n",
       "        -8.88178420e-18,  -1.58562052e-14,  -8.95949981e-15,\n",
       "        -9.06219544e-15,  -4.57966998e-15,  -6.75237644e-15,\n",
       "         1.80366833e-14,  -6.87894186e-15,  -2.74136269e-14,\n",
       "        -2.03081996e-14,   2.49911203e-14,  -1.33892897e-14,\n",
       "         1.35957912e-14])"
      ]
     },
     "execution_count": 453,
     "metadata": {},
     "output_type": "execute_result"
    }
   ],
   "source": [
    "bl, wf = python_sipm_subtract_baseline_and_normalize_to_adc_np(sipm, adc_to_pes)\n",
    "print('baselines = {}'.format(bl))\n",
    "print('SiPMs = {}'.format(wf))\n",
    "np.mean(wf,axis=1)"
   ]
  },
  {
   "cell_type": "code",
   "execution_count": 454,
   "metadata": {},
   "outputs": [
    {
     "name": "stdout",
     "output_type": "stream",
     "text": [
      "188 µs ± 10.9 µs per loop (mean ± std. dev. of 7 runs, 10000 loops each)\n"
     ]
    }
   ],
   "source": [
    "%timeit python_sipm_subtract_baseline_and_normalize_to_adc_np(sipm, adc_to_pes)"
   ]
  },
  {
   "cell_type": "code",
   "execution_count": 455,
   "metadata": {},
   "outputs": [
    {
     "name": "stdout",
     "output_type": "stream",
     "text": [
      "python + np / python = 61.702127659574465\n"
     ]
    }
   ],
   "source": [
    "print('python + np / python = {}'.format(11.6e-3 /188e-6 ))"
   ]
  },
  {
   "cell_type": "markdown",
   "metadata": {},
   "source": [
    "#### Numpy accelerates calculation by a factor 60"
   ]
  },
  {
   "cell_type": "markdown",
   "metadata": {},
   "source": [
    "### Cython using loops"
   ]
  },
  {
   "cell_type": "code",
   "execution_count": 456,
   "metadata": {
    "collapsed": true
   },
   "outputs": [],
   "source": [
    "%%cython \n",
    "cimport numpy as np\n",
    "import  numpy as np\n",
    "from scipy import signal\n",
    "\n",
    "cdef double cmean(double [:] v):\n",
    "    cdef int  k\n",
    "    cdef int N = len(v)\n",
    "    cdef double pmean = 0\n",
    "    \n",
    "    for k in range(N):\n",
    "        pmean += v[k]\n",
    "    pmean /= N\n",
    "    return pmean\n",
    "\n",
    "cpdef cython_sipm_subtract_baseline_and_normalize(np.ndarray[np.int16_t, ndim=2]sipm, \n",
    "                                                            np.ndarray[np.float64_t, ndim=1] adc_to_pes):\n",
    "    cdef int NSiPM = sipm.shape[0]\n",
    "    cdef int NSiWF = sipm.shape[1]\n",
    "    cdef double [:, :] SiWF = sipm.astype(np.double)\n",
    "    cdef double [:, :] siwf = np.zeros((NSiPM, NSiWF), dtype=np.double)\n",
    "    cdef double [:]    bl = np.zeros(NSiPM)\n",
    "   \n",
    "    cdef int j, k\n",
    "    cdef double pmean\n",
    "    for j in range(NSiPM):\n",
    "        pmean = cmean(SiWF[j])\n",
    "        bl[j] = pmean\n",
    "        \n",
    "        for k in range(NSiWF):\n",
    "                siwf[j,k] = (SiWF[j,k] - pmean) / adc_to_pes[j]\n",
    "        \n",
    "    \n",
    "    return np.asarray(bl), np.asarray(siwf) \n",
    "\n",
    "cpdef cython_sipm_subtract_baseline_and_normalize_np(np.ndarray[np.int16_t, ndim=2]sipm, \n",
    "                                                            np.ndarray[np.float64_t, ndim=1] adc_to_pes):\n",
    "    cdef int NSiPM = sipm.shape[0]\n",
    "    cdef int NSiWF = sipm.shape[1]\n",
    "    cdef double [:, :] SiWF = sipm.astype(np.double)\n",
    "    cdef double [:, :] siwf = np.zeros((NSiPM, NSiWF), dtype=np.double)\n",
    "    cdef double [:]    bl = np.zeros(NSiPM)\n",
    "   \n",
    "    cdef int j, k\n",
    "    cdef double pmean\n",
    "    for j in range(NSiPM):\n",
    "        pmean = np.mean(SiWF[j])\n",
    "        bl[j] = pmean\n",
    "        \n",
    "        for k in range(NSiWF):\n",
    "                siwf[j,k] = (SiWF[j,k] - pmean) / adc_to_pes[j]\n",
    "        \n",
    "    \n",
    "    return np.asarray(bl), np.asarray(siwf) \n",
    "\n",
    "\n"
   ]
  },
  {
   "cell_type": "code",
   "execution_count": 457,
   "metadata": {},
   "outputs": [
    {
     "name": "stdout",
     "output_type": "stream",
     "text": [
      "baselines = [  99.55  109.68  119.48  129.37  139.61  149.55  159.55  169.6   179.57\n",
      "  189.51  199.54  209.63  219.41  229.62  239.6   249.36  259.27  269.56\n",
      "  279.57  289.39  299.3   309.56  319.47  329.65  339.45  349.55  359.55\n",
      "  369.5   379.42  389.49  399.49  409.37  419.43  429.52  439.43  449.47\n",
      "  459.29  469.59  479.36  489.64]\n",
      "SiPMs = [[ 0.45073448 -0.5508977   0.45073448 ..., -1.55252989 -0.5508977\n",
      "   1.45236667]\n",
      " [ 0.32669065  1.34759895  0.32669065 ...,  0.32669065  1.34759895\n",
      "   1.34759895]\n",
      " [ 0.51367063  0.51367063  0.51367063 ...,  0.51367063  1.50149876\n",
      "   0.51367063]\n",
      " ..., \n",
      " [-1.58912965  0.40977557 -0.58967704 ...,  1.40922818  0.40977557\n",
      "   1.40922818]\n",
      " [-0.35361249 -1.33586939  0.62864442 ..., -0.35361249  0.62864442\n",
      "  -0.35361249]\n",
      " [ 0.35902247  0.35902247  0.35902247 ...,  0.35902247 -0.63826217\n",
      "  -0.63826217]]\n"
     ]
    },
    {
     "data": {
      "text/plain": [
       "array([  2.81774604e-15,  -6.98108238e-15,  -3.92685884e-15,\n",
       "        -4.57300864e-15,  -1.38467016e-14,  -1.15452092e-14,\n",
       "        -1.11755050e-14,   5.62216940e-15,   6.88338275e-15,\n",
       "         9.00612918e-15,   7.92255150e-15,   4.61852778e-15,\n",
       "         3.45057316e-15,  -4.62074823e-15,   5.71986902e-15,\n",
       "        -1.34658951e-14,   1.82009963e-14,  -2.36921593e-15,\n",
       "         6.94500013e-15,   1.37145850e-14,  -1.15929488e-14,\n",
       "        -2.34257058e-15,  -2.74624767e-14,   2.29793962e-14,\n",
       "         1.13220544e-14,  -1.14241949e-14,  -1.12887477e-14,\n",
       "        -8.88178420e-18,  -1.58562052e-14,  -8.95949981e-15,\n",
       "        -9.06219544e-15,  -4.57966998e-15,  -6.75237644e-15,\n",
       "         1.80366833e-14,  -6.87894186e-15,  -2.74136269e-14,\n",
       "        -2.03081996e-14,   2.49911203e-14,  -1.33892897e-14,\n",
       "         1.35957912e-14])"
      ]
     },
     "execution_count": 457,
     "metadata": {},
     "output_type": "execute_result"
    }
   ],
   "source": [
    "bl, wf = cython_sipm_subtract_baseline_and_normalize(sipm, adc_to_pes)\n",
    "print('baselines = {}'.format(bl))\n",
    "print('SiPMs = {}'.format(wf))\n",
    "np.mean(wf,axis=1)"
   ]
  },
  {
   "cell_type": "code",
   "execution_count": 458,
   "metadata": {},
   "outputs": [
    {
     "name": "stdout",
     "output_type": "stream",
     "text": [
      "34.7 µs ± 797 ns per loop (mean ± std. dev. of 7 runs, 10000 loops each)\n"
     ]
    }
   ],
   "source": [
    "%timeit cython_sipm_subtract_baseline_and_normalize(sipm, adc_to_pes)"
   ]
  },
  {
   "cell_type": "code",
   "execution_count": 459,
   "metadata": {},
   "outputs": [
    {
     "name": "stdout",
     "output_type": "stream",
     "text": [
      "baselines = [  99.55  109.68  119.48  129.37  139.61  149.55  159.55  169.6   179.57\n",
      "  189.51  199.54  209.63  219.41  229.62  239.6   249.36  259.27  269.56\n",
      "  279.57  289.39  299.3   309.56  319.47  329.65  339.45  349.55  359.55\n",
      "  369.5   379.42  389.49  399.49  409.37  419.43  429.52  439.43  449.47\n",
      "  459.29  469.59  479.36  489.64]\n",
      "SiPMs = [[ 0.45073448 -0.5508977   0.45073448 ..., -1.55252989 -0.5508977\n",
      "   1.45236667]\n",
      " [ 0.32669065  1.34759895  0.32669065 ...,  0.32669065  1.34759895\n",
      "   1.34759895]\n",
      " [ 0.51367063  0.51367063  0.51367063 ...,  0.51367063  1.50149876\n",
      "   0.51367063]\n",
      " ..., \n",
      " [-1.58912965  0.40977557 -0.58967704 ...,  1.40922818  0.40977557\n",
      "   1.40922818]\n",
      " [-0.35361249 -1.33586939  0.62864442 ..., -0.35361249  0.62864442\n",
      "  -0.35361249]\n",
      " [ 0.35902247  0.35902247  0.35902247 ...,  0.35902247 -0.63826217\n",
      "  -0.63826217]]\n"
     ]
    },
    {
     "data": {
      "text/plain": [
       "array([  2.81774604e-15,  -6.98108238e-15,  -3.92685884e-15,\n",
       "        -4.57300864e-15,  -1.38467016e-14,  -1.15452092e-14,\n",
       "        -1.11755050e-14,   5.62216940e-15,   6.88338275e-15,\n",
       "         9.00612918e-15,   7.92255150e-15,   4.61852778e-15,\n",
       "         3.45057316e-15,  -4.62074823e-15,   5.71986902e-15,\n",
       "        -1.34658951e-14,   1.82009963e-14,  -2.36921593e-15,\n",
       "         6.94500013e-15,   1.37145850e-14,  -1.15929488e-14,\n",
       "        -2.34257058e-15,  -2.74624767e-14,   2.29793962e-14,\n",
       "         1.13220544e-14,  -1.14241949e-14,  -1.12887477e-14,\n",
       "        -8.88178420e-18,  -1.58562052e-14,  -8.95949981e-15,\n",
       "        -9.06219544e-15,  -4.57966998e-15,  -6.75237644e-15,\n",
       "         1.80366833e-14,  -6.87894186e-15,  -2.74136269e-14,\n",
       "        -2.03081996e-14,   2.49911203e-14,  -1.33892897e-14,\n",
       "         1.35957912e-14])"
      ]
     },
     "execution_count": 459,
     "metadata": {},
     "output_type": "execute_result"
    }
   ],
   "source": [
    "bl, wf = cython_sipm_subtract_baseline_and_normalize_np(sipm, adc_to_pes)\n",
    "print('baselines = {}'.format(bl))\n",
    "print('SiPMs = {}'.format(wf))\n",
    "np.mean(wf,axis=1)"
   ]
  },
  {
   "cell_type": "code",
   "execution_count": 460,
   "metadata": {},
   "outputs": [
    {
     "name": "stdout",
     "output_type": "stream",
     "text": [
      "386 µs ± 3.23 µs per loop (mean ± std. dev. of 7 runs, 1000 loops each)\n"
     ]
    }
   ],
   "source": [
    "%timeit cython_sipm_subtract_baseline_and_normalize_np(sipm, adc_to_pes)"
   ]
  },
  {
   "cell_type": "code",
   "execution_count": 461,
   "metadata": {},
   "outputs": [
    {
     "name": "stdout",
     "output_type": "stream",
     "text": [
      "cython + np / python + np = 2.0531914893617023\n"
     ]
    }
   ],
   "source": [
    "print('cython + np / python + np = {}'.format(386e-6 /188e-6 ))"
   ]
  },
  {
   "cell_type": "markdown",
   "metadata": {},
   "source": [
    "#### A non intuitive result! Using np IN CYTHON, for a complex problem can actually SLOW DOWN performance"
   ]
  },
  {
   "cell_type": "code",
   "execution_count": 463,
   "metadata": {},
   "outputs": [
    {
     "name": "stdout",
     "output_type": "stream",
     "text": [
      "cython  / python + np = 5.371428571428572\n"
     ]
    }
   ],
   "source": [
    "print('cython  / python + np = {}'.format(188e-6 /35e-6 ))"
   ]
  },
  {
   "cell_type": "markdown",
   "metadata": {},
   "source": [
    "#### Using pure cython improves the performance of python + np by a factor 5"
   ]
  },
  {
   "cell_type": "code",
   "execution_count": 465,
   "metadata": {},
   "outputs": [
    {
     "name": "stdout",
     "output_type": "stream",
     "text": [
      "cython  / python + np = 320.0\n"
     ]
    }
   ],
   "source": [
    "print('cython  / python + np = {}'.format(11.2e-3 /35e-6 ))"
   ]
  },
  {
   "cell_type": "markdown",
   "metadata": {},
   "source": [
    "#### And the performance of naive python by a factor 320"
   ]
  },
  {
   "cell_type": "markdown",
   "metadata": {},
   "source": [
    "## 3. USING MAUs"
   ]
  },
  {
   "cell_type": "markdown",
   "metadata": {},
   "source": [
    "### Python version"
   ]
  },
  {
   "cell_type": "code",
   "execution_count": 466,
   "metadata": {
    "collapsed": true
   },
   "outputs": [],
   "source": [
    "def python_sipm_signal_above_thr_mau(sipm, adc_to_pes, thr, n_MAU=100):\n",
    "    \"\"\"\n",
    "    subtracts the baseline\n",
    "    Uses a MAU to set the signal threshold (thr, in PES)\n",
    "    returns ZS waveforms for all SiPMs\n",
    "\n",
    "    setting Cal to a non zero value invokes calibration mode\n",
    "    where the unselected time bins are returned as they are\n",
    "    instead of set to zero.\n",
    "\n",
    "    \"\"\"\n",
    "\n",
    "    NSiPM = sipm.shape[0]\n",
    "    NSiWF = sipm.shape[1]\n",
    "    SiWF = sipm.astype(np.double)\n",
    "    siwf = np.zeros((NSiPM, NSiWF), dtype=np.double)\n",
    "    MAU = np.array(np.ones(n_MAU), dtype = np.double) * (1 / n_MAU)\n",
    "    MAU_ = np.zeros(NSiWF, dtype=np.double)\n",
    "    thrs = np.full(NSiPM, thr)\n",
    "    \n",
    "\n",
    "    # loop over all SiPMs. Skip any SiPM with adc_to_pes constant = 0\n",
    "    # since this means SiPM is dead\n",
    "    for j in range(NSiPM):\n",
    "        if adc_to_pes[j] == 0:\n",
    "            continue\n",
    "\n",
    "        # compute and subtract the baseline\n",
    "        pmean = np.mean(SiWF[j])\n",
    "\n",
    "        for k in range(NSiWF):\n",
    "            SiWF[j,k] = SiWF[j,k] - pmean\n",
    "        MAU_ = signal.lfilter(MAU, 1, SiWF[j,:])\n",
    "\n",
    "        # threshold using the MAU\n",
    "        if SiWF[j,k]  > MAU_[k] + thrs[j] * adc_to_pes[j]:\n",
    "            siwf[j,k] = SiWF[j,k] / adc_to_pes[j]\n",
    "\n",
    "    return siwf"
   ]
  },
  {
   "cell_type": "code",
   "execution_count": 467,
   "metadata": {},
   "outputs": [
    {
     "name": "stdout",
     "output_type": "stream",
     "text": [
      "SiPMs = [[ 0.          0.          0.         ...,  0.          0.          1.45236667]\n",
      " [ 0.          0.          0.         ...,  0.          0.          1.34759895]\n",
      " [ 0.          0.          0.         ...,  0.          0.          0.51367063]\n",
      " ..., \n",
      " [ 0.          0.          0.         ...,  0.          0.          1.40922818]\n",
      " [ 0.          0.          0.         ...,  0.          0.          0.        ]\n",
      " [ 0.          0.          0.         ...,  0.          0.          0.        ]]\n"
     ]
    },
    {
     "data": {
      "text/plain": [
       "array([ 0.01452367,  0.01347599,  0.00513671,  0.        ,  0.01408492,\n",
       "        0.00457044,  0.        ,  0.01371238,  0.        ,  0.02468664,\n",
       "        0.        ,  0.        ,  0.        ,  0.        ,  0.        ,\n",
       "        0.        ,  0.        ,  0.        ,  0.00433856,  0.00613174,\n",
       "        0.        ,  0.01465791,  0.        ,  0.        ,  0.01536912,\n",
       "        0.        ,  0.00447289,  0.        ,  0.00579629,  0.01484459,\n",
       "        0.        ,  0.        ,  0.00563528,  0.        ,  0.00571143,\n",
       "        0.        ,  0.        ,  0.01409228,  0.        ,  0.        ])"
      ]
     },
     "execution_count": 467,
     "metadata": {},
     "output_type": "execute_result"
    }
   ],
   "source": [
    "wf = python_sipm_signal_above_thr_mau(sipm, adc_to_pes, thr=0.1, n_MAU=20)\n",
    "print('SiPMs = {}'.format(wf))\n",
    "np.mean(wf,axis=1)"
   ]
  },
  {
   "cell_type": "code",
   "execution_count": 468,
   "metadata": {},
   "outputs": [
    {
     "name": "stdout",
     "output_type": "stream",
     "text": [
      "4.25 ms ± 156 µs per loop (mean ± std. dev. of 7 runs, 100 loops each)\n"
     ]
    }
   ],
   "source": [
    "%timeit python_sipm_signal_above_thr_mau(sipm, adc_to_pes, thr=0.1, n_MAU=20)"
   ]
  },
  {
   "cell_type": "markdown",
   "metadata": {},
   "source": [
    "### Cython version"
   ]
  },
  {
   "cell_type": "code",
   "execution_count": 469,
   "metadata": {},
   "outputs": [],
   "source": [
    "%%cython \n",
    "cimport numpy as np\n",
    "import  numpy as np\n",
    "from scipy import signal\n",
    "\n",
    "cdef double cmean(double [:] v):\n",
    "    cdef int  k\n",
    "    cdef int N = len(v)\n",
    "    cdef double pmean = 0\n",
    "    \n",
    "    for k in range(N):\n",
    "        pmean += v[k]\n",
    "    pmean /= N\n",
    "    return pmean\n",
    "\n",
    "cdef cmau(double [:, :] SiWF, int j, double pmean, int n_MAU=100):\n",
    "    \n",
    "    cdef int NSiWF = SiWF.shape[1]\n",
    "    cdef double [:] MAU_ = np.zeros(NSiWF, dtype=np.double)\n",
    "    cdef double [:] MAU = np.array(np.ones(n_MAU), dtype = np.double) * (1 / n_MAU)\n",
    "    cdef int k\n",
    "    \n",
    "    for k in range(NSiWF):\n",
    "        SiWF[j,k] = SiWF[j,k] - pmean\n",
    "        MAU_ = signal.lfilter(MAU, 1, SiWF[j,:])\n",
    "    \n",
    "    return MAU_\n",
    "\n",
    "\n",
    "\n",
    "cpdef sipm_subtract_baseline_and_normalize_mau(np.ndarray[np.int16_t, ndim=2] sipm,\n",
    "                                               np.ndarray[np.float64_t, ndim=1] adc_to_pes,\n",
    "                                               int n_MAU=100):\n",
    "    cdef int NSiPM = sipm.shape[0]\n",
    "    cdef int NSiWF = sipm.shape[1]\n",
    "    cdef double [:, :] SiWF = sipm.astype(np.double)\n",
    "    cdef double [:] MAU = np.array(np.ones(n_MAU), dtype = np.double) * (1 / n_MAU)\n",
    "    cdef double [:] MAU_ = np.zeros(NSiWF, dtype=np.double)\n",
    "    cdef int j, k\n",
    "    cdef double pmean\n",
    "\n",
    "    for j in range(NSiPM):\n",
    "        pmean = cmean(SiWF[j])\n",
    "        #MAU_ = cmau(SiWF, j, pmean, n_MAU=100)  # calling this function increases time by factor 100\n",
    "\n",
    "        for k in range(NSiWF):\n",
    "            SiWF[j,k] = SiWF[j,k] - pmean\n",
    "        MAU_ = signal.lfilter(MAU, 1, SiWF[j,:])\n",
    "\n",
    "        for k in range(NSiWF):\n",
    "            SiWF[j,k] = (SiWF[j,k] - MAU_[k]) / adc_to_pes[j]\n",
    "\n",
    "    return np.asarray(SiWF)\n",
    "\n",
    "cpdef sipm_signal_above_thr_mau(np.ndarray[np.int16_t, ndim=2] sipm,\n",
    "                  np.ndarray[np.float64_t, ndim=1] adc_to_pes, double thr,\n",
    "                  int n_MAU=100):\n",
    "    \"\"\"\n",
    "    subtracts the baseline\n",
    "    Uses a MAU to set the signal threshold (thr, in PES)\n",
    "    returns ZS waveforms for all SiPMs\n",
    "\n",
    "    setting Cal to a non zero value invokes calibration mode\n",
    "    where the unselected time bins are returned as they are\n",
    "    instead of set to zero.\n",
    "\n",
    "    \"\"\"\n",
    "\n",
    "    cdef int NSiPM = sipm.shape[0]\n",
    "    cdef int NSiWF = sipm.shape[1]\n",
    "    cdef double [:, :] SiWF = sipm.astype(np.double)\n",
    "    cdef double [:, :] siwf = np.zeros((NSiPM, NSiWF), dtype=np.double)\n",
    "    cdef double [:] MAU = np.array(np.ones(n_MAU), dtype = np.double) * (1 / n_MAU)\n",
    "    cdef double [:] MAU_ = np.zeros(NSiWF, dtype=np.double)\n",
    "    cdef int j, k\n",
    "    cdef double pmean\n",
    "    cdef double [:] thrs = np.full(NSiPM, thr)\n",
    "    \n",
    "\n",
    "    # loop over all SiPMs. Skip any SiPM with adc_to_pes constant = 0\n",
    "    # since this means SiPM is dead\n",
    "    for j in range(NSiPM):\n",
    "        if adc_to_pes[j] == 0:\n",
    "            continue\n",
    "\n",
    "        # compute and subtract the baseline\n",
    "        pmean = cmean(SiWF[j])\n",
    "\n",
    "        for k in range(NSiWF):\n",
    "            SiWF[j,k] = SiWF[j,k] - pmean\n",
    "        MAU_ = signal.lfilter(MAU, 1, SiWF[j,:])\n",
    "\n",
    "        # threshold using the MAU\n",
    "        if SiWF[j,k]  > MAU_[k] + thrs[j] * adc_to_pes[j]:\n",
    "            siwf[j,k] = SiWF[j,k] / adc_to_pes[j]\n",
    "\n",
    "    return np.asarray(siwf)\n"
   ]
  },
  {
   "cell_type": "code",
   "execution_count": 470,
   "metadata": {},
   "outputs": [
    {
     "name": "stdout",
     "output_type": "stream",
     "text": [
      "SiPMs = [[ 0.          0.          0.         ...,  0.          0.          1.45236667]\n",
      " [ 0.          0.          0.         ...,  0.          0.          1.34759895]\n",
      " [ 0.          0.          0.         ...,  0.          0.          0.51367063]\n",
      " ..., \n",
      " [ 0.          0.          0.         ...,  0.          0.          1.40922818]\n",
      " [ 0.          0.          0.         ...,  0.          0.          0.        ]\n",
      " [ 0.          0.          0.         ...,  0.          0.          0.        ]]\n"
     ]
    },
    {
     "data": {
      "text/plain": [
       "array([ 0.01452367,  0.01347599,  0.00513671,  0.        ,  0.01408492,\n",
       "        0.00457044,  0.        ,  0.01371238,  0.        ,  0.02468664,\n",
       "        0.        ,  0.        ,  0.        ,  0.        ,  0.        ,\n",
       "        0.        ,  0.        ,  0.        ,  0.00433856,  0.00613174,\n",
       "        0.        ,  0.01465791,  0.        ,  0.        ,  0.01536912,\n",
       "        0.        ,  0.00447289,  0.        ,  0.00579629,  0.01484459,\n",
       "        0.        ,  0.        ,  0.00563528,  0.        ,  0.00571143,\n",
       "        0.        ,  0.        ,  0.01409228,  0.        ,  0.        ])"
      ]
     },
     "execution_count": 470,
     "metadata": {},
     "output_type": "execute_result"
    }
   ],
   "source": [
    "wf = sipm_signal_above_thr_mau(sipm, adc_to_pes, thr=0.1, n_MAU=20)\n",
    "print('SiPMs = {}'.format(wf))\n",
    "np.mean(wf,axis=1)"
   ]
  },
  {
   "cell_type": "code",
   "execution_count": 471,
   "metadata": {},
   "outputs": [
    {
     "name": "stdout",
     "output_type": "stream",
     "text": [
      "2.82 ms ± 122 µs per loop (mean ± std. dev. of 7 runs, 100 loops each)\n"
     ]
    }
   ],
   "source": [
    "%timeit sipm_signal_above_thr_mau(sipm, adc_to_pes, thr=0.1, n_MAU=20)"
   ]
  },
  {
   "cell_type": "code",
   "execution_count": 472,
   "metadata": {},
   "outputs": [
    {
     "name": "stdout",
     "output_type": "stream",
     "text": [
      "python + scipy mau/cython + scipy mau = 1.5070921985815604\n"
     ]
    }
   ],
   "source": [
    "print('python + scipy mau/cython + scipy mau = {}'.format(4.25/2.82))"
   ]
  },
  {
   "cell_type": "markdown",
   "metadata": {},
   "source": [
    "#### The calculation using Scipy is only 1.5 times slower in python than in cython. "
   ]
  },
  {
   "cell_type": "code",
   "execution_count": 475,
   "metadata": {},
   "outputs": [
    {
     "name": "stdout",
     "output_type": "stream",
     "text": [
      "mau/pedestal = 80.57142857142858\n"
     ]
    }
   ],
   "source": [
    "print('mau/pedestal = {}'.format(2.82e-3/35e-6))"
   ]
  },
  {
   "cell_type": "markdown",
   "metadata": {},
   "source": [
    "#### Using MAUS is a factor 80 slower than using normal pedestal subtraction "
   ]
  },
  {
   "cell_type": "code",
   "execution_count": 476,
   "metadata": {},
   "outputs": [
    {
     "name": "stdout",
     "output_type": "stream",
     "text": [
      "SiPMs = [[ 0.42819776 -0.54588954  0.43320592 ..., -1.40228506 -0.45073448\n",
      "   1.45236667]\n",
      " [ 0.31035612  1.26388447  0.22664164 ...,  0.25522707  1.27613537\n",
      "   1.27613537]\n",
      " [ 0.4879871   0.46230357  0.43662004 ...,  0.79026251  1.62991642\n",
      "   0.54330547]\n",
      " ..., \n",
      " [-1.50967317  0.46874327 -0.50122548 ...,  1.29928839  0.24986315\n",
      "   1.34926102]\n",
      " [-0.33593186 -1.25139529  0.68168629 ..., -0.63846699  0.34378992\n",
      "  -0.63846699]\n",
      " [ 0.34107135  0.32312022  0.3051691  ...,  0.         -0.94742041\n",
      "  -0.84769195]]\n"
     ]
    },
    {
     "data": {
      "text/plain": [
       "array([ -1.77789713e-02,   1.57219878e-02,   2.65725768e-02,\n",
       "         1.03505912e-02,  -2.37619631e-02,  -2.53913264e-04,\n",
       "        -2.70593806e-03,   1.76302003e-02,  -8.22470415e-03,\n",
       "         3.47496711e-02,   2.35383854e-02,  -2.36577616e-02,\n",
       "        -3.58883048e-02,  -4.86073789e-02,   1.37504081e-02,\n",
       "        -1.97404642e-04,  -1.61881260e-02,   3.36658203e-02,\n",
       "         2.65862937e-02,  -2.92011592e-02,  -2.28751071e-02,\n",
       "         1.55740267e-02,   4.00867116e-02,  -2.27026130e-03,\n",
       "         7.68456038e-03,  -2.26331846e-03,  -7.20632767e-03,\n",
       "        -1.11135213e-02,   2.40845828e-02,   2.74772336e-02,\n",
       "        -4.98886168e-05,  -1.07158873e-02,   2.23928321e-02,\n",
       "        -3.96342309e-04,   2.87074698e-02,   2.09408806e-02,\n",
       "        -7.00587459e-03,   2.74349741e-02,   2.63244850e-02,\n",
       "         1.61560112e-02])"
      ]
     },
     "execution_count": 476,
     "metadata": {},
     "output_type": "execute_result"
    }
   ],
   "source": [
    "wf = sipm_subtract_baseline_and_normalize_mau(sipm, adc_to_pes, n_MAU=20)\n",
    "print('SiPMs = {}'.format(wf))\n",
    "np.mean(wf,axis=1)"
   ]
  },
  {
   "cell_type": "code",
   "execution_count": 477,
   "metadata": {},
   "outputs": [
    {
     "name": "stdout",
     "output_type": "stream",
     "text": [
      "2.79 ms ± 87.5 µs per loop (mean ± std. dev. of 7 runs, 100 loops each)\n"
     ]
    }
   ],
   "source": [
    "%timeit sipm_subtract_baseline_and_normalize_mau(sipm, adc_to_pes, n_MAU=20)"
   ]
  },
  {
   "cell_type": "markdown",
   "metadata": {},
   "source": [
    "### Findings"
   ]
  },
  {
   "cell_type": "markdown",
   "metadata": {},
   "source": [
    "1. Simple problem. Just use python + np\n",
    "2. Problem involving (large) 2d arrays. Use of cython justified. In this case numpy has to be used with care\n",
    "3. Problem involving MAUS (scipy). Probably best is to stick to python + scipy"
   ]
  },
  {
   "cell_type": "code",
   "execution_count": null,
   "metadata": {
    "collapsed": true
   },
   "outputs": [],
   "source": []
  }
 ],
 "metadata": {
  "kernelspec": {
   "display_name": "Python 3",
   "language": "python",
   "name": "python3"
  },
  "language_info": {
   "codemirror_mode": {
    "name": "ipython",
    "version": 3
   },
   "file_extension": ".py",
   "mimetype": "text/x-python",
   "name": "python",
   "nbconvert_exporter": "python",
   "pygments_lexer": "ipython3",
   "version": "3.6.2"
  }
 },
 "nbformat": 4,
 "nbformat_minor": 2
}
