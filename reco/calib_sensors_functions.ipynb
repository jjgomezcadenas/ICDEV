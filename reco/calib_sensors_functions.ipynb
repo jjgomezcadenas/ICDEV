{
 "cells": [
  {
   "cell_type": "markdown",
   "metadata": {},
   "source": [
    "# Calib sensor functions"
   ]
  },
  {
   "cell_type": "markdown",
   "metadata": {},
   "source": [
    "NB study: module calib_sensor_functions.py in invisible_cities/reco"
   ]
  },
  {
   "cell_type": "code",
   "execution_count": 1,
   "metadata": {},
   "outputs": [
    {
     "name": "stdout",
     "output_type": "stream",
     "text": [
      "2017-12-03 11:13:36\n"
     ]
    }
   ],
   "source": [
    "import os\n",
    "import datetime\n",
    "print(datetime.datetime.now().strftime('%Y-%m-%d %H:%M:%S'))\n",
    "\n",
    "import time\n",
    "import glob\n",
    "import tables as tb\n",
    "import numpy as np\n",
    "import pandas as pd\n",
    "import matplotlib.pyplot as plt\n",
    "from functools import reduce\n",
    "%matplotlib inline\n",
    "%load_ext autoreload\n",
    "%autoreload 2\n",
    "\n",
    "plt.rcParams[\"figure.figsize\"] = 10, 8\n",
    "plt.rcParams[\"font.size\"     ] = 14"
   ]
  },
  {
   "cell_type": "code",
   "execution_count": 2,
   "metadata": {
    "collapsed": true
   },
   "outputs": [],
   "source": [
    "from collections import namedtuple"
   ]
  },
  {
   "cell_type": "code",
   "execution_count": 3,
   "metadata": {
    "collapsed": true
   },
   "outputs": [],
   "source": [
    "from invisible_cities.reco import calib_sensors_functions_c as cpf"
   ]
  },
  {
   "cell_type": "code",
   "execution_count": 4,
   "metadata": {
    "collapsed": true
   },
   "outputs": [],
   "source": [
    "NSIPM = 4\n",
    "WL    = 10\n",
    "adc_to_pes = 10\n",
    "adc_to_pes  = np.full(NSIPM, adc_to_pes, dtype=np.double)"
   ]
  },
  {
   "cell_type": "code",
   "execution_count": 5,
   "metadata": {},
   "outputs": [
    {
     "data": {
      "text/plain": [
       "array([ 10.,  10.,  10.,  10.])"
      ]
     },
     "execution_count": 5,
     "metadata": {},
     "output_type": "execute_result"
    }
   ],
   "source": [
    "adc_to_pes"
   ]
  },
  {
   "cell_type": "code",
   "execution_count": 6,
   "metadata": {},
   "outputs": [],
   "source": [
    "signal_adc  = np.random.randint(1000, 1100, size=(NSIPM, WL), dtype=np.int16)"
   ]
  },
  {
   "cell_type": "code",
   "execution_count": 7,
   "metadata": {},
   "outputs": [
    {
     "data": {
      "text/plain": [
       "array([[1021, 1061, 1046, 1012, 1016, 1007, 1077, 1093, 1071, 1034],\n",
       "       [1061, 1073, 1077, 1042, 1037, 1069, 1094, 1013, 1015, 1079],\n",
       "       [1009, 1086, 1094, 1003, 1046, 1062, 1069, 1032, 1065, 1055],\n",
       "       [1084, 1090, 1071, 1021, 1072, 1056, 1027, 1018, 1043, 1092]], dtype=int16)"
      ]
     },
     "execution_count": 7,
     "metadata": {},
     "output_type": "execute_result"
    }
   ],
   "source": [
    "signal_adc"
   ]
  },
  {
   "cell_type": "code",
   "execution_count": 8,
   "metadata": {},
   "outputs": [],
   "source": [
    "signal_pes  = signal_adc - np.mean(signal_adc, axis=1)[:, np.newaxis]"
   ]
  },
  {
   "cell_type": "code",
   "execution_count": 9,
   "metadata": {},
   "outputs": [
    {
     "data": {
      "text/plain": [
       "array([[-22.8,  17.2,   2.2, -31.8, -27.8, -36.8,  33.2,  49.2,  27.2,\n",
       "         -9.8],\n",
       "       [  5. ,  17. ,  21. , -14. , -19. ,  13. ,  38. , -43. , -41. ,  23. ],\n",
       "       [-43.1,  33.9,  41.9, -49.1,  -6.1,   9.9,  16.9, -20.1,  12.9,\n",
       "          2.9],\n",
       "       [ 26.6,  32.6,  13.6, -36.4,  14.6,  -1.4, -30.4, -39.4, -14.4,\n",
       "         34.6]])"
      ]
     },
     "execution_count": 9,
     "metadata": {},
     "output_type": "execute_result"
    }
   ],
   "source": [
    "signal_pes"
   ]
  },
  {
   "cell_type": "code",
   "execution_count": 10,
   "metadata": {},
   "outputs": [],
   "source": [
    "signal_pes /= adc_to_pes[:, np.newaxis]"
   ]
  },
  {
   "cell_type": "code",
   "execution_count": 11,
   "metadata": {},
   "outputs": [
    {
     "data": {
      "text/plain": [
       "array([[-2.28,  1.72,  0.22, -3.18, -2.78, -3.68,  3.32,  4.92,  2.72,\n",
       "        -0.98],\n",
       "       [ 0.5 ,  1.7 ,  2.1 , -1.4 , -1.9 ,  1.3 ,  3.8 , -4.3 , -4.1 ,  2.3 ],\n",
       "       [-4.31,  3.39,  4.19, -4.91, -0.61,  0.99,  1.69, -2.01,  1.29,\n",
       "         0.29],\n",
       "       [ 2.66,  3.26,  1.36, -3.64,  1.46, -0.14, -3.04, -3.94, -1.44,\n",
       "         3.46]])"
      ]
     },
     "execution_count": 11,
     "metadata": {},
     "output_type": "execute_result"
    }
   ],
   "source": [
    "signal_pes"
   ]
  },
  {
   "cell_type": "code",
   "execution_count": 12,
   "metadata": {
    "collapsed": true
   },
   "outputs": [],
   "source": [
    "signal_zs_common_threshold = np.array(signal_pes)"
   ]
  },
  {
   "cell_type": "code",
   "execution_count": 13,
   "metadata": {},
   "outputs": [
    {
     "data": {
      "text/plain": [
       "array([[-2.28,  1.72,  0.22, -3.18, -2.78, -3.68,  3.32,  4.92,  2.72,\n",
       "        -0.98],\n",
       "       [ 0.5 ,  1.7 ,  2.1 , -1.4 , -1.9 ,  1.3 ,  3.8 , -4.3 , -4.1 ,  2.3 ],\n",
       "       [-4.31,  3.39,  4.19, -4.91, -0.61,  0.99,  1.69, -2.01,  1.29,\n",
       "         0.29],\n",
       "       [ 2.66,  3.26,  1.36, -3.64,  1.46, -0.14, -3.04, -3.94, -1.44,\n",
       "         3.46]])"
      ]
     },
     "execution_count": 13,
     "metadata": {},
     "output_type": "execute_result"
    }
   ],
   "source": [
    "signal_zs_common_threshold "
   ]
  },
  {
   "cell_type": "code",
   "execution_count": 14,
   "metadata": {
    "collapsed": true
   },
   "outputs": [],
   "source": [
    "common_threshold      = np.random.uniform(0.3, 0.7)"
   ]
  },
  {
   "cell_type": "code",
   "execution_count": 15,
   "metadata": {},
   "outputs": [
    {
     "data": {
      "text/plain": [
       "0.5055501657635819"
      ]
     },
     "execution_count": 15,
     "metadata": {},
     "output_type": "execute_result"
    }
   ],
   "source": [
    "common_threshold "
   ]
  },
  {
   "cell_type": "code",
   "execution_count": 16,
   "metadata": {
    "collapsed": true
   },
   "outputs": [],
   "source": [
    "signal_zs_common_threshold[signal_pes < common_threshold] = 0"
   ]
  },
  {
   "cell_type": "code",
   "execution_count": 17,
   "metadata": {},
   "outputs": [
    {
     "data": {
      "text/plain": [
       "array([[ 0.  ,  1.72,  0.  ,  0.  ,  0.  ,  0.  ,  3.32,  4.92,  2.72,  0.  ],\n",
       "       [ 0.  ,  1.7 ,  2.1 ,  0.  ,  0.  ,  1.3 ,  3.8 ,  0.  ,  0.  ,  2.3 ],\n",
       "       [ 0.  ,  3.39,  4.19,  0.  ,  0.  ,  0.99,  1.69,  0.  ,  1.29,  0.  ],\n",
       "       [ 2.66,  3.26,  1.36,  0.  ,  1.46,  0.  ,  0.  ,  0.  ,  0.  ,\n",
       "         3.46]])"
      ]
     },
     "execution_count": 17,
     "metadata": {},
     "output_type": "execute_result"
    }
   ],
   "source": [
    "signal_zs_common_threshold"
   ]
  },
  {
   "cell_type": "code",
   "execution_count": 18,
   "metadata": {
    "collapsed": true
   },
   "outputs": [],
   "source": [
    " individual_thresholds = np.random.uniform(0.3, 0.7, size=NSIPM)"
   ]
  },
  {
   "cell_type": "code",
   "execution_count": 19,
   "metadata": {},
   "outputs": [
    {
     "data": {
      "text/plain": [
       "array([ 0.4422847 ,  0.32636096,  0.51381197,  0.57255859])"
      ]
     },
     "execution_count": 19,
     "metadata": {},
     "output_type": "execute_result"
    }
   ],
   "source": [
    "individual_thresholds"
   ]
  },
  {
   "cell_type": "code",
   "execution_count": 20,
   "metadata": {
    "collapsed": true
   },
   "outputs": [],
   "source": [
    "individual_thresholds_reshaped = individual_thresholds[:, np.newaxis]"
   ]
  },
  {
   "cell_type": "code",
   "execution_count": 21,
   "metadata": {},
   "outputs": [
    {
     "data": {
      "text/plain": [
       "array([[ 0.4422847 ],\n",
       "       [ 0.32636096],\n",
       "       [ 0.51381197],\n",
       "       [ 0.57255859]])"
      ]
     },
     "execution_count": 21,
     "metadata": {},
     "output_type": "execute_result"
    }
   ],
   "source": [
    "individual_thresholds_reshaped"
   ]
  },
  {
   "cell_type": "code",
   "execution_count": 22,
   "metadata": {
    "collapsed": true
   },
   "outputs": [],
   "source": [
    "signal_zs_individual_thresholds = np.array(signal_pes)\n",
    "signal_zs_individual_thresholds[signal_pes < individual_thresholds_reshaped] = 0"
   ]
  },
  {
   "cell_type": "code",
   "execution_count": 23,
   "metadata": {},
   "outputs": [
    {
     "data": {
      "text/plain": [
       "array([[ 0.  ,  1.72,  0.  ,  0.  ,  0.  ,  0.  ,  3.32,  4.92,  2.72,  0.  ],\n",
       "       [ 0.5 ,  1.7 ,  2.1 ,  0.  ,  0.  ,  1.3 ,  3.8 ,  0.  ,  0.  ,  2.3 ],\n",
       "       [ 0.  ,  3.39,  4.19,  0.  ,  0.  ,  0.99,  1.69,  0.  ,  1.29,  0.  ],\n",
       "       [ 2.66,  3.26,  1.36,  0.  ,  1.46,  0.  ,  0.  ,  0.  ,  0.  ,\n",
       "         3.46]])"
      ]
     },
     "execution_count": 23,
     "metadata": {},
     "output_type": "execute_result"
    }
   ],
   "source": [
    "signal_zs_individual_thresholds"
   ]
  },
  {
   "cell_type": "markdown",
   "metadata": {},
   "source": [
    "### Generate signal"
   ]
  },
  {
   "cell_type": "code",
   "execution_count": 24,
   "metadata": {
    "collapsed": true
   },
   "outputs": [],
   "source": [
    "def toy_sipm_signal(nsipm=4, wl=10, adc_to_pes=10, signal_range=(1000, 1100), threshold_range=(0.3, 0.7)):\n",
    "    \n",
    "    common_threshold      = np.random.uniform(threshold_range[0], threshold_range[1])\n",
    "    individual_thresholds = np.random.uniform(threshold_range[0], threshold_range[1], size=nsipm)\n",
    "\n",
    "    adc_to_pes  = np.full(nsipm, adc_to_pes, dtype=np.double)\n",
    "    signal_adc  = np.random.randint(signal_range[0], signal_range[1], size=(nsipm, wl), dtype=np.int16)\n",
    "\n",
    "    # subtract baseline and convert to pes\n",
    "    signal_pes  = signal_adc - np.mean(signal_adc, axis=1)[:, np.newaxis]\n",
    "    signal_pes /= adc_to_pes[:, np.newaxis]\n",
    "\n",
    "    signal_zs_common_threshold = np.array(signal_pes)\n",
    "    signal_zs_common_threshold[signal_pes < common_threshold] = 0\n",
    "\n",
    "    # thresholds must be reshaped to allow broadcasting\n",
    "    individual_thresholds_reshaped = individual_thresholds[:, np.newaxis]\n",
    "\n",
    "    signal_zs_individual_thresholds = np.array(signal_pes)\n",
    "    signal_zs_individual_thresholds[signal_pes < individual_thresholds_reshaped] = 0\n",
    "\n",
    "    return (namedtuple('SipmSignal',\n",
    "                        \"\"\"signal_adc adc_to_pes signal_zs_common_threshold\n",
    "                           signal_zs_individual_thresholds common_threshold\n",
    "                           individual_thresholds\"\"\")\n",
    "        (\n",
    "         signal_adc                      = signal_adc, \n",
    "         adc_to_pes                      = adc_to_pes,\n",
    "         signal_zs_common_threshold      = signal_zs_common_threshold,\n",
    "         signal_zs_individual_thresholds = signal_zs_individual_thresholds,\n",
    "         common_threshold                = common_threshold,\n",
    "         individual_thresholds           = individual_thresholds))"
   ]
  },
  {
   "cell_type": "code",
   "execution_count": 25,
   "metadata": {},
   "outputs": [],
   "source": [
    "ss = toy_sipm_signal()"
   ]
  },
  {
   "cell_type": "code",
   "execution_count": 26,
   "metadata": {},
   "outputs": [
    {
     "name": "stdout",
     "output_type": "stream",
     "text": [
      "signal_adc = [[1002 1053 1014 1081 1081 1041 1051 1075 1026 1075]\n",
      " [1056 1014 1002 1059 1003 1029 1097 1051 1006 1075]\n",
      " [1066 1065 1095 1060 1021 1083 1059 1082 1093 1003]\n",
      " [1045 1023 1053 1016 1049 1061 1056 1069 1077 1014]]\n",
      "\n",
      "         adc_to_pes = [ 10.  10.  10.  10.]     \n",
      "         \n",
      "         signal_zs_common_threshold      = [[ 0.    0.    0.    3.11  3.11  0.    0.    2.51  0.    2.51]\n",
      " [ 1.68  0.    0.    1.98  0.    0.    5.78  1.18  0.    3.58]\n",
      " [ 0.    0.    3.23  0.    0.    2.03  0.    1.93  3.03  0.  ]\n",
      " [ 0.    0.    0.67  0.    0.    1.47  0.97  2.27  3.07  0.  ]]\n",
      "         \n",
      "         signal_zs_individual_thresholds = [[ 0.    0.    0.    3.11  3.11  0.    0.    2.51  0.    2.51]\n",
      " [ 1.68  0.    0.    1.98  0.    0.    5.78  1.18  0.    3.58]\n",
      " [ 0.    0.    3.23  0.    0.    2.03  0.    1.93  3.03  0.  ]\n",
      " [ 0.    0.    0.67  0.    0.    1.47  0.97  2.27  3.07  0.  ]]\n",
      "         \n",
      "         common_threshold                = 0.5675704857939541\n",
      "         \n",
      "         individual_thresholds           = [ 0.3429328   0.61865302  0.69257975  0.50423998]\n",
      "      \n"
     ]
    }
   ],
   "source": [
    "print(\"\"\"signal_adc = {}\n",
    "\n",
    "         adc_to_pes = {}     \n",
    "         \n",
    "         signal_zs_common_threshold      = {}\n",
    "         \n",
    "         signal_zs_individual_thresholds = {}\n",
    "         \n",
    "         common_threshold                = {}\n",
    "         \n",
    "         individual_thresholds           = {}\n",
    "      \"\"\".format(ss.signal_adc, ss.adc_to_pes, \n",
    "                 ss.signal_zs_common_threshold, ss.signal_zs_individual_thresholds,\n",
    "                 ss.common_threshold, ss.individual_thresholds))"
   ]
  },
  {
   "cell_type": "markdown",
   "metadata": {},
   "source": [
    "### Verify that old function yields the same results than new functions"
   ]
  },
  {
   "cell_type": "code",
   "execution_count": 29,
   "metadata": {},
   "outputs": [],
   "source": [
    "ss = toy_sipm_signal()\n",
    "zs_wf0 = cpf._signal_sipm(ss.signal_adc, ss.adc_to_pes, ss.common_threshold, n_MAU=100, Cal=0)\n",
    "zs_wf1 = cpf._signal_sipm(ss.signal_adc, ss.adc_to_pes, ss.common_threshold, n_MAU=100, Cal=1)\n",
    "zs_wf2 = cpf._signal_sipm(ss.signal_adc, ss.adc_to_pes, ss.common_threshold, n_MAU=100, Cal=2)\n",
    "zs_xf0 = cpf.sipm_signal_above_thr_mau(ss.signal_adc, ss.adc_to_pes, ss.common_threshold, n_MAU=100)\n",
    "zs_xf1 = cpf.sipm_subtract_baseline_and_normalize_mau(ss.signal_adc, ss.adc_to_pes, n_MAU=100)\n",
    "zs_xf2 = cpf.sipm_subtract_baseline_and_normalize(ss.signal_adc, ss.adc_to_pes)"
   ]
  },
  {
   "cell_type": "code",
   "execution_count": 31,
   "metadata": {},
   "outputs": [
    {
     "name": "stdout",
     "output_type": "stream",
     "text": [
      "zs_wf0 = [[ 0.    0.    0.    3.92  0.72  2.52  1.52  3.42  0.    0.  ]\n",
      " [ 0.    3.48  1.08  0.    2.28  0.    4.38  0.48  0.    0.  ]\n",
      " [ 0.    0.    2.79  0.39  0.89  0.    0.    3.39  3.09  0.  ]\n",
      " [ 0.    1.96  1.56  3.86  0.    0.    2.26  0.    0.    1.36]]\n",
      "  zs_xf0= [[ 0.    0.    0.    3.92  0.72  2.52  1.52  3.42  0.    0.  ]\n",
      " [ 0.    3.48  1.08  0.    2.28  0.    4.38  0.48  0.    0.  ]\n",
      " [ 0.    0.    2.79  0.39  0.89  0.    0.    3.39  3.09  0.  ]\n",
      " [ 0.    1.96  1.56  3.86  0.    0.    2.26  0.    0.    1.36]]\n"
     ]
    }
   ],
   "source": [
    "print('zs_wf0 = {}\\n  zs_xf0= {}'.format(zs_wf0, zs_xf0))"
   ]
  },
  {
   "cell_type": "code",
   "execution_count": 32,
   "metadata": {},
   "outputs": [
    {
     "name": "stdout",
     "output_type": "stream",
     "text": [
      "zs_wf1 = [[-4.58 -2.88 -1.58  3.92  0.72  2.52  1.52  3.42 -0.28 -2.78]\n",
      " [-1.62  3.48  1.08 -3.42  2.28 -1.92  4.38  0.48 -0.12 -4.62]\n",
      " [-0.21 -0.71  2.79  0.39  0.89 -3.41 -3.31  3.39  3.09 -2.91]\n",
      " [-2.04  1.96  1.56  3.86 -2.84 -2.04  2.26 -3.44 -0.64  1.36]]\n",
      "  zs_xf1= [[-4.58 -2.88 -1.58  3.92  0.72  2.52  1.52  3.42 -0.28 -2.78]\n",
      " [-1.62  3.48  1.08 -3.42  2.28 -1.92  4.38  0.48 -0.12 -4.62]\n",
      " [-0.21 -0.71  2.79  0.39  0.89 -3.41 -3.31  3.39  3.09 -2.91]\n",
      " [-2.04  1.96  1.56  3.86 -2.84 -2.04  2.26 -3.44 -0.64  1.36]]\n"
     ]
    }
   ],
   "source": [
    "print('zs_wf1 = {}\\n  zs_xf1= {}'.format(zs_wf1, zs_xf1))"
   ]
  },
  {
   "cell_type": "code",
   "execution_count": 33,
   "metadata": {},
   "outputs": [
    {
     "name": "stdout",
     "output_type": "stream",
     "text": [
      "zs_wf2 = [[-4.58 -2.88 -1.58  3.92  0.72  2.52  1.52  3.42 -0.28 -2.78]\n",
      " [-1.62  3.48  1.08 -3.42  2.28 -1.92  4.38  0.48 -0.12 -4.62]\n",
      " [-0.21 -0.71  2.79  0.39  0.89 -3.41 -3.31  3.39  3.09 -2.91]\n",
      " [-2.04  1.96  1.56  3.86 -2.84 -2.04  2.26 -3.44 -0.64  1.36]]\n",
      "  zs_xf2= [[-4.58 -2.88 -1.58  3.92  0.72  2.52  1.52  3.42 -0.28 -2.78]\n",
      " [-1.62  3.48  1.08 -3.42  2.28 -1.92  4.38  0.48 -0.12 -4.62]\n",
      " [-0.21 -0.71  2.79  0.39  0.89 -3.41 -3.31  3.39  3.09 -2.91]\n",
      " [-2.04  1.96  1.56  3.86 -2.84 -2.04  2.26 -3.44 -0.64  1.36]]\n"
     ]
    }
   ],
   "source": [
    "print('zs_wf2 = {}\\n  zs_xf2= {}'.format(zs_wf2, zs_xf2))"
   ]
  },
  {
   "cell_type": "code",
   "execution_count": 35,
   "metadata": {},
   "outputs": [],
   "source": [
    "np.testing.assert_allclose(zs_wf0, zs_xf0, atol=1e-10)\n",
    "np.testing.assert_allclose(zs_wf1, zs_xf1, atol=1e-10)\n",
    "np.testing.assert_allclose(zs_wf2, zs_xf2, atol=1e-10)"
   ]
  },
  {
   "cell_type": "markdown",
   "metadata": {},
   "source": [
    "### Verify that pedestal subtracted near baseline"
   ]
  },
  {
   "cell_type": "code",
   "execution_count": 36,
   "metadata": {},
   "outputs": [],
   "source": [
    "def gaussian_sipm_signal(nsipm = 40, wfl = 100):\n",
    "    \n",
    "    sipm = np.zeros(nsipm * wfl, dtype=np.int16)\n",
    "    sipm = np.reshape(sipm,(nsipm,wfl))\n",
    "    for i in range(nsipm):\n",
    "        sipm[i,:] = np.random.normal(1000+i*10, 1, wfl)\n",
    "    \n",
    "    NSiPM = sipm.shape[0]\n",
    "    NSiWF = sipm.shape[1]\n",
    "    print('NSiPM = {}, NSiWF = {}'.format(NSiPM, NSiWF))\n",
    "\n",
    "    adc_to_pes = np.abs(np.random.normal(1, 0.01, nsipm))\n",
    "    #print('adc_to_pes = {}'.format(adc_to_pes))\n",
    "    #print('sipm array = {}'.format(sipm))\n",
    "    #print('baselines = {}'.format(np.mean(sipm,axis=1)))\n",
    "    return (sipm, adc_to_pes)"
   ]
  },
  {
   "cell_type": "code",
   "execution_count": 37,
   "metadata": {},
   "outputs": [
    {
     "name": "stdout",
     "output_type": "stream",
     "text": [
      "NSiPM = 4, NSiWF = 10\n"
     ]
    },
    {
     "data": {
      "text/plain": [
       "(array([[ 998,  999,  998,  999, 1000, 1000, 1001, 1001,  999,  999],\n",
       "        [1008, 1010, 1009, 1009, 1009, 1010, 1008, 1011, 1010, 1009],\n",
       "        [1019, 1019, 1020, 1019, 1020, 1020, 1018, 1019, 1020, 1019],\n",
       "        [1031, 1029, 1028, 1029, 1030, 1033, 1030, 1030, 1030, 1030]], dtype=int16),\n",
       " array([ 1.01784749,  1.00200415,  0.99389925,  0.9905818 ]))"
      ]
     },
     "execution_count": 37,
     "metadata": {},
     "output_type": "execute_result"
    }
   ],
   "source": [
    "gaussian_sipm_signal(nsipm = 4, wfl = 10)"
   ]
  },
  {
   "cell_type": "code",
   "execution_count": 38,
   "metadata": {},
   "outputs": [
    {
     "name": "stdout",
     "output_type": "stream",
     "text": [
      "NSiPM = 4, NSiWF = 100\n"
     ]
    }
   ],
   "source": [
    "sipm, adc_to_pes = gaussian_sipm_signal(nsipm = 4, wfl = 100)"
   ]
  },
  {
   "cell_type": "code",
   "execution_count": 39,
   "metadata": {},
   "outputs": [
    {
     "data": {
      "text/plain": [
       "array([  999.3 ,  1009.5 ,  1019.42,  1029.22])"
      ]
     },
     "execution_count": 39,
     "metadata": {},
     "output_type": "execute_result"
    }
   ],
   "source": [
    "np.mean(sipm, axis=1)"
   ]
  },
  {
   "cell_type": "code",
   "execution_count": 40,
   "metadata": {
    "collapsed": true
   },
   "outputs": [],
   "source": [
    "wf = cpf.sipm_subtract_baseline_and_normalize(sipm, adc_to_pes)"
   ]
  },
  {
   "cell_type": "code",
   "execution_count": 41,
   "metadata": {},
   "outputs": [
    {
     "data": {
      "text/plain": [
       "array([  4.51239046e-14,   1.33226763e-17,   4.12792023e-14,\n",
       "        -2.72892819e-14])"
      ]
     },
     "execution_count": 41,
     "metadata": {},
     "output_type": "execute_result"
    }
   ],
   "source": [
    "np.mean(wf, axis=1)"
   ]
  },
  {
   "cell_type": "code",
   "execution_count": 42,
   "metadata": {
    "collapsed": true
   },
   "outputs": [],
   "source": [
    "wf2 = cpf.sipm_subtract_baseline_and_normalize_mau(sipm, adc_to_pes, n_MAU=10)"
   ]
  },
  {
   "cell_type": "code",
   "execution_count": 43,
   "metadata": {},
   "outputs": [
    {
     "data": {
      "text/plain": [
       "array([  4.51239046e-14,   1.33226763e-17,   4.12792023e-14,\n",
       "        -2.72892819e-14])"
      ]
     },
     "execution_count": 43,
     "metadata": {},
     "output_type": "execute_result"
    }
   ],
   "source": [
    "np.mean(wf2, axis=1)"
   ]
  },
  {
   "cell_type": "code",
   "execution_count": 44,
   "metadata": {},
   "outputs": [],
   "source": [
    "np.testing.assert_allclose(np.mean(wf2, axis=1), 0, atol=1e-10)"
   ]
  },
  {
   "cell_type": "code",
   "execution_count": 45,
   "metadata": {
    "collapsed": true
   },
   "outputs": [],
   "source": [
    "np.testing.assert_allclose(np.mean(wf, axis=1), 0, atol=1e-10)"
   ]
  },
  {
   "cell_type": "code",
   "execution_count": null,
   "metadata": {
    "collapsed": true
   },
   "outputs": [],
   "source": []
  },
  {
   "cell_type": "markdown",
   "metadata": {},
   "source": [
    "### Tests"
   ]
  },
  {
   "cell_type": "code",
   "execution_count": 48,
   "metadata": {
    "collapsed": true
   },
   "outputs": [],
   "source": [
    "def test_signal_sipm_common_threshold():\n",
    "    ss = toy_sipm_signal()\n",
    "\n",
    "    zs_wf = cpf._signal_sipm(ss.signal_adc, ss.adc_to_pes, ss.common_threshold)\n",
    "    assert np.allclose(zs_wf, ss.signal_zs_common_threshold)\n"
   ]
  },
  {
   "cell_type": "code",
   "execution_count": 49,
   "metadata": {},
   "outputs": [],
   "source": [
    "test_signal_sipm_common_threshold()"
   ]
  },
  {
   "cell_type": "code",
   "execution_count": 52,
   "metadata": {
    "collapsed": true
   },
   "outputs": [],
   "source": [
    "def test_signal_sipm_common_threshold_new():\n",
    "    ss = toy_sipm_signal()\n",
    "\n",
    "    zs_wf = cpf.sipm_signal_above_thr_mau(ss.signal_adc, ss.adc_to_pes, ss.common_threshold, n_MAU=100)\n",
    "    assert np.allclose(zs_wf, ss.signal_zs_common_threshold)\n",
    "\n"
   ]
  },
  {
   "cell_type": "code",
   "execution_count": 53,
   "metadata": {},
   "outputs": [],
   "source": [
    "test_signal_sipm_common_threshold_new()"
   ]
  },
  {
   "cell_type": "code",
   "execution_count": 54,
   "metadata": {
    "collapsed": true
   },
   "outputs": [],
   "source": [
    "ss = toy_sipm_signal(nsipm=1792, wl=1000, adc_to_pes=10, signal_range=(1000, 1100), threshold_range=(0.3, 0.7))"
   ]
  },
  {
   "cell_type": "code",
   "execution_count": 55,
   "metadata": {
    "collapsed": true
   },
   "outputs": [],
   "source": [
    "test_signal_sipm_common_threshold_new()"
   ]
  },
  {
   "cell_type": "markdown",
   "metadata": {},
   "source": [
    "### Performance"
   ]
  },
  {
   "cell_type": "code",
   "execution_count": 56,
   "metadata": {
    "collapsed": true
   },
   "outputs": [],
   "source": [
    "ss = toy_sipm_signal(nsipm=1792, wl=1000, adc_to_pes=10, signal_range=(1000, 1100), threshold_range=(0.3, 0.7))"
   ]
  },
  {
   "cell_type": "code",
   "execution_count": 57,
   "metadata": {},
   "outputs": [
    {
     "name": "stdout",
     "output_type": "stream",
     "text": [
      "191 ms ± 10.9 ms per loop (mean ± std. dev. of 7 runs, 1 loop each)\n"
     ]
    }
   ],
   "source": [
    "%timeit cpf._signal_sipm(ss.signal_adc, ss.adc_to_pes, ss.common_threshold)"
   ]
  },
  {
   "cell_type": "code",
   "execution_count": 58,
   "metadata": {},
   "outputs": [
    {
     "name": "stdout",
     "output_type": "stream",
     "text": [
      "194 ms ± 13.9 ms per loop (mean ± std. dev. of 7 runs, 1 loop each)\n"
     ]
    }
   ],
   "source": [
    "%timeit cpf._signal_sipm(ss.signal_adc, ss.adc_to_pes, ss.individual_thresholds)"
   ]
  },
  {
   "cell_type": "code",
   "execution_count": 59,
   "metadata": {},
   "outputs": [
    {
     "name": "stdout",
     "output_type": "stream",
     "text": [
      "220 ms ± 4.79 ms per loop (mean ± std. dev. of 7 runs, 1 loop each)\n"
     ]
    }
   ],
   "source": [
    "%timeit cpf.sipm_signal_above_thr_mau(ss.signal_adc, ss.adc_to_pes, ss.common_threshold, n_MAU=100)"
   ]
  },
  {
   "cell_type": "code",
   "execution_count": 60,
   "metadata": {},
   "outputs": [
    {
     "name": "stdout",
     "output_type": "stream",
     "text": [
      "221 ms ± 4.22 ms per loop (mean ± std. dev. of 7 runs, 1 loop each)\n"
     ]
    }
   ],
   "source": [
    "%timeit cpf.sipm_signal_above_thr_mau(ss.signal_adc, ss.adc_to_pes, ss.individual_thresholds, n_MAU=100)"
   ]
  },
  {
   "cell_type": "code",
   "execution_count": 61,
   "metadata": {},
   "outputs": [
    {
     "name": "stdout",
     "output_type": "stream",
     "text": [
      "188 ms ± 13.7 ms per loop (mean ± std. dev. of 7 runs, 1 loop each)\n"
     ]
    }
   ],
   "source": [
    "%timeit cpf.sipm_subtract_baseline_and_normalize_mau(ss.signal_adc, ss.adc_to_pes)"
   ]
  },
  {
   "cell_type": "code",
   "execution_count": 62,
   "metadata": {},
   "outputs": [
    {
     "name": "stdout",
     "output_type": "stream",
     "text": [
      "13.6 ms ± 356 µs per loop (mean ± std. dev. of 7 runs, 100 loops each)\n"
     ]
    }
   ],
   "source": [
    "%timeit cpf.sipm_subtract_baseline_and_normalize(ss.signal_adc, ss.adc_to_pes)"
   ]
  },
  {
   "cell_type": "markdown",
   "metadata": {},
   "source": [
    "#### NB: simple pedestal subtraction is 10 times fsster than MAU functions"
   ]
  },
  {
   "cell_type": "code",
   "execution_count": 63,
   "metadata": {},
   "outputs": [
    {
     "name": "stdout",
     "output_type": "stream",
     "text": [
      "222 ms ± 3.97 ms per loop (mean ± std. dev. of 7 runs, 1 loop each)\n"
     ]
    }
   ],
   "source": [
    "%timeit cpf._signal_sipm(ss.signal_adc, ss.adc_to_pes, ss.common_threshold, Cal=0)"
   ]
  },
  {
   "cell_type": "code",
   "execution_count": 64,
   "metadata": {},
   "outputs": [
    {
     "name": "stdout",
     "output_type": "stream",
     "text": [
      "203 ms ± 3.11 ms per loop (mean ± std. dev. of 7 runs, 1 loop each)\n"
     ]
    }
   ],
   "source": [
    "%timeit cpf._signal_sipm(ss.signal_adc, ss.adc_to_pes, ss.common_threshold, Cal=1)"
   ]
  },
  {
   "cell_type": "code",
   "execution_count": 65,
   "metadata": {},
   "outputs": [
    {
     "name": "stdout",
     "output_type": "stream",
     "text": [
      "200 ms ± 5.06 ms per loop (mean ± std. dev. of 7 runs, 1 loop each)\n"
     ]
    }
   ],
   "source": [
    "%timeit cpf._signal_sipm(ss.signal_adc, ss.adc_to_pes, ss.common_threshold, Cal=2)"
   ]
  },
  {
   "cell_type": "code",
   "execution_count": null,
   "metadata": {
    "collapsed": true
   },
   "outputs": [],
   "source": []
  }
 ],
 "metadata": {
  "kernelspec": {
   "display_name": "Python 3",
   "language": "python",
   "name": "python3"
  },
  "language_info": {
   "codemirror_mode": {
    "name": "ipython",
    "version": 3
   },
   "file_extension": ".py",
   "mimetype": "text/x-python",
   "name": "python",
   "nbconvert_exporter": "python",
   "pygments_lexer": "ipython3",
   "version": "3.6.2"
  }
 },
 "nbformat": 4,
 "nbformat_minor": 2
}
